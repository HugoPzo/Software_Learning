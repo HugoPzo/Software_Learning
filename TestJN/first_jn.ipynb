{
 "cells": [
  {
   "cell_type": "code",
   "id": "initial_id",
   "metadata": {
    "collapsed": true,
    "ExecuteTime": {
     "end_time": "2025-02-20T17:31:03.638094Z",
     "start_time": "2025-02-20T17:31:03.616364Z"
    }
   },
   "source": [
    "import sys\n",
    "\n",
    "import numpy as np"
   ],
   "outputs": [],
   "execution_count": 2
  },
  {
   "metadata": {
    "ExecuteTime": {
     "end_time": "2025-02-20T17:31:27.993412Z",
     "start_time": "2025-02-20T17:31:27.990221Z"
    }
   },
   "cell_type": "code",
   "source": [
    "array_bi = np.array([[4, 8, 46, 12, 5],\n",
    "                    [8, 43, 12, 54, 1]])"
   ],
   "id": "b122d956314a9849",
   "outputs": [],
   "execution_count": 4
  },
  {
   "metadata": {
    "ExecuteTime": {
     "end_time": "2025-02-20T17:31:40.145723Z",
     "start_time": "2025-02-20T17:31:39.477587Z"
    }
   },
   "cell_type": "code",
   "source": "import pandas as pd",
   "id": "65dfead07a989576",
   "outputs": [],
   "execution_count": 5
  },
  {
   "metadata": {
    "ExecuteTime": {
     "end_time": "2025-02-20T17:33:06.105740Z",
     "start_time": "2025-02-20T17:33:06.100685Z"
    }
   },
   "cell_type": "code",
   "source": [
    "array_dataframe = pd.DataFrame(array_bi)\n",
    "array_dataframe"
   ],
   "id": "4d6a34c6f192400f",
   "outputs": [
    {
     "data": {
      "text/plain": [
       "   0   1   2   3  4\n",
       "0  4   8  46  12  5\n",
       "1  8  43  12  54  1"
      ],
      "text/html": [
       "<div>\n",
       "<style scoped>\n",
       "    .dataframe tbody tr th:only-of-type {\n",
       "        vertical-align: middle;\n",
       "    }\n",
       "\n",
       "    .dataframe tbody tr th {\n",
       "        vertical-align: top;\n",
       "    }\n",
       "\n",
       "    .dataframe thead th {\n",
       "        text-align: right;\n",
       "    }\n",
       "</style>\n",
       "<table border=\"1\" class=\"dataframe\">\n",
       "  <thead>\n",
       "    <tr style=\"text-align: right;\">\n",
       "      <th></th>\n",
       "      <th>0</th>\n",
       "      <th>1</th>\n",
       "      <th>2</th>\n",
       "      <th>3</th>\n",
       "      <th>4</th>\n",
       "    </tr>\n",
       "  </thead>\n",
       "  <tbody>\n",
       "    <tr>\n",
       "      <th>0</th>\n",
       "      <td>4</td>\n",
       "      <td>8</td>\n",
       "      <td>46</td>\n",
       "      <td>12</td>\n",
       "      <td>5</td>\n",
       "    </tr>\n",
       "    <tr>\n",
       "      <th>1</th>\n",
       "      <td>8</td>\n",
       "      <td>43</td>\n",
       "      <td>12</td>\n",
       "      <td>54</td>\n",
       "      <td>1</td>\n",
       "    </tr>\n",
       "  </tbody>\n",
       "</table>\n",
       "</div>"
      ]
     },
     "execution_count": 11,
     "metadata": {},
     "output_type": "execute_result"
    }
   ],
   "execution_count": 11
  },
  {
   "metadata": {
    "ExecuteTime": {
     "end_time": "2025-02-20T17:45:51.875346Z",
     "start_time": "2025-02-20T17:45:51.791570Z"
    }
   },
   "cell_type": "code",
   "source": [
    "from matplotlib import pyplot as plt\n",
    "\n",
    "data = {'Year': [2010, 2011, 2012, 2013, 2014, 2015, 2016, 2017],\n",
    "        'Sales': [653, 243, 124, 231, 532, 23, 186, 213]}\n",
    "\n",
    "x_points = data['Year']\n",
    "y_points = data['Sales']\n",
    "\n",
    "data_graph = plt.plot(x_points, y_points)"
   ],
   "id": "2b068f55640f60c7",
   "outputs": [
    {
     "data": {
      "text/plain": [
       "<Figure size 640x480 with 1 Axes>"
      ],
      "image/png": "[encoded data removed]"
     },
     "metadata": {},
     "output_type": "display_data"
    }
   ],
   "execution_count": 26
  },
  {
   "metadata": {
    "ExecuteTime": {
     "end_time": "2025-02-20T18:24:45.938865Z",
     "start_time": "2025-02-20T18:24:45.818121Z"
    }
   },
   "cell_type": "code",
   "source": [
    "import requests\n",
    "from bs4 import BeautifulSoup\n",
    "\n",
    "school_path = 'https://www.aragon.unam.mx/fes-aragon/'\n",
    "response = requests.get(school_path)\n",
    "\n",
    "\n",
    "soup = BeautifulSoup(response.text, 'lxml')\n",
    "\n",
    "menu_path = '#menu > ul > li > a'\n",
    "products_menu = soup.select(menu_path)\n",
    "\n",
    "\n",
    "for product in products_menu:\n",
    "    print(product.text.strip())"
   ],
   "id": "427d07674f5cc244",
   "outputs": [
    {
     "name": "stdout",
     "output_type": "stream",
     "text": [
      "INICIO\n",
      "OFERTA ACADÉMICA\n",
      "INVESTIGACIÓN\n",
      "CISE\n",
      "VIDA UNIVERSITARIA\n",
      "PRIMERA RESPUESTA\n",
      "NUESTRA FACULTAD\n"
     ]
    }
   ],
   "execution_count": 25
  },
  {
   "metadata": {
    "ExecuteTime": {
     "end_time": "2025-02-20T18:15:35.663985Z",
     "start_time": "2025-02-20T18:15:27.006277Z"
    }
   },
   "cell_type": "code",
   "source": [
    "from time import sleep\n",
    "from selenium import webdriver\n",
    "from selenium.webdriver import ActionChains, Keys\n",
    "from selenium.webdriver.common.by import By\n",
    "\n",
    "\n",
    "URL = 'https://www.aragon.unam.mx/fes-aragon/'\n",
    "driver = webdriver.Firefox()\n",
    "\n",
    "def main():\n",
    "    driver.get(URL)\n",
    "\n",
    "if __name__ == '__main__':\n",
    "    main()"
   ],
   "id": "c076de4c5ed5044e",
   "outputs": [],
   "execution_count": 3
  },
  {
   "metadata": {
    "ExecuteTime": {
     "end_time": "2025-02-20T18:15:12.635952830Z",
     "start_time": "2025-02-20T18:12:43.762099Z"
    }
   },
   "cell_type": "code",
   "source": [
    "from PyQt6.QtWidgets import QApplication, QMainWindow\n",
    "\n",
    "\n",
    "class MainWindow(QMainWindow):\n",
    "    def __init__(self):\n",
    "        super().__init__()\n",
    "\n",
    "\n",
    "    def initUI(self):\n",
    "        self.setWindowTitle('Fes Aragon')\n",
    "\n",
    "\n",
    "\n",
    "if __name__ == '__main__':\n",
    "    app = QApplication(sys.argv)\n",
    "    main = MainWindow()\n",
    "    main.show()\n",
    "    sys.exit(app.exec())"
   ],
   "id": "9f2148f8c8c677cb",
   "outputs": [],
   "execution_count": null
  }
 ],
 "metadata": {
  "kernelspec": {
   "display_name": "Python 3",
   "language": "python",
   "name": "python3"
  },
  "language_info": {
   "codemirror_mode": {
    "name": "ipython",
    "version": 2
   },
   "file_extension": ".py",
   "mimetype": "text/x-python",
   "name": "python",
   "nbconvert_exporter": "python",
   "pygments_lexer": "ipython2",
   "version": "2.7.6"
  }
 },
 "nbformat": 4,
 "nbformat_minor": 5
}
