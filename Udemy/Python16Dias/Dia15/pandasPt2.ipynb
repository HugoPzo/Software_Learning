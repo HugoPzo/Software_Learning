{
 "cells": [
  {
   "metadata": {},
   "cell_type": "markdown",
   "source": "### Solo en Google Drive\n",
   "id": "de732ad0ce9c09bb"
  },
  {
   "metadata": {
    "collapsed": true
   },
   "cell_type": "code",
   "outputs": [],
   "execution_count": null,
   "source": [
    "import pandas as pd\n",
    "# Conectamos el cuaderno actual con nuestro Drive\n",
    "\n",
    "from google.colab import drive\n",
    "from holoviews.plotting.bokeh.styles import marker\n",
    "from matplotlib.lines import lineStyles\n",
    "\n",
    "drive.mount(\"/content/drive\")\n",
    "\n",
    "# Importar \"ventas-autos.csv\" y convertirlo en un nuevo DATAFRAME\n",
    "\n",
    "ventas_autos = pd.read_csv('/content/drive/MyDrive/ventas-autos.csv')\n",
    "ventas_autos\n",
    "\n",
    "# Exportar el Dataframe como un archivo CSV a mi carpeta '/content/drive/MyDrive/ventas-autos.csv'\n",
    "ventas_autos.to_csv(\"/content/drive/MyDrive/Colab Notebooks/pruebas/\")"
   ],
   "id": "initial_id"
  },
  {
   "metadata": {},
   "cell_type": "markdown",
   "source": "---",
   "id": "b0b5738cadbc7ecc"
  },
  {
   "metadata": {
    "ExecuteTime": {
     "end_time": "2025-02-22T17:31:06.762700Z",
     "start_time": "2025-02-22T17:31:06.757621Z"
    }
   },
   "cell_type": "code",
   "source": "import pandas as pd",
   "id": "2501237c3e3b6984",
   "outputs": [],
   "execution_count": 1
  },
  {
   "metadata": {
    "ExecuteTime": {
     "end_time": "2025-02-22T17:31:07.337944Z",
     "start_time": "2025-02-22T17:31:07.319887Z"
    }
   },
   "cell_type": "code",
   "source": [
    "# Importamos \"ventas-autos.csv\"\n",
    "ventas_autos = pd.read_csv('ventas-autos.csv')\n",
    "ventas_autos"
   ],
   "id": "4ab46f900fe5a9e9",
   "outputs": [
    {
     "data": {
      "text/plain": [
       "  Fabricante   Color  Kilometraje  Puertas Precio (USD)\n",
       "0     Toyota  Blanco       150043        4    $4,000.00\n",
       "1      Honda    Rojo        87899        4    $5,000.00\n",
       "2     Toyota    Azul        32549        3    $7,000.00\n",
       "3        BMW   Negro        11179        5   $22,000.00\n",
       "4     Nissan  Blanco       213095        4    $3,500.00\n",
       "5     Toyota    Rojo        99213        4    $4,500.00\n",
       "6      Honda  Blanco        45698        4    $7,500.00\n",
       "7      Honda  Blanco        54738        4    $7,000.00\n",
       "8     Toyota  Blanco        60000        4    $6,250.00\n",
       "9     Nissan    Rojo        31600        4    $9,700.00"
      ],
      "text/html": [
       "<div>\n",
       "<style scoped>\n",
       "    .dataframe tbody tr th:only-of-type {\n",
       "        vertical-align: middle;\n",
       "    }\n",
       "\n",
       "    .dataframe tbody tr th {\n",
       "        vertical-align: top;\n",
       "    }\n",
       "\n",
       "    .dataframe thead th {\n",
       "        text-align: right;\n",
       "    }\n",
       "</style>\n",
       "<table border=\"1\" class=\"dataframe\">\n",
       "  <thead>\n",
       "    <tr style=\"text-align: right;\">\n",
       "      <th></th>\n",
       "      <th>Fabricante</th>\n",
       "      <th>Color</th>\n",
       "      <th>Kilometraje</th>\n",
       "      <th>Puertas</th>\n",
       "      <th>Precio (USD)</th>\n",
       "    </tr>\n",
       "  </thead>\n",
       "  <tbody>\n",
       "    <tr>\n",
       "      <th>0</th>\n",
       "      <td>Toyota</td>\n",
       "      <td>Blanco</td>\n",
       "      <td>150043</td>\n",
       "      <td>4</td>\n",
       "      <td>$4,000.00</td>\n",
       "    </tr>\n",
       "    <tr>\n",
       "      <th>1</th>\n",
       "      <td>Honda</td>\n",
       "      <td>Rojo</td>\n",
       "      <td>87899</td>\n",
       "      <td>4</td>\n",
       "      <td>$5,000.00</td>\n",
       "    </tr>\n",
       "    <tr>\n",
       "      <th>2</th>\n",
       "      <td>Toyota</td>\n",
       "      <td>Azul</td>\n",
       "      <td>32549</td>\n",
       "      <td>3</td>\n",
       "      <td>$7,000.00</td>\n",
       "    </tr>\n",
       "    <tr>\n",
       "      <th>3</th>\n",
       "      <td>BMW</td>\n",
       "      <td>Negro</td>\n",
       "      <td>11179</td>\n",
       "      <td>5</td>\n",
       "      <td>$22,000.00</td>\n",
       "    </tr>\n",
       "    <tr>\n",
       "      <th>4</th>\n",
       "      <td>Nissan</td>\n",
       "      <td>Blanco</td>\n",
       "      <td>213095</td>\n",
       "      <td>4</td>\n",
       "      <td>$3,500.00</td>\n",
       "    </tr>\n",
       "    <tr>\n",
       "      <th>5</th>\n",
       "      <td>Toyota</td>\n",
       "      <td>Rojo</td>\n",
       "      <td>99213</td>\n",
       "      <td>4</td>\n",
       "      <td>$4,500.00</td>\n",
       "    </tr>\n",
       "    <tr>\n",
       "      <th>6</th>\n",
       "      <td>Honda</td>\n",
       "      <td>Blanco</td>\n",
       "      <td>45698</td>\n",
       "      <td>4</td>\n",
       "      <td>$7,500.00</td>\n",
       "    </tr>\n",
       "    <tr>\n",
       "      <th>7</th>\n",
       "      <td>Honda</td>\n",
       "      <td>Blanco</td>\n",
       "      <td>54738</td>\n",
       "      <td>4</td>\n",
       "      <td>$7,000.00</td>\n",
       "    </tr>\n",
       "    <tr>\n",
       "      <th>8</th>\n",
       "      <td>Toyota</td>\n",
       "      <td>Blanco</td>\n",
       "      <td>60000</td>\n",
       "      <td>4</td>\n",
       "      <td>$6,250.00</td>\n",
       "    </tr>\n",
       "    <tr>\n",
       "      <th>9</th>\n",
       "      <td>Nissan</td>\n",
       "      <td>Rojo</td>\n",
       "      <td>31600</td>\n",
       "      <td>4</td>\n",
       "      <td>$9,700.00</td>\n",
       "    </tr>\n",
       "  </tbody>\n",
       "</table>\n",
       "</div>"
      ]
     },
     "execution_count": 2,
     "metadata": {},
     "output_type": "execute_result"
    }
   ],
   "execution_count": 2
  },
  {
   "metadata": {
    "ExecuteTime": {
     "end_time": "2025-02-22T17:31:34.803911Z",
     "start_time": "2025-02-22T17:31:34.798907Z"
    }
   },
   "cell_type": "code",
   "source": [
    " # Analicemos los tipos de datos disponibles en el dataset de ventas autos\n",
    "ventas_autos.dtypes"
   ],
   "id": "38f0077062e144ad",
   "outputs": [
    {
     "data": {
      "text/plain": [
       "Fabricante      object\n",
       "Color           object\n",
       "Kilometraje      int64\n",
       "Puertas          int64\n",
       "Precio (USD)    object\n",
       "dtype: object"
      ]
     },
     "execution_count": 3,
     "metadata": {},
     "output_type": "execute_result"
    }
   ],
   "execution_count": 3
  },
  {
   "metadata": {
    "ExecuteTime": {
     "end_time": "2025-02-22T17:31:53.714502Z",
     "start_time": "2025-02-22T17:31:53.702985Z"
    }
   },
   "cell_type": "code",
   "source": [
    "# Apliquemos estadística descriptiva (cantidad de valores, media, desviación estándar, valores mínimos y máximos, cuartiles) al dataset - solo de valores numericos\n",
    "\n",
    "ventas_autos.describe()"
   ],
   "id": "ba6cccdbda45c334",
   "outputs": [
    {
     "data": {
      "text/plain": [
       "         Kilometraje    Puertas\n",
       "count      10.000000  10.000000\n",
       "mean    78601.400000   4.000000\n",
       "std     61983.471735   0.471405\n",
       "min     11179.000000   3.000000\n",
       "25%     35836.250000   4.000000\n",
       "50%     57369.000000   4.000000\n",
       "75%     96384.500000   4.000000\n",
       "max    213095.000000   5.000000"
      ],
      "text/html": [
       "<div>\n",
       "<style scoped>\n",
       "    .dataframe tbody tr th:only-of-type {\n",
       "        vertical-align: middle;\n",
       "    }\n",
       "\n",
       "    .dataframe tbody tr th {\n",
       "        vertical-align: top;\n",
       "    }\n",
       "\n",
       "    .dataframe thead th {\n",
       "        text-align: right;\n",
       "    }\n",
       "</style>\n",
       "<table border=\"1\" class=\"dataframe\">\n",
       "  <thead>\n",
       "    <tr style=\"text-align: right;\">\n",
       "      <th></th>\n",
       "      <th>Kilometraje</th>\n",
       "      <th>Puertas</th>\n",
       "    </tr>\n",
       "  </thead>\n",
       "  <tbody>\n",
       "    <tr>\n",
       "      <th>count</th>\n",
       "      <td>10.000000</td>\n",
       "      <td>10.000000</td>\n",
       "    </tr>\n",
       "    <tr>\n",
       "      <th>mean</th>\n",
       "      <td>78601.400000</td>\n",
       "      <td>4.000000</td>\n",
       "    </tr>\n",
       "    <tr>\n",
       "      <th>std</th>\n",
       "      <td>61983.471735</td>\n",
       "      <td>0.471405</td>\n",
       "    </tr>\n",
       "    <tr>\n",
       "      <th>min</th>\n",
       "      <td>11179.000000</td>\n",
       "      <td>3.000000</td>\n",
       "    </tr>\n",
       "    <tr>\n",
       "      <th>25%</th>\n",
       "      <td>35836.250000</td>\n",
       "      <td>4.000000</td>\n",
       "    </tr>\n",
       "    <tr>\n",
       "      <th>50%</th>\n",
       "      <td>57369.000000</td>\n",
       "      <td>4.000000</td>\n",
       "    </tr>\n",
       "    <tr>\n",
       "      <th>75%</th>\n",
       "      <td>96384.500000</td>\n",
       "      <td>4.000000</td>\n",
       "    </tr>\n",
       "    <tr>\n",
       "      <th>max</th>\n",
       "      <td>213095.000000</td>\n",
       "      <td>5.000000</td>\n",
       "    </tr>\n",
       "  </tbody>\n",
       "</table>\n",
       "</div>"
      ]
     },
     "execution_count": 4,
     "metadata": {},
     "output_type": "execute_result"
    }
   ],
   "execution_count": 4
  },
  {
   "metadata": {
    "ExecuteTime": {
     "end_time": "2025-02-22T17:32:49.810523Z",
     "start_time": "2025-02-22T17:32:49.805394Z"
    }
   },
   "cell_type": "code",
   "source": [
    "# Convertir columnaa de Precio en Flotantes\n",
    "ventas_autos['Precio (USD)'] = ventas_autos['Precio (USD)'].replace(r'[\\$,]', '', regex=True).astype(float)"
   ],
   "id": "f4fa398c444f64a",
   "outputs": [],
   "execution_count": 5
  },
  {
   "metadata": {
    "ExecuteTime": {
     "end_time": "2025-02-22T17:33:06.913615Z",
     "start_time": "2025-02-22T17:33:06.904050Z"
    }
   },
   "cell_type": "code",
   "source": [
    "# Obtenemos información del dataset utilizando info()\n",
    "ventas_autos.info()"
   ],
   "id": "d64e104fa80ecf39",
   "outputs": [
    {
     "name": "stdout",
     "output_type": "stream",
     "text": [
      "<class 'pandas.core.frame.DataFrame'>\n",
      "RangeIndex: 10 entries, 0 to 9\n",
      "Data columns (total 5 columns):\n",
      " #   Column        Non-Null Count  Dtype  \n",
      "---  ------        --------------  -----  \n",
      " 0   Fabricante    10 non-null     object \n",
      " 1   Color         10 non-null     object \n",
      " 2   Kilometraje   10 non-null     int64  \n",
      " 3   Puertas       10 non-null     int64  \n",
      " 4   Precio (USD)  10 non-null     float64\n",
      "dtypes: float64(1), int64(2), object(2)\n",
      "memory usage: 532.0+ bytes\n"
     ]
    }
   ],
   "execution_count": 6
  },
  {
   "metadata": {
    "ExecuteTime": {
     "end_time": "2025-02-22T17:33:21.495856Z",
     "start_time": "2025-02-22T17:33:21.489227Z"
    }
   },
   "cell_type": "code",
   "source": [
    "# Listamos los nombres de las columnas de nuestro dataset\n",
    "ventas_autos.columns"
   ],
   "id": "b824162b01d6a64d",
   "outputs": [
    {
     "data": {
      "text/plain": [
       "Index(['Fabricante', 'Color', 'Kilometraje', 'Puertas', 'Precio (USD)'], dtype='object')"
      ]
     },
     "execution_count": 7,
     "metadata": {},
     "output_type": "execute_result"
    }
   ],
   "execution_count": 7
  },
  {
   "metadata": {
    "ExecuteTime": {
     "end_time": "2025-02-22T17:33:37.683555Z",
     "start_time": "2025-02-22T17:33:37.679298Z"
    }
   },
   "cell_type": "code",
   "source": [
    "# Averiguamos el \"largo\" de nuestro dataset\n",
    "len(ventas_autos)"
   ],
   "id": "7104f78003e66400",
   "outputs": [
    {
     "data": {
      "text/plain": [
       "10"
      ]
     },
     "execution_count": 8,
     "metadata": {},
     "output_type": "execute_result"
    }
   ],
   "execution_count": 8
  },
  {
   "metadata": {
    "ExecuteTime": {
     "end_time": "2025-02-22T17:35:09.964585Z",
     "start_time": "2025-02-22T17:35:09.949438Z"
    }
   },
   "cell_type": "code",
   "source": [
    "# Mostramos las primeras 5 filas del dataset\n",
    "ventas_autos.head() # .head(5, 1, 3)"
   ],
   "id": "976c6377f289dc09",
   "outputs": [
    {
     "data": {
      "text/plain": [
       "  Fabricante   Color  Kilometraje  Puertas  Precio (USD)\n",
       "0     Toyota  Blanco       150043        4        4000.0\n",
       "1      Honda    Rojo        87899        4        5000.0\n",
       "2     Toyota    Azul        32549        3        7000.0\n",
       "3        BMW   Negro        11179        5       22000.0\n",
       "4     Nissan  Blanco       213095        4        3500.0"
      ],
      "text/html": [
       "<div>\n",
       "<style scoped>\n",
       "    .dataframe tbody tr th:only-of-type {\n",
       "        vertical-align: middle;\n",
       "    }\n",
       "\n",
       "    .dataframe tbody tr th {\n",
       "        vertical-align: top;\n",
       "    }\n",
       "\n",
       "    .dataframe thead th {\n",
       "        text-align: right;\n",
       "    }\n",
       "</style>\n",
       "<table border=\"1\" class=\"dataframe\">\n",
       "  <thead>\n",
       "    <tr style=\"text-align: right;\">\n",
       "      <th></th>\n",
       "      <th>Fabricante</th>\n",
       "      <th>Color</th>\n",
       "      <th>Kilometraje</th>\n",
       "      <th>Puertas</th>\n",
       "      <th>Precio (USD)</th>\n",
       "    </tr>\n",
       "  </thead>\n",
       "  <tbody>\n",
       "    <tr>\n",
       "      <th>0</th>\n",
       "      <td>Toyota</td>\n",
       "      <td>Blanco</td>\n",
       "      <td>150043</td>\n",
       "      <td>4</td>\n",
       "      <td>4000.0</td>\n",
       "    </tr>\n",
       "    <tr>\n",
       "      <th>1</th>\n",
       "      <td>Honda</td>\n",
       "      <td>Rojo</td>\n",
       "      <td>87899</td>\n",
       "      <td>4</td>\n",
       "      <td>5000.0</td>\n",
       "    </tr>\n",
       "    <tr>\n",
       "      <th>2</th>\n",
       "      <td>Toyota</td>\n",
       "      <td>Azul</td>\n",
       "      <td>32549</td>\n",
       "      <td>3</td>\n",
       "      <td>7000.0</td>\n",
       "    </tr>\n",
       "    <tr>\n",
       "      <th>3</th>\n",
       "      <td>BMW</td>\n",
       "      <td>Negro</td>\n",
       "      <td>11179</td>\n",
       "      <td>5</td>\n",
       "      <td>22000.0</td>\n",
       "    </tr>\n",
       "    <tr>\n",
       "      <th>4</th>\n",
       "      <td>Nissan</td>\n",
       "      <td>Blanco</td>\n",
       "      <td>213095</td>\n",
       "      <td>4</td>\n",
       "      <td>3500.0</td>\n",
       "    </tr>\n",
       "  </tbody>\n",
       "</table>\n",
       "</div>"
      ]
     },
     "execution_count": 10,
     "metadata": {},
     "output_type": "execute_result"
    }
   ],
   "execution_count": 10
  },
  {
   "metadata": {
    "ExecuteTime": {
     "end_time": "2025-02-22T17:35:12.478716Z",
     "start_time": "2025-02-22T17:35:12.467844Z"
    }
   },
   "cell_type": "code",
   "source": [
    "# Mostramos las primeras 7 filas del dataset\n",
    "ventas_autos.head(7)"
   ],
   "id": "db4db07e1498bb5c",
   "outputs": [
    {
     "data": {
      "text/plain": [
       "  Fabricante   Color  Kilometraje  Puertas  Precio (USD)\n",
       "0     Toyota  Blanco       150043        4        4000.0\n",
       "1      Honda    Rojo        87899        4        5000.0\n",
       "2     Toyota    Azul        32549        3        7000.0\n",
       "3        BMW   Negro        11179        5       22000.0\n",
       "4     Nissan  Blanco       213095        4        3500.0\n",
       "5     Toyota    Rojo        99213        4        4500.0\n",
       "6      Honda  Blanco        45698        4        7500.0"
      ],
      "text/html": [
       "<div>\n",
       "<style scoped>\n",
       "    .dataframe tbody tr th:only-of-type {\n",
       "        vertical-align: middle;\n",
       "    }\n",
       "\n",
       "    .dataframe tbody tr th {\n",
       "        vertical-align: top;\n",
       "    }\n",
       "\n",
       "    .dataframe thead th {\n",
       "        text-align: right;\n",
       "    }\n",
       "</style>\n",
       "<table border=\"1\" class=\"dataframe\">\n",
       "  <thead>\n",
       "    <tr style=\"text-align: right;\">\n",
       "      <th></th>\n",
       "      <th>Fabricante</th>\n",
       "      <th>Color</th>\n",
       "      <th>Kilometraje</th>\n",
       "      <th>Puertas</th>\n",
       "      <th>Precio (USD)</th>\n",
       "    </tr>\n",
       "  </thead>\n",
       "  <tbody>\n",
       "    <tr>\n",
       "      <th>0</th>\n",
       "      <td>Toyota</td>\n",
       "      <td>Blanco</td>\n",
       "      <td>150043</td>\n",
       "      <td>4</td>\n",
       "      <td>4000.0</td>\n",
       "    </tr>\n",
       "    <tr>\n",
       "      <th>1</th>\n",
       "      <td>Honda</td>\n",
       "      <td>Rojo</td>\n",
       "      <td>87899</td>\n",
       "      <td>4</td>\n",
       "      <td>5000.0</td>\n",
       "    </tr>\n",
       "    <tr>\n",
       "      <th>2</th>\n",
       "      <td>Toyota</td>\n",
       "      <td>Azul</td>\n",
       "      <td>32549</td>\n",
       "      <td>3</td>\n",
       "      <td>7000.0</td>\n",
       "    </tr>\n",
       "    <tr>\n",
       "      <th>3</th>\n",
       "      <td>BMW</td>\n",
       "      <td>Negro</td>\n",
       "      <td>11179</td>\n",
       "      <td>5</td>\n",
       "      <td>22000.0</td>\n",
       "    </tr>\n",
       "    <tr>\n",
       "      <th>4</th>\n",
       "      <td>Nissan</td>\n",
       "      <td>Blanco</td>\n",
       "      <td>213095</td>\n",
       "      <td>4</td>\n",
       "      <td>3500.0</td>\n",
       "    </tr>\n",
       "    <tr>\n",
       "      <th>5</th>\n",
       "      <td>Toyota</td>\n",
       "      <td>Rojo</td>\n",
       "      <td>99213</td>\n",
       "      <td>4</td>\n",
       "      <td>4500.0</td>\n",
       "    </tr>\n",
       "    <tr>\n",
       "      <th>6</th>\n",
       "      <td>Honda</td>\n",
       "      <td>Blanco</td>\n",
       "      <td>45698</td>\n",
       "      <td>4</td>\n",
       "      <td>7500.0</td>\n",
       "    </tr>\n",
       "  </tbody>\n",
       "</table>\n",
       "</div>"
      ]
     },
     "execution_count": 11,
     "metadata": {},
     "output_type": "execute_result"
    }
   ],
   "execution_count": 11
  },
  {
   "metadata": {
    "ExecuteTime": {
     "end_time": "2025-02-22T17:35:18.266225Z",
     "start_time": "2025-02-22T17:35:18.247729Z"
    }
   },
   "cell_type": "code",
   "source": [
    "# Mostramos las últimas 5 filas del dataset\n",
    "ventas_autos.tail()"
   ],
   "id": "681251e000453e78",
   "outputs": [
    {
     "data": {
      "text/plain": [
       "  Fabricante   Color  Kilometraje  Puertas  Precio (USD)\n",
       "5     Toyota    Rojo        99213        4        4500.0\n",
       "6      Honda  Blanco        45698        4        7500.0\n",
       "7      Honda  Blanco        54738        4        7000.0\n",
       "8     Toyota  Blanco        60000        4        6250.0\n",
       "9     Nissan    Rojo        31600        4        9700.0"
      ],
      "text/html": [
       "<div>\n",
       "<style scoped>\n",
       "    .dataframe tbody tr th:only-of-type {\n",
       "        vertical-align: middle;\n",
       "    }\n",
       "\n",
       "    .dataframe tbody tr th {\n",
       "        vertical-align: top;\n",
       "    }\n",
       "\n",
       "    .dataframe thead th {\n",
       "        text-align: right;\n",
       "    }\n",
       "</style>\n",
       "<table border=\"1\" class=\"dataframe\">\n",
       "  <thead>\n",
       "    <tr style=\"text-align: right;\">\n",
       "      <th></th>\n",
       "      <th>Fabricante</th>\n",
       "      <th>Color</th>\n",
       "      <th>Kilometraje</th>\n",
       "      <th>Puertas</th>\n",
       "      <th>Precio (USD)</th>\n",
       "    </tr>\n",
       "  </thead>\n",
       "  <tbody>\n",
       "    <tr>\n",
       "      <th>5</th>\n",
       "      <td>Toyota</td>\n",
       "      <td>Rojo</td>\n",
       "      <td>99213</td>\n",
       "      <td>4</td>\n",
       "      <td>4500.0</td>\n",
       "    </tr>\n",
       "    <tr>\n",
       "      <th>6</th>\n",
       "      <td>Honda</td>\n",
       "      <td>Blanco</td>\n",
       "      <td>45698</td>\n",
       "      <td>4</td>\n",
       "      <td>7500.0</td>\n",
       "    </tr>\n",
       "    <tr>\n",
       "      <th>7</th>\n",
       "      <td>Honda</td>\n",
       "      <td>Blanco</td>\n",
       "      <td>54738</td>\n",
       "      <td>4</td>\n",
       "      <td>7000.0</td>\n",
       "    </tr>\n",
       "    <tr>\n",
       "      <th>8</th>\n",
       "      <td>Toyota</td>\n",
       "      <td>Blanco</td>\n",
       "      <td>60000</td>\n",
       "      <td>4</td>\n",
       "      <td>6250.0</td>\n",
       "    </tr>\n",
       "    <tr>\n",
       "      <th>9</th>\n",
       "      <td>Nissan</td>\n",
       "      <td>Rojo</td>\n",
       "      <td>31600</td>\n",
       "      <td>4</td>\n",
       "      <td>9700.0</td>\n",
       "    </tr>\n",
       "  </tbody>\n",
       "</table>\n",
       "</div>"
      ]
     },
     "execution_count": 13,
     "metadata": {},
     "output_type": "execute_result"
    }
   ],
   "execution_count": 13
  },
  {
   "metadata": {
    "ExecuteTime": {
     "end_time": "2025-02-22T17:48:20.830194Z",
     "start_time": "2025-02-22T17:48:20.823295Z"
    }
   },
   "cell_type": "code",
   "source": [
    "# Utilizamos .loc para seleccionar la fila de índice 3 del DataFrame\n",
    "ventas_autos.loc[3]"
   ],
   "id": "a34689e5b702be40",
   "outputs": [
    {
     "data": {
      "text/plain": [
       "Fabricante          BMW\n",
       "Color             Negro\n",
       "Kilometraje       11179\n",
       "Puertas               5\n",
       "Precio (USD)    22000.0\n",
       "Name: 3, dtype: object"
      ]
     },
     "execution_count": 15,
     "metadata": {},
     "output_type": "execute_result"
    }
   ],
   "execution_count": 15
  },
  {
   "metadata": {
    "ExecuteTime": {
     "end_time": "2025-02-22T17:48:39.173981Z",
     "start_time": "2025-02-22T17:48:39.154218Z"
    }
   },
   "cell_type": "code",
   "source": [
    "# Utilizamos .iloc para seleccionar las filas 3, 7 y 9\n",
    "ventas_autos.iloc[[3, 7, 9]]"
   ],
   "id": "6805ff773f91b78e",
   "outputs": [
    {
     "data": {
      "text/plain": [
       "  Fabricante   Color  Kilometraje  Puertas  Precio (USD)\n",
       "3        BMW   Negro        11179        5       22000.0\n",
       "7      Honda  Blanco        54738        4        7000.0\n",
       "9     Nissan    Rojo        31600        4        9700.0"
      ],
      "text/html": [
       "<div>\n",
       "<style scoped>\n",
       "    .dataframe tbody tr th:only-of-type {\n",
       "        vertical-align: middle;\n",
       "    }\n",
       "\n",
       "    .dataframe tbody tr th {\n",
       "        vertical-align: top;\n",
       "    }\n",
       "\n",
       "    .dataframe thead th {\n",
       "        text-align: right;\n",
       "    }\n",
       "</style>\n",
       "<table border=\"1\" class=\"dataframe\">\n",
       "  <thead>\n",
       "    <tr style=\"text-align: right;\">\n",
       "      <th></th>\n",
       "      <th>Fabricante</th>\n",
       "      <th>Color</th>\n",
       "      <th>Kilometraje</th>\n",
       "      <th>Puertas</th>\n",
       "      <th>Precio (USD)</th>\n",
       "    </tr>\n",
       "  </thead>\n",
       "  <tbody>\n",
       "    <tr>\n",
       "      <th>3</th>\n",
       "      <td>BMW</td>\n",
       "      <td>Negro</td>\n",
       "      <td>11179</td>\n",
       "      <td>5</td>\n",
       "      <td>22000.0</td>\n",
       "    </tr>\n",
       "    <tr>\n",
       "      <th>7</th>\n",
       "      <td>Honda</td>\n",
       "      <td>Blanco</td>\n",
       "      <td>54738</td>\n",
       "      <td>4</td>\n",
       "      <td>7000.0</td>\n",
       "    </tr>\n",
       "    <tr>\n",
       "      <th>9</th>\n",
       "      <td>Nissan</td>\n",
       "      <td>Rojo</td>\n",
       "      <td>31600</td>\n",
       "      <td>4</td>\n",
       "      <td>9700.0</td>\n",
       "    </tr>\n",
       "  </tbody>\n",
       "</table>\n",
       "</div>"
      ]
     },
     "execution_count": 16,
     "metadata": {},
     "output_type": "execute_result"
    }
   ],
   "execution_count": 16
  },
  {
   "metadata": {
    "ExecuteTime": {
     "end_time": "2025-02-22T17:48:50.022226Z",
     "start_time": "2025-02-22T17:48:50.018710Z"
    }
   },
   "cell_type": "code",
   "source": [
    "# Seleccionar la columna \"Kilometraje\"\n",
    "autos_km = ventas_autos['Kilometraje']"
   ],
   "id": "8fd24fed60f8c4fb",
   "outputs": [],
   "execution_count": 17
  },
  {
   "metadata": {
    "ExecuteTime": {
     "end_time": "2025-02-22T17:48:55.305727Z",
     "start_time": "2025-02-22T17:48:55.299723Z"
    }
   },
   "cell_type": "code",
   "source": [
    "# Encontrar el valor medio de la columnas \"Kilometraje\"\n",
    "autos_km.mean()"
   ],
   "id": "8b74a7b8d694132c",
   "outputs": [
    {
     "data": {
      "text/plain": [
       "78601.4"
      ]
     },
     "execution_count": 18,
     "metadata": {},
     "output_type": "execute_result"
    }
   ],
   "execution_count": 18
  },
  {
   "metadata": {
    "ExecuteTime": {
     "end_time": "2025-02-22T17:48:58.705611Z",
     "start_time": "2025-02-22T17:48:58.694554Z"
    }
   },
   "cell_type": "code",
   "source": [
    "# Seleccionar aquellas columnas que tengan valores superiores a 100,000 kilómetros en la columna Kilometraje\n",
    "autos_km > 100000\n"
   ],
   "id": "7d8396e813ed8053",
   "outputs": [
    {
     "data": {
      "text/plain": [
       "0     True\n",
       "1    False\n",
       "2    False\n",
       "3    False\n",
       "4     True\n",
       "5    False\n",
       "6    False\n",
       "7    False\n",
       "8    False\n",
       "9    False\n",
       "Name: Kilometraje, dtype: bool"
      ]
     },
     "execution_count": 19,
     "metadata": {},
     "output_type": "execute_result"
    }
   ],
   "execution_count": 19
  },
  {
   "metadata": {
    "ExecuteTime": {
     "end_time": "2025-02-22T17:49:11.687888Z",
     "start_time": "2025-02-22T17:49:11.680217Z"
    }
   },
   "cell_type": "code",
   "source": "ventas_autos[autos_km > 100000]",
   "id": "38366f8fad24df60",
   "outputs": [
    {
     "data": {
      "text/plain": [
       "  Fabricante   Color  Kilometraje  Puertas  Precio (USD)\n",
       "0     Toyota  Blanco       150043        4        4000.0\n",
       "4     Nissan  Blanco       213095        4        3500.0"
      ],
      "text/html": [
       "<div>\n",
       "<style scoped>\n",
       "    .dataframe tbody tr th:only-of-type {\n",
       "        vertical-align: middle;\n",
       "    }\n",
       "\n",
       "    .dataframe tbody tr th {\n",
       "        vertical-align: top;\n",
       "    }\n",
       "\n",
       "    .dataframe thead th {\n",
       "        text-align: right;\n",
       "    }\n",
       "</style>\n",
       "<table border=\"1\" class=\"dataframe\">\n",
       "  <thead>\n",
       "    <tr style=\"text-align: right;\">\n",
       "      <th></th>\n",
       "      <th>Fabricante</th>\n",
       "      <th>Color</th>\n",
       "      <th>Kilometraje</th>\n",
       "      <th>Puertas</th>\n",
       "      <th>Precio (USD)</th>\n",
       "    </tr>\n",
       "  </thead>\n",
       "  <tbody>\n",
       "    <tr>\n",
       "      <th>0</th>\n",
       "      <td>Toyota</td>\n",
       "      <td>Blanco</td>\n",
       "      <td>150043</td>\n",
       "      <td>4</td>\n",
       "      <td>4000.0</td>\n",
       "    </tr>\n",
       "    <tr>\n",
       "      <th>4</th>\n",
       "      <td>Nissan</td>\n",
       "      <td>Blanco</td>\n",
       "      <td>213095</td>\n",
       "      <td>4</td>\n",
       "      <td>3500.0</td>\n",
       "    </tr>\n",
       "  </tbody>\n",
       "</table>\n",
       "</div>"
      ]
     },
     "execution_count": 20,
     "metadata": {},
     "output_type": "execute_result"
    }
   ],
   "execution_count": 20
  },
  {
   "metadata": {
    "ExecuteTime": {
     "end_time": "2025-02-22T17:50:27.378018Z",
     "start_time": "2025-02-22T17:50:27.366350Z"
    }
   },
   "cell_type": "code",
   "source": [
    "# Creamos una tabla cruzada de doble entrada entre Fabricante y cantidad de puertas\n",
    "pd.crosstab(ventas_autos['Fabricante'],  ventas_autos['Puertas'])"
   ],
   "id": "eeb2f63097161b2f",
   "outputs": [
    {
     "data": {
      "text/plain": [
       "Puertas     3  4  5\n",
       "Fabricante         \n",
       "BMW         0  0  1\n",
       "Honda       0  3  0\n",
       "Nissan      0  2  0\n",
       "Toyota      1  3  0"
      ],
      "text/html": [
       "<div>\n",
       "<style scoped>\n",
       "    .dataframe tbody tr th:only-of-type {\n",
       "        vertical-align: middle;\n",
       "    }\n",
       "\n",
       "    .dataframe tbody tr th {\n",
       "        vertical-align: top;\n",
       "    }\n",
       "\n",
       "    .dataframe thead th {\n",
       "        text-align: right;\n",
       "    }\n",
       "</style>\n",
       "<table border=\"1\" class=\"dataframe\">\n",
       "  <thead>\n",
       "    <tr style=\"text-align: right;\">\n",
       "      <th>Puertas</th>\n",
       "      <th>3</th>\n",
       "      <th>4</th>\n",
       "      <th>5</th>\n",
       "    </tr>\n",
       "    <tr>\n",
       "      <th>Fabricante</th>\n",
       "      <th></th>\n",
       "      <th></th>\n",
       "      <th></th>\n",
       "    </tr>\n",
       "  </thead>\n",
       "  <tbody>\n",
       "    <tr>\n",
       "      <th>BMW</th>\n",
       "      <td>0</td>\n",
       "      <td>0</td>\n",
       "      <td>1</td>\n",
       "    </tr>\n",
       "    <tr>\n",
       "      <th>Honda</th>\n",
       "      <td>0</td>\n",
       "      <td>3</td>\n",
       "      <td>0</td>\n",
       "    </tr>\n",
       "    <tr>\n",
       "      <th>Nissan</th>\n",
       "      <td>0</td>\n",
       "      <td>2</td>\n",
       "      <td>0</td>\n",
       "    </tr>\n",
       "    <tr>\n",
       "      <th>Toyota</th>\n",
       "      <td>1</td>\n",
       "      <td>3</td>\n",
       "      <td>0</td>\n",
       "    </tr>\n",
       "  </tbody>\n",
       "</table>\n",
       "</div>"
      ]
     },
     "execution_count": 24,
     "metadata": {},
     "output_type": "execute_result"
    }
   ],
   "execution_count": 24
  },
  {
   "metadata": {
    "ExecuteTime": {
     "end_time": "2025-02-22T17:50:44.425255Z",
     "start_time": "2025-02-22T17:50:44.415735Z"
    }
   },
   "cell_type": "code",
   "source": [
    "# Agrupamos las columnas por fabricante y buscamos el valor medio de las columnas numéricas\n",
    "ventas_autos.groupby('Fabricante').mean(numeric_only=True)"
   ],
   "id": "d51a7a81735f256e",
   "outputs": [
    {
     "data": {
      "text/plain": [
       "              Kilometraje  Puertas  Precio (USD)\n",
       "Fabricante                                      \n",
       "BMW          11179.000000     5.00       22000.0\n",
       "Honda        62778.333333     4.00        6500.0\n",
       "Nissan      122347.500000     4.00        6600.0\n",
       "Toyota       85451.250000     3.75        5437.5"
      ],
      "text/html": [
       "<div>\n",
       "<style scoped>\n",
       "    .dataframe tbody tr th:only-of-type {\n",
       "        vertical-align: middle;\n",
       "    }\n",
       "\n",
       "    .dataframe tbody tr th {\n",
       "        vertical-align: top;\n",
       "    }\n",
       "\n",
       "    .dataframe thead th {\n",
       "        text-align: right;\n",
       "    }\n",
       "</style>\n",
       "<table border=\"1\" class=\"dataframe\">\n",
       "  <thead>\n",
       "    <tr style=\"text-align: right;\">\n",
       "      <th></th>\n",
       "      <th>Kilometraje</th>\n",
       "      <th>Puertas</th>\n",
       "      <th>Precio (USD)</th>\n",
       "    </tr>\n",
       "    <tr>\n",
       "      <th>Fabricante</th>\n",
       "      <th></th>\n",
       "      <th></th>\n",
       "      <th></th>\n",
       "    </tr>\n",
       "  </thead>\n",
       "  <tbody>\n",
       "    <tr>\n",
       "      <th>BMW</th>\n",
       "      <td>11179.000000</td>\n",
       "      <td>5.00</td>\n",
       "      <td>22000.0</td>\n",
       "    </tr>\n",
       "    <tr>\n",
       "      <th>Honda</th>\n",
       "      <td>62778.333333</td>\n",
       "      <td>4.00</td>\n",
       "      <td>6500.0</td>\n",
       "    </tr>\n",
       "    <tr>\n",
       "      <th>Nissan</th>\n",
       "      <td>122347.500000</td>\n",
       "      <td>4.00</td>\n",
       "      <td>6600.0</td>\n",
       "    </tr>\n",
       "    <tr>\n",
       "      <th>Toyota</th>\n",
       "      <td>85451.250000</td>\n",
       "      <td>3.75</td>\n",
       "      <td>5437.5</td>\n",
       "    </tr>\n",
       "  </tbody>\n",
       "</table>\n",
       "</div>"
      ]
     },
     "execution_count": 25,
     "metadata": {},
     "output_type": "execute_result"
    }
   ],
   "execution_count": 25
  },
  {
   "metadata": {},
   "cell_type": "markdown",
   "source": "# MATPLOTLIB",
   "id": "696844b1ee4758b6"
  },
  {
   "metadata": {
    "ExecuteTime": {
     "end_time": "2025-02-22T17:52:25.004738Z",
     "start_time": "2025-02-22T17:52:24.997779Z"
    }
   },
   "cell_type": "code",
   "source": [
    "# Importamos Matplotlib y creamos un gráfico con los valores de la columna Kilometraje\n",
    "import matplotlib as plt\n"
   ],
   "id": "d4c10043dc60ea17",
   "outputs": [],
   "execution_count": 26
  },
  {
   "metadata": {
    "ExecuteTime": {
     "end_time": "2025-02-22T17:57:14.957920Z",
     "start_time": "2025-02-22T17:57:14.844507Z"
    }
   },
   "cell_type": "code",
   "source": "ventas_autos['Kilometraje'].plot(linestyle=\"--\", color=\"m\", marker=\"o\")",
   "id": "2b4d81f0dc83bbf1",
   "outputs": [
    {
     "data": {
      "text/plain": [
       "<Axes: >"
      ]
     },
     "execution_count": 31,
     "metadata": {},
     "output_type": "execute_result"
    },
    {
     "data": {
      "text/plain": [
       "<Figure size 640x480 with 1 Axes>"
      ],
      "image/png": "[encoded data removed]"
     },
     "metadata": {},
     "output_type": "display_data"
    }
   ],
   "execution_count": 31
  },
  {
   "metadata": {
    "ExecuteTime": {
     "end_time": "2025-02-22T17:58:43.990046Z",
     "start_time": "2025-02-22T17:58:43.857621Z"
    }
   },
   "cell_type": "code",
   "source": [
    "# Puede que un gráfico más apropiado en este caso sea un histograma?\n",
    "ventas_autos['Kilometraje'].hist(color='b')"
   ],
   "id": "1822ee923afbad99",
   "outputs": [
    {
     "data": {
      "text/plain": [
       "<Axes: >"
      ]
     },
     "execution_count": 32,
     "metadata": {},
     "output_type": "execute_result"
    },
    {
     "data": {
      "text/plain": [
       "<Figure size 640x480 with 1 Axes>"
      ],
      "image/png": "[encoded data removed]"
     },
     "metadata": {},
     "output_type": "display_data"
    }
   ],
   "execution_count": 32
  },
  {
   "metadata": {
    "ExecuteTime": {
     "end_time": "2025-02-22T17:59:26.228098Z",
     "start_time": "2025-02-22T17:59:26.101401Z"
    }
   },
   "cell_type": "code",
   "source": [
    "# Intentamos graficar la columna de precios\n",
    "ventas_autos['Precio (USD)'].plot(marker=\"^\")"
   ],
   "id": "312087a2d2931278",
   "outputs": [
    {
     "data": {
      "text/plain": [
       "<Axes: >"
      ]
     },
     "execution_count": 35,
     "metadata": {},
     "output_type": "execute_result"
    },
    {
     "data": {
      "text/plain": [
       "<Figure size 640x480 with 1 Axes>"
      ],
      "image/png": "[encoded data removed]"
     },
     "metadata": {},
     "output_type": "display_data"
    }
   ],
   "execution_count": 35
  }
 ],
 "metadata": {
  "kernelspec": {
   "display_name": "Python 3",
   "language": "python",
   "name": "python3"
  },
  "language_info": {
   "codemirror_mode": {
    "name": "ipython",
    "version": 2
   },
   "file_extension": ".py",
   "mimetype": "text/x-python",
   "name": "python",
   "nbconvert_exporter": "python",
   "pygments_lexer": "ipython2",
   "version": "2.7.6"
  }
 },
 "nbformat": 4,
 "nbformat_minor": 5
}
