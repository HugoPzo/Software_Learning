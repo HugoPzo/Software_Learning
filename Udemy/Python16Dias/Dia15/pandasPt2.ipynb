{
 "cells": [
  {
   "metadata": {},
   "cell_type": "markdown",
   "source": "### Solo en Google Drive",
   "id": "2399e3a0de502e76"
  },
  {
   "metadata": {
    "collapsed": true,
    "ExecuteTime": {
     "end_time": "2025-02-21T14:23:11.622749Z",
     "start_time": "2025-02-21T14:23:11.404382Z"
    }
   },
   "cell_type": "code",
   "source": [
    "import pandas as pd\n",
    "# Conectamos el cuaderno actual con nuestro Drive\n",
    "\n",
    "from google.colab import drive\n",
    "drive.mount(\"/content/drive\")\n",
    "\n",
    "# Importar \"ventas-autos.csv\" y convertirlo en un nuevo DATAFRAME\n",
    "\n",
    "ventas_autos = pd.read_csv('/content/drive/MyDrive/ventas-autos.csv')\n",
    "ventas_autos\n",
    "\n",
    "# Exportar el Dataframe como un archivo CSV a mi carpeta '/content/drive/MyDrive/ventas-autos.csv'\n",
    "ventas_autos.to_csv(\"/content/drive/MyDrive/Colab Notebooks/pruebas/\")"
   ],
   "id": "initial_id",
   "outputs": [
    {
     "ename": "ModuleNotFoundError",
     "evalue": "No module named 'google.colab'",
     "output_type": "error",
     "traceback": [
      "\u001B[1;31m---------------------------------------------------------------------------\u001B[0m",
      "\u001B[1;31mModuleNotFoundError\u001B[0m                       Traceback (most recent call last)",
      "Cell \u001B[1;32mIn[1], line 4\u001B[0m\n\u001B[0;32m      1\u001B[0m \u001B[38;5;28;01mimport\u001B[39;00m \u001B[38;5;21;01mpandas\u001B[39;00m \u001B[38;5;28;01mas\u001B[39;00m \u001B[38;5;21;01mpd\u001B[39;00m\n\u001B[0;32m      2\u001B[0m \u001B[38;5;66;03m# Conectamos el cuaderno actual con nuestro Drive\u001B[39;00m\n\u001B[1;32m----> 4\u001B[0m \u001B[38;5;28;01mfrom\u001B[39;00m \u001B[38;5;21;01mgoogle\u001B[39;00m\u001B[38;5;21;01m.\u001B[39;00m\u001B[38;5;21;01mcolab\u001B[39;00m \u001B[38;5;28;01mimport\u001B[39;00m drive\n\u001B[0;32m      5\u001B[0m drive\u001B[38;5;241m.\u001B[39mmount(\u001B[38;5;124m\"\u001B[39m\u001B[38;5;124m/content/drive\u001B[39m\u001B[38;5;124m\"\u001B[39m)\n\u001B[0;32m      7\u001B[0m \u001B[38;5;66;03m# Importar \"ventas-autos.csv\" y convertirlo en un nuevo DATAFRAME\u001B[39;00m\n",
      "\u001B[1;31mModuleNotFoundError\u001B[0m: No module named 'google.colab'"
     ]
    }
   ],
   "execution_count": 1
  },
  {
   "metadata": {},
   "cell_type": "markdown",
   "source": "---",
   "id": "98a66fe20822b4e1"
  },
  {
   "metadata": {
    "ExecuteTime": {
     "end_time": "2025-02-21T14:24:16.555672Z",
     "start_time": "2025-02-21T14:24:16.552673Z"
    }
   },
   "cell_type": "code",
   "source": "import pandas as pd",
   "id": "edeac8527dbabeb0",
   "outputs": [],
   "execution_count": 5
  },
  {
   "metadata": {
    "ExecuteTime": {
     "end_time": "2025-02-21T14:24:18.261260Z",
     "start_time": "2025-02-21T14:24:18.236730Z"
    }
   },
   "cell_type": "code",
   "source": [
    "# Importamos \"ventas-autos.csv\"\n",
    "ventas_autos = pd.read_csv('ventas-autos.csv')\n",
    "ventas_autos"
   ],
   "id": "a979d9be89e0fc96",
   "outputs": [
    {
     "data": {
      "text/plain": [
       "  Fabricante   Color  Kilometraje  Puertas Precio (USD)\n",
       "0     Toyota  Blanco       150043        4    $4,000.00\n",
       "1      Honda    Rojo        87899        4    $5,000.00\n",
       "2     Toyota    Azul        32549        3    $7,000.00\n",
       "3        BMW   Negro        11179        5   $22,000.00\n",
       "4     Nissan  Blanco       213095        4    $3,500.00\n",
       "5     Toyota    Rojo        99213        4    $4,500.00\n",
       "6      Honda  Blanco        45698        4    $7,500.00\n",
       "7      Honda  Blanco        54738        4    $7,000.00\n",
       "8     Toyota  Blanco        60000        4    $6,250.00\n",
       "9     Nissan    Rojo        31600        4    $9,700.00"
      ],
      "text/html": [
       "<div>\n",
       "<style scoped>\n",
       "    .dataframe tbody tr th:only-of-type {\n",
       "        vertical-align: middle;\n",
       "    }\n",
       "\n",
       "    .dataframe tbody tr th {\n",
       "        vertical-align: top;\n",
       "    }\n",
       "\n",
       "    .dataframe thead th {\n",
       "        text-align: right;\n",
       "    }\n",
       "</style>\n",
       "<table border=\"1\" class=\"dataframe\">\n",
       "  <thead>\n",
       "    <tr style=\"text-align: right;\">\n",
       "      <th></th>\n",
       "      <th>Fabricante</th>\n",
       "      <th>Color</th>\n",
       "      <th>Kilometraje</th>\n",
       "      <th>Puertas</th>\n",
       "      <th>Precio (USD)</th>\n",
       "    </tr>\n",
       "  </thead>\n",
       "  <tbody>\n",
       "    <tr>\n",
       "      <th>0</th>\n",
       "      <td>Toyota</td>\n",
       "      <td>Blanco</td>\n",
       "      <td>150043</td>\n",
       "      <td>4</td>\n",
       "      <td>$4,000.00</td>\n",
       "    </tr>\n",
       "    <tr>\n",
       "      <th>1</th>\n",
       "      <td>Honda</td>\n",
       "      <td>Rojo</td>\n",
       "      <td>87899</td>\n",
       "      <td>4</td>\n",
       "      <td>$5,000.00</td>\n",
       "    </tr>\n",
       "    <tr>\n",
       "      <th>2</th>\n",
       "      <td>Toyota</td>\n",
       "      <td>Azul</td>\n",
       "      <td>32549</td>\n",
       "      <td>3</td>\n",
       "      <td>$7,000.00</td>\n",
       "    </tr>\n",
       "    <tr>\n",
       "      <th>3</th>\n",
       "      <td>BMW</td>\n",
       "      <td>Negro</td>\n",
       "      <td>11179</td>\n",
       "      <td>5</td>\n",
       "      <td>$22,000.00</td>\n",
       "    </tr>\n",
       "    <tr>\n",
       "      <th>4</th>\n",
       "      <td>Nissan</td>\n",
       "      <td>Blanco</td>\n",
       "      <td>213095</td>\n",
       "      <td>4</td>\n",
       "      <td>$3,500.00</td>\n",
       "    </tr>\n",
       "    <tr>\n",
       "      <th>5</th>\n",
       "      <td>Toyota</td>\n",
       "      <td>Rojo</td>\n",
       "      <td>99213</td>\n",
       "      <td>4</td>\n",
       "      <td>$4,500.00</td>\n",
       "    </tr>\n",
       "    <tr>\n",
       "      <th>6</th>\n",
       "      <td>Honda</td>\n",
       "      <td>Blanco</td>\n",
       "      <td>45698</td>\n",
       "      <td>4</td>\n",
       "      <td>$7,500.00</td>\n",
       "    </tr>\n",
       "    <tr>\n",
       "      <th>7</th>\n",
       "      <td>Honda</td>\n",
       "      <td>Blanco</td>\n",
       "      <td>54738</td>\n",
       "      <td>4</td>\n",
       "      <td>$7,000.00</td>\n",
       "    </tr>\n",
       "    <tr>\n",
       "      <th>8</th>\n",
       "      <td>Toyota</td>\n",
       "      <td>Blanco</td>\n",
       "      <td>60000</td>\n",
       "      <td>4</td>\n",
       "      <td>$6,250.00</td>\n",
       "    </tr>\n",
       "    <tr>\n",
       "      <th>9</th>\n",
       "      <td>Nissan</td>\n",
       "      <td>Rojo</td>\n",
       "      <td>31600</td>\n",
       "      <td>4</td>\n",
       "      <td>$9,700.00</td>\n",
       "    </tr>\n",
       "  </tbody>\n",
       "</table>\n",
       "</div>"
      ]
     },
     "execution_count": 6,
     "metadata": {},
     "output_type": "execute_result"
    }
   ],
   "execution_count": 6
  },
  {
   "metadata": {
    "ExecuteTime": {
     "end_time": "2025-02-21T14:29:16.070536Z",
     "start_time": "2025-02-21T14:29:16.065538Z"
    }
   },
   "cell_type": "code",
   "source": [
    " # Analicemos los tipos de datos disponibles en el dataset de ventas autos\n",
    "ventas_autos.dtypes"
   ],
   "id": "4cf634dfd3a4170a",
   "outputs": [
    {
     "data": {
      "text/plain": [
       "Fabricante      object\n",
       "Color           object\n",
       "Kilometraje      int64\n",
       "Puertas          int64\n",
       "Precio (USD)    object\n",
       "dtype: object"
      ]
     },
     "execution_count": 13,
     "metadata": {},
     "output_type": "execute_result"
    }
   ],
   "execution_count": 13
  },
  {
   "metadata": {
    "ExecuteTime": {
     "end_time": "2025-02-21T14:29:30.557714Z",
     "start_time": "2025-02-21T14:29:30.548712Z"
    }
   },
   "cell_type": "code",
   "source": [
    "# Apliquemos estadística descriptiva (cantidad de valores, media, desviación estándar, valores mínimos y máximos, cuartiles) al dataset\n",
    "\n",
    "ventas_autos.describe()"
   ],
   "id": "1446696683913075",
   "outputs": [
    {
     "data": {
      "text/plain": [
       "         Kilometraje    Puertas\n",
       "count      10.000000  10.000000\n",
       "mean    78601.400000   4.000000\n",
       "std     61983.471735   0.471405\n",
       "min     11179.000000   3.000000\n",
       "25%     35836.250000   4.000000\n",
       "50%     57369.000000   4.000000\n",
       "75%     96384.500000   4.000000\n",
       "max    213095.000000   5.000000"
      ],
      "text/html": [
       "<div>\n",
       "<style scoped>\n",
       "    .dataframe tbody tr th:only-of-type {\n",
       "        vertical-align: middle;\n",
       "    }\n",
       "\n",
       "    .dataframe tbody tr th {\n",
       "        vertical-align: top;\n",
       "    }\n",
       "\n",
       "    .dataframe thead th {\n",
       "        text-align: right;\n",
       "    }\n",
       "</style>\n",
       "<table border=\"1\" class=\"dataframe\">\n",
       "  <thead>\n",
       "    <tr style=\"text-align: right;\">\n",
       "      <th></th>\n",
       "      <th>Kilometraje</th>\n",
       "      <th>Puertas</th>\n",
       "    </tr>\n",
       "  </thead>\n",
       "  <tbody>\n",
       "    <tr>\n",
       "      <th>count</th>\n",
       "      <td>10.000000</td>\n",
       "      <td>10.000000</td>\n",
       "    </tr>\n",
       "    <tr>\n",
       "      <th>mean</th>\n",
       "      <td>78601.400000</td>\n",
       "      <td>4.000000</td>\n",
       "    </tr>\n",
       "    <tr>\n",
       "      <th>std</th>\n",
       "      <td>61983.471735</td>\n",
       "      <td>0.471405</td>\n",
       "    </tr>\n",
       "    <tr>\n",
       "      <th>min</th>\n",
       "      <td>11179.000000</td>\n",
       "      <td>3.000000</td>\n",
       "    </tr>\n",
       "    <tr>\n",
       "      <th>25%</th>\n",
       "      <td>35836.250000</td>\n",
       "      <td>4.000000</td>\n",
       "    </tr>\n",
       "    <tr>\n",
       "      <th>50%</th>\n",
       "      <td>57369.000000</td>\n",
       "      <td>4.000000</td>\n",
       "    </tr>\n",
       "    <tr>\n",
       "      <th>75%</th>\n",
       "      <td>96384.500000</td>\n",
       "      <td>4.000000</td>\n",
       "    </tr>\n",
       "    <tr>\n",
       "      <th>max</th>\n",
       "      <td>213095.000000</td>\n",
       "      <td>5.000000</td>\n",
       "    </tr>\n",
       "  </tbody>\n",
       "</table>\n",
       "</div>"
      ]
     },
     "execution_count": 17,
     "metadata": {},
     "output_type": "execute_result"
    }
   ],
   "execution_count": 17
  },
  {
   "metadata": {
    "ExecuteTime": {
     "end_time": "2025-02-21T14:31:54.058806Z",
     "start_time": "2025-02-21T14:31:54.054862Z"
    }
   },
   "cell_type": "code",
   "source": [
    "# Convertir columnaa de Precio en Enteros\n",
    "ventas_autos['Precio (USD)'] = ventas_autos['Precio (USD)'].replace('[\\$,]', '', regex=True).astype(float)"
   ],
   "id": "8e35659ebe3fa3e3",
   "outputs": [],
   "execution_count": 22
  },
  {
   "metadata": {
    "ExecuteTime": {
     "end_time": "2025-02-21T14:29:44.363773Z",
     "start_time": "2025-02-21T14:29:44.351743Z"
    }
   },
   "cell_type": "code",
   "source": [
    "# Obtenemos información del dataset utilizando info()\n",
    "ventas_autos.info()"
   ],
   "id": "3af30c4312f8d4de",
   "outputs": [
    {
     "name": "stdout",
     "output_type": "stream",
     "text": [
      "<class 'pandas.core.frame.DataFrame'>\n",
      "RangeIndex: 10 entries, 0 to 9\n",
      "Data columns (total 5 columns):\n",
      " #   Column        Non-Null Count  Dtype \n",
      "---  ------        --------------  ----- \n",
      " 0   Fabricante    10 non-null     object\n",
      " 1   Color         10 non-null     object\n",
      " 2   Kilometraje   10 non-null     int64 \n",
      " 3   Puertas       10 non-null     int64 \n",
      " 4   Precio (USD)  10 non-null     object\n",
      "dtypes: int64(2), object(3)\n",
      "memory usage: 532.0+ bytes\n"
     ]
    }
   ],
   "execution_count": 18
  },
  {
   "metadata": {
    "ExecuteTime": {
     "end_time": "2025-02-21T14:23:11.638759100Z",
     "start_time": "2025-02-21T05:09:41.534142Z"
    }
   },
   "cell_type": "code",
   "source": [
    "# Listamos los nombres de las columnas de nuestro dataset\n",
    "ventas_autos.columns"
   ],
   "id": "ef87342627dff5b1",
   "outputs": [
    {
     "data": {
      "text/plain": [
       "Index(['Fabricante', 'Color', 'Kilometraje', 'Puertas', 'Precio (USD)'], dtype='object')"
      ]
     },
     "execution_count": 24,
     "metadata": {},
     "output_type": "execute_result"
    }
   ],
   "execution_count": 24
  },
  {
   "metadata": {
    "ExecuteTime": {
     "end_time": "2025-02-21T14:23:11.639758500Z",
     "start_time": "2025-02-21T05:10:08.869803Z"
    }
   },
   "cell_type": "code",
   "source": [
    "# Averiguamos el \"largo\" de nuestro dataset\n",
    "len(ventas_autos)"
   ],
   "id": "bc03caf25ec5276a",
   "outputs": [
    {
     "data": {
      "text/plain": [
       "10"
      ]
     },
     "execution_count": 25,
     "metadata": {},
     "output_type": "execute_result"
    }
   ],
   "execution_count": 25
  },
  {
   "metadata": {
    "ExecuteTime": {
     "end_time": "2025-02-21T14:23:11.639758500Z",
     "start_time": "2025-02-21T05:11:37.769489Z"
    }
   },
   "cell_type": "code",
   "source": [
    "# Mostramos las primeras 5 filas del dataset\n",
    "ventas_autos.head() # .head(5, 1, 3)"
   ],
   "id": "3e179ad25586fd1b",
   "outputs": [
    {
     "data": {
      "text/plain": [
       "  Fabricante   Color  Kilometraje  Puertas  Precio (USD)\n",
       "0     Toyota  Blanco       150043        4        4000.0\n",
       "1      Honda    Rojo        87899        4        5000.0\n",
       "2     Toyota    Azul        32549        3        7000.0\n",
       "3        BMW   Negro        11179        5       22000.0\n",
       "4     Nissan  Blanco       213095        4        3500.0"
      ],
      "text/html": [
       "<div>\n",
       "<style scoped>\n",
       "    .dataframe tbody tr th:only-of-type {\n",
       "        vertical-align: middle;\n",
       "    }\n",
       "\n",
       "    .dataframe tbody tr th {\n",
       "        vertical-align: top;\n",
       "    }\n",
       "\n",
       "    .dataframe thead th {\n",
       "        text-align: right;\n",
       "    }\n",
       "</style>\n",
       "<table border=\"1\" class=\"dataframe\">\n",
       "  <thead>\n",
       "    <tr style=\"text-align: right;\">\n",
       "      <th></th>\n",
       "      <th>Fabricante</th>\n",
       "      <th>Color</th>\n",
       "      <th>Kilometraje</th>\n",
       "      <th>Puertas</th>\n",
       "      <th>Precio (USD)</th>\n",
       "    </tr>\n",
       "  </thead>\n",
       "  <tbody>\n",
       "    <tr>\n",
       "      <th>0</th>\n",
       "      <td>Toyota</td>\n",
       "      <td>Blanco</td>\n",
       "      <td>150043</td>\n",
       "      <td>4</td>\n",
       "      <td>4000.0</td>\n",
       "    </tr>\n",
       "    <tr>\n",
       "      <th>1</th>\n",
       "      <td>Honda</td>\n",
       "      <td>Rojo</td>\n",
       "      <td>87899</td>\n",
       "      <td>4</td>\n",
       "      <td>5000.0</td>\n",
       "    </tr>\n",
       "    <tr>\n",
       "      <th>2</th>\n",
       "      <td>Toyota</td>\n",
       "      <td>Azul</td>\n",
       "      <td>32549</td>\n",
       "      <td>3</td>\n",
       "      <td>7000.0</td>\n",
       "    </tr>\n",
       "    <tr>\n",
       "      <th>3</th>\n",
       "      <td>BMW</td>\n",
       "      <td>Negro</td>\n",
       "      <td>11179</td>\n",
       "      <td>5</td>\n",
       "      <td>22000.0</td>\n",
       "    </tr>\n",
       "    <tr>\n",
       "      <th>4</th>\n",
       "      <td>Nissan</td>\n",
       "      <td>Blanco</td>\n",
       "      <td>213095</td>\n",
       "      <td>4</td>\n",
       "      <td>3500.0</td>\n",
       "    </tr>\n",
       "  </tbody>\n",
       "</table>\n",
       "</div>"
      ]
     },
     "execution_count": 28,
     "metadata": {},
     "output_type": "execute_result"
    }
   ],
   "execution_count": 28
  },
  {
   "metadata": {
    "ExecuteTime": {
     "end_time": "2025-02-21T14:23:11.640758100Z",
     "start_time": "2025-02-21T05:12:35.653213Z"
    }
   },
   "cell_type": "code",
   "source": [
    "# Mostramos las primeras 7 filas del dataset\n",
    "ventas_autos.head(7)"
   ],
   "id": "10081db1249eae75",
   "outputs": [
    {
     "data": {
      "text/plain": [
       "  Fabricante   Color  Kilometraje  Puertas  Precio (USD)\n",
       "0     Toyota  Blanco       150043        4        4000.0\n",
       "1      Honda    Rojo        87899        4        5000.0\n",
       "2     Toyota    Azul        32549        3        7000.0\n",
       "3        BMW   Negro        11179        5       22000.0\n",
       "4     Nissan  Blanco       213095        4        3500.0\n",
       "5     Toyota    Rojo        99213        4        4500.0\n",
       "6      Honda  Blanco        45698        4        7500.0"
      ],
      "text/html": [
       "<div>\n",
       "<style scoped>\n",
       "    .dataframe tbody tr th:only-of-type {\n",
       "        vertical-align: middle;\n",
       "    }\n",
       "\n",
       "    .dataframe tbody tr th {\n",
       "        vertical-align: top;\n",
       "    }\n",
       "\n",
       "    .dataframe thead th {\n",
       "        text-align: right;\n",
       "    }\n",
       "</style>\n",
       "<table border=\"1\" class=\"dataframe\">\n",
       "  <thead>\n",
       "    <tr style=\"text-align: right;\">\n",
       "      <th></th>\n",
       "      <th>Fabricante</th>\n",
       "      <th>Color</th>\n",
       "      <th>Kilometraje</th>\n",
       "      <th>Puertas</th>\n",
       "      <th>Precio (USD)</th>\n",
       "    </tr>\n",
       "  </thead>\n",
       "  <tbody>\n",
       "    <tr>\n",
       "      <th>0</th>\n",
       "      <td>Toyota</td>\n",
       "      <td>Blanco</td>\n",
       "      <td>150043</td>\n",
       "      <td>4</td>\n",
       "      <td>4000.0</td>\n",
       "    </tr>\n",
       "    <tr>\n",
       "      <th>1</th>\n",
       "      <td>Honda</td>\n",
       "      <td>Rojo</td>\n",
       "      <td>87899</td>\n",
       "      <td>4</td>\n",
       "      <td>5000.0</td>\n",
       "    </tr>\n",
       "    <tr>\n",
       "      <th>2</th>\n",
       "      <td>Toyota</td>\n",
       "      <td>Azul</td>\n",
       "      <td>32549</td>\n",
       "      <td>3</td>\n",
       "      <td>7000.0</td>\n",
       "    </tr>\n",
       "    <tr>\n",
       "      <th>3</th>\n",
       "      <td>BMW</td>\n",
       "      <td>Negro</td>\n",
       "      <td>11179</td>\n",
       "      <td>5</td>\n",
       "      <td>22000.0</td>\n",
       "    </tr>\n",
       "    <tr>\n",
       "      <th>4</th>\n",
       "      <td>Nissan</td>\n",
       "      <td>Blanco</td>\n",
       "      <td>213095</td>\n",
       "      <td>4</td>\n",
       "      <td>3500.0</td>\n",
       "    </tr>\n",
       "    <tr>\n",
       "      <th>5</th>\n",
       "      <td>Toyota</td>\n",
       "      <td>Rojo</td>\n",
       "      <td>99213</td>\n",
       "      <td>4</td>\n",
       "      <td>4500.0</td>\n",
       "    </tr>\n",
       "    <tr>\n",
       "      <th>6</th>\n",
       "      <td>Honda</td>\n",
       "      <td>Blanco</td>\n",
       "      <td>45698</td>\n",
       "      <td>4</td>\n",
       "      <td>7500.0</td>\n",
       "    </tr>\n",
       "  </tbody>\n",
       "</table>\n",
       "</div>"
      ]
     },
     "execution_count": 29,
     "metadata": {},
     "output_type": "execute_result"
    }
   ],
   "execution_count": 29
  },
  {
   "metadata": {
    "ExecuteTime": {
     "end_time": "2025-02-21T14:23:11.640758100Z",
     "start_time": "2025-02-21T05:12:50.160787Z"
    }
   },
   "cell_type": "code",
   "source": [
    "# Mostramos las últimas 5 filas del dataset\n",
    "ventas_autos.tail(5)"
   ],
   "id": "2535cad7011198a0",
   "outputs": [
    {
     "data": {
      "text/plain": [
       "  Fabricante   Color  Kilometraje  Puertas  Precio (USD)\n",
       "5     Toyota    Rojo        99213        4        4500.0\n",
       "6      Honda  Blanco        45698        4        7500.0\n",
       "7      Honda  Blanco        54738        4        7000.0\n",
       "8     Toyota  Blanco        60000        4        6250.0\n",
       "9     Nissan    Rojo        31600        4        9700.0"
      ],
      "text/html": [
       "<div>\n",
       "<style scoped>\n",
       "    .dataframe tbody tr th:only-of-type {\n",
       "        vertical-align: middle;\n",
       "    }\n",
       "\n",
       "    .dataframe tbody tr th {\n",
       "        vertical-align: top;\n",
       "    }\n",
       "\n",
       "    .dataframe thead th {\n",
       "        text-align: right;\n",
       "    }\n",
       "</style>\n",
       "<table border=\"1\" class=\"dataframe\">\n",
       "  <thead>\n",
       "    <tr style=\"text-align: right;\">\n",
       "      <th></th>\n",
       "      <th>Fabricante</th>\n",
       "      <th>Color</th>\n",
       "      <th>Kilometraje</th>\n",
       "      <th>Puertas</th>\n",
       "      <th>Precio (USD)</th>\n",
       "    </tr>\n",
       "  </thead>\n",
       "  <tbody>\n",
       "    <tr>\n",
       "      <th>5</th>\n",
       "      <td>Toyota</td>\n",
       "      <td>Rojo</td>\n",
       "      <td>99213</td>\n",
       "      <td>4</td>\n",
       "      <td>4500.0</td>\n",
       "    </tr>\n",
       "    <tr>\n",
       "      <th>6</th>\n",
       "      <td>Honda</td>\n",
       "      <td>Blanco</td>\n",
       "      <td>45698</td>\n",
       "      <td>4</td>\n",
       "      <td>7500.0</td>\n",
       "    </tr>\n",
       "    <tr>\n",
       "      <th>7</th>\n",
       "      <td>Honda</td>\n",
       "      <td>Blanco</td>\n",
       "      <td>54738</td>\n",
       "      <td>4</td>\n",
       "      <td>7000.0</td>\n",
       "    </tr>\n",
       "    <tr>\n",
       "      <th>8</th>\n",
       "      <td>Toyota</td>\n",
       "      <td>Blanco</td>\n",
       "      <td>60000</td>\n",
       "      <td>4</td>\n",
       "      <td>6250.0</td>\n",
       "    </tr>\n",
       "    <tr>\n",
       "      <th>9</th>\n",
       "      <td>Nissan</td>\n",
       "      <td>Rojo</td>\n",
       "      <td>31600</td>\n",
       "      <td>4</td>\n",
       "      <td>9700.0</td>\n",
       "    </tr>\n",
       "  </tbody>\n",
       "</table>\n",
       "</div>"
      ]
     },
     "execution_count": 30,
     "metadata": {},
     "output_type": "execute_result"
    }
   ],
   "execution_count": 30
  },
  {
   "metadata": {
    "ExecuteTime": {
     "end_time": "2025-02-21T14:23:11.641756Z",
     "start_time": "2025-02-21T05:14:51.768123Z"
    }
   },
   "cell_type": "code",
   "source": [
    "# Utilizamos .loc para seleccionar la fila de índice 3 del DataFrame\n",
    "ventas_autos.loc[3]"
   ],
   "id": "9fc863540a6ab3b8",
   "outputs": [
    {
     "data": {
      "text/plain": [
       "Fabricante          BMW\n",
       "Color             Negro\n",
       "Kilometraje       11179\n",
       "Puertas               5\n",
       "Precio (USD)    22000.0\n",
       "Name: 3, dtype: object"
      ]
     },
     "execution_count": 38,
     "metadata": {},
     "output_type": "execute_result"
    }
   ],
   "execution_count": 38
  },
  {
   "metadata": {
    "ExecuteTime": {
     "end_time": "2025-02-21T14:23:11.642758900Z",
     "start_time": "2025-02-21T05:15:37.466153Z"
    }
   },
   "cell_type": "code",
   "source": [
    "# Utilizamos .iloc para seleccionar las filas 3, 7 y 9\n",
    "ventas_autos.iloc[[3, 7, 9]]"
   ],
   "id": "c1898220abcffa53",
   "outputs": [
    {
     "data": {
      "text/plain": [
       "  Fabricante   Color  Kilometraje  Puertas  Precio (USD)\n",
       "3        BMW   Negro        11179        5       22000.0\n",
       "7      Honda  Blanco        54738        4        7000.0\n",
       "9     Nissan    Rojo        31600        4        9700.0"
      ],
      "text/html": [
       "<div>\n",
       "<style scoped>\n",
       "    .dataframe tbody tr th:only-of-type {\n",
       "        vertical-align: middle;\n",
       "    }\n",
       "\n",
       "    .dataframe tbody tr th {\n",
       "        vertical-align: top;\n",
       "    }\n",
       "\n",
       "    .dataframe thead th {\n",
       "        text-align: right;\n",
       "    }\n",
       "</style>\n",
       "<table border=\"1\" class=\"dataframe\">\n",
       "  <thead>\n",
       "    <tr style=\"text-align: right;\">\n",
       "      <th></th>\n",
       "      <th>Fabricante</th>\n",
       "      <th>Color</th>\n",
       "      <th>Kilometraje</th>\n",
       "      <th>Puertas</th>\n",
       "      <th>Precio (USD)</th>\n",
       "    </tr>\n",
       "  </thead>\n",
       "  <tbody>\n",
       "    <tr>\n",
       "      <th>3</th>\n",
       "      <td>BMW</td>\n",
       "      <td>Negro</td>\n",
       "      <td>11179</td>\n",
       "      <td>5</td>\n",
       "      <td>22000.0</td>\n",
       "    </tr>\n",
       "    <tr>\n",
       "      <th>7</th>\n",
       "      <td>Honda</td>\n",
       "      <td>Blanco</td>\n",
       "      <td>54738</td>\n",
       "      <td>4</td>\n",
       "      <td>7000.0</td>\n",
       "    </tr>\n",
       "    <tr>\n",
       "      <th>9</th>\n",
       "      <td>Nissan</td>\n",
       "      <td>Rojo</td>\n",
       "      <td>31600</td>\n",
       "      <td>4</td>\n",
       "      <td>9700.0</td>\n",
       "    </tr>\n",
       "  </tbody>\n",
       "</table>\n",
       "</div>"
      ]
     },
     "execution_count": 41,
     "metadata": {},
     "output_type": "execute_result"
    }
   ],
   "execution_count": 41
  },
  {
   "metadata": {
    "ExecuteTime": {
     "end_time": "2025-02-21T14:23:11.642758900Z",
     "start_time": "2025-02-21T05:17:12.221225Z"
    }
   },
   "cell_type": "code",
   "source": [
    "# Seleccionar la columna \"Kilometraje\"\n",
    "autos_km = ventas_autos['Kilometraje']"
   ],
   "id": "88410d43b572a432",
   "outputs": [],
   "execution_count": 43
  },
  {
   "metadata": {
    "ExecuteTime": {
     "end_time": "2025-02-21T14:23:11.643759100Z",
     "start_time": "2025-02-21T05:17:39.409991Z"
    }
   },
   "cell_type": "code",
   "source": [
    "# Encontrar el valor medio de la columnas \"Kilometraje\"\n",
    "autos_km.mean()"
   ],
   "id": "e374027418e65ace",
   "outputs": [
    {
     "data": {
      "text/plain": [
       "np.float64(78601.4)"
      ]
     },
     "execution_count": 48,
     "metadata": {},
     "output_type": "execute_result"
    }
   ],
   "execution_count": 48
  },
  {
   "metadata": {
    "ExecuteTime": {
     "end_time": "2025-02-21T14:23:11.643759100Z",
     "start_time": "2025-02-21T05:27:20.155010Z"
    }
   },
   "cell_type": "code",
   "source": [
    "# Seleccionar aquellas columnas que tengan valores superiores a 100,000 kilómetros en la columna Kilometraje\n",
    "autos_km > 100000\n"
   ],
   "id": "30c012df666fb0f0",
   "outputs": [
    {
     "data": {
      "text/plain": [
       "0     True\n",
       "1    False\n",
       "2    False\n",
       "3    False\n",
       "4     True\n",
       "5    False\n",
       "6    False\n",
       "7    False\n",
       "8    False\n",
       "9    False\n",
       "Name: Kilometraje, dtype: bool"
      ]
     },
     "execution_count": 65,
     "metadata": {},
     "output_type": "execute_result"
    }
   ],
   "execution_count": 65
  },
  {
   "metadata": {
    "ExecuteTime": {
     "end_time": "2025-02-21T14:23:11.644759800Z",
     "start_time": "2025-02-21T05:19:47.208956Z"
    }
   },
   "cell_type": "code",
   "source": "ventas_autos[autos_km > 100000]",
   "id": "a079022deee888fd",
   "outputs": [
    {
     "data": {
      "text/plain": [
       "  Fabricante   Color  Kilometraje  Puertas  Precio (USD)\n",
       "0     Toyota  Blanco       150043        4        4000.0\n",
       "4     Nissan  Blanco       213095        4        3500.0"
      ],
      "text/html": [
       "<div>\n",
       "<style scoped>\n",
       "    .dataframe tbody tr th:only-of-type {\n",
       "        vertical-align: middle;\n",
       "    }\n",
       "\n",
       "    .dataframe tbody tr th {\n",
       "        vertical-align: top;\n",
       "    }\n",
       "\n",
       "    .dataframe thead th {\n",
       "        text-align: right;\n",
       "    }\n",
       "</style>\n",
       "<table border=\"1\" class=\"dataframe\">\n",
       "  <thead>\n",
       "    <tr style=\"text-align: right;\">\n",
       "      <th></th>\n",
       "      <th>Fabricante</th>\n",
       "      <th>Color</th>\n",
       "      <th>Kilometraje</th>\n",
       "      <th>Puertas</th>\n",
       "      <th>Precio (USD)</th>\n",
       "    </tr>\n",
       "  </thead>\n",
       "  <tbody>\n",
       "    <tr>\n",
       "      <th>0</th>\n",
       "      <td>Toyota</td>\n",
       "      <td>Blanco</td>\n",
       "      <td>150043</td>\n",
       "      <td>4</td>\n",
       "      <td>4000.0</td>\n",
       "    </tr>\n",
       "    <tr>\n",
       "      <th>4</th>\n",
       "      <td>Nissan</td>\n",
       "      <td>Blanco</td>\n",
       "      <td>213095</td>\n",
       "      <td>4</td>\n",
       "      <td>3500.0</td>\n",
       "    </tr>\n",
       "  </tbody>\n",
       "</table>\n",
       "</div>"
      ]
     },
     "execution_count": 52,
     "metadata": {},
     "output_type": "execute_result"
    }
   ],
   "execution_count": 52
  },
  {
   "metadata": {
    "ExecuteTime": {
     "end_time": "2025-02-21T14:23:11.644759800Z",
     "start_time": "2025-02-21T05:21:26.564609Z"
    }
   },
   "cell_type": "code",
   "source": [
    "# Creamos una tabla cruzada de doble entrada entre Fabricante y cantidad de puertas\n",
    "pd.crosstab(ventas_autos['Fabricante'],  ventas_autos['Puertas'])"
   ],
   "id": "6d5f7dc99a2b12fc",
   "outputs": [
    {
     "data": {
      "text/plain": [
       "Puertas     3  4  5\n",
       "Fabricante         \n",
       "BMW         0  0  1\n",
       "Honda       0  3  0\n",
       "Nissan      0  2  0\n",
       "Toyota      1  3  0"
      ],
      "text/html": [
       "<div>\n",
       "<style scoped>\n",
       "    .dataframe tbody tr th:only-of-type {\n",
       "        vertical-align: middle;\n",
       "    }\n",
       "\n",
       "    .dataframe tbody tr th {\n",
       "        vertical-align: top;\n",
       "    }\n",
       "\n",
       "    .dataframe thead th {\n",
       "        text-align: right;\n",
       "    }\n",
       "</style>\n",
       "<table border=\"1\" class=\"dataframe\">\n",
       "  <thead>\n",
       "    <tr style=\"text-align: right;\">\n",
       "      <th>Puertas</th>\n",
       "      <th>3</th>\n",
       "      <th>4</th>\n",
       "      <th>5</th>\n",
       "    </tr>\n",
       "    <tr>\n",
       "      <th>Fabricante</th>\n",
       "      <th></th>\n",
       "      <th></th>\n",
       "      <th></th>\n",
       "    </tr>\n",
       "  </thead>\n",
       "  <tbody>\n",
       "    <tr>\n",
       "      <th>BMW</th>\n",
       "      <td>0</td>\n",
       "      <td>0</td>\n",
       "      <td>1</td>\n",
       "    </tr>\n",
       "    <tr>\n",
       "      <th>Honda</th>\n",
       "      <td>0</td>\n",
       "      <td>3</td>\n",
       "      <td>0</td>\n",
       "    </tr>\n",
       "    <tr>\n",
       "      <th>Nissan</th>\n",
       "      <td>0</td>\n",
       "      <td>2</td>\n",
       "      <td>0</td>\n",
       "    </tr>\n",
       "    <tr>\n",
       "      <th>Toyota</th>\n",
       "      <td>1</td>\n",
       "      <td>3</td>\n",
       "      <td>0</td>\n",
       "    </tr>\n",
       "  </tbody>\n",
       "</table>\n",
       "</div>"
      ]
     },
     "execution_count": 53,
     "metadata": {},
     "output_type": "execute_result"
    }
   ],
   "execution_count": 53
  },
  {
   "metadata": {
    "ExecuteTime": {
     "end_time": "2025-02-21T14:23:11.645758600Z",
     "start_time": "2025-02-21T05:27:51.620650Z"
    }
   },
   "cell_type": "code",
   "source": [
    "# Agrupamos las columnas por fabricante y buscamos el valor medio de las columnas numéricas\n",
    "ventas_autos.groupby('Fabricante').mean(numeric_only=True)"
   ],
   "id": "a0e3e3fa9e00cfa",
   "outputs": [
    {
     "data": {
      "text/plain": [
       "              Kilometraje  Puertas  Precio (USD)\n",
       "Fabricante                                      \n",
       "BMW          11179.000000     5.00       22000.0\n",
       "Honda        62778.333333     4.00        6500.0\n",
       "Nissan      122347.500000     4.00        6600.0\n",
       "Toyota       85451.250000     3.75        5437.5"
      ],
      "text/html": [
       "<div>\n",
       "<style scoped>\n",
       "    .dataframe tbody tr th:only-of-type {\n",
       "        vertical-align: middle;\n",
       "    }\n",
       "\n",
       "    .dataframe tbody tr th {\n",
       "        vertical-align: top;\n",
       "    }\n",
       "\n",
       "    .dataframe thead th {\n",
       "        text-align: right;\n",
       "    }\n",
       "</style>\n",
       "<table border=\"1\" class=\"dataframe\">\n",
       "  <thead>\n",
       "    <tr style=\"text-align: right;\">\n",
       "      <th></th>\n",
       "      <th>Kilometraje</th>\n",
       "      <th>Puertas</th>\n",
       "      <th>Precio (USD)</th>\n",
       "    </tr>\n",
       "    <tr>\n",
       "      <th>Fabricante</th>\n",
       "      <th></th>\n",
       "      <th></th>\n",
       "      <th></th>\n",
       "    </tr>\n",
       "  </thead>\n",
       "  <tbody>\n",
       "    <tr>\n",
       "      <th>BMW</th>\n",
       "      <td>11179.000000</td>\n",
       "      <td>5.00</td>\n",
       "      <td>22000.0</td>\n",
       "    </tr>\n",
       "    <tr>\n",
       "      <th>Honda</th>\n",
       "      <td>62778.333333</td>\n",
       "      <td>4.00</td>\n",
       "      <td>6500.0</td>\n",
       "    </tr>\n",
       "    <tr>\n",
       "      <th>Nissan</th>\n",
       "      <td>122347.500000</td>\n",
       "      <td>4.00</td>\n",
       "      <td>6600.0</td>\n",
       "    </tr>\n",
       "    <tr>\n",
       "      <th>Toyota</th>\n",
       "      <td>85451.250000</td>\n",
       "      <td>3.75</td>\n",
       "      <td>5437.5</td>\n",
       "    </tr>\n",
       "  </tbody>\n",
       "</table>\n",
       "</div>"
      ]
     },
     "execution_count": 67,
     "metadata": {},
     "output_type": "execute_result"
    }
   ],
   "execution_count": 67
  },
  {
   "metadata": {},
   "cell_type": "markdown",
   "source": "# MATPLOTLIB",
   "id": "af90c739a06c9dd7"
  },
  {
   "metadata": {
    "ExecuteTime": {
     "end_time": "2025-02-21T14:23:38.287148Z",
     "start_time": "2025-02-21T14:23:38.284146Z"
    }
   },
   "cell_type": "code",
   "source": [
    "# Importamos Matplotlib y creamos un gráfico con los valores de la columna Kilometraje\n",
    "import matplotlib as plt\n"
   ],
   "id": "1b55b7b622f20ad2",
   "outputs": [],
   "execution_count": 3
  },
  {
   "metadata": {
    "ExecuteTime": {
     "end_time": "2025-02-21T14:24:32.361858Z",
     "start_time": "2025-02-21T14:24:32.188239Z"
    }
   },
   "cell_type": "code",
   "source": "ventas_autos['Kilometraje'].plot()",
   "id": "d41d888484fa1d42",
   "outputs": [
    {
     "data": {
      "text/plain": [
       "<Axes: >"
      ]
     },
     "execution_count": 7,
     "metadata": {},
     "output_type": "execute_result"
    },
    {
     "data": {
      "text/plain": [
       "<Figure size 640x480 with 1 Axes>"
      ],
      "image/png": "[encoded data removed]"
     },
     "metadata": {},
     "output_type": "display_data"
    }
   ],
   "execution_count": 7
  },
  {
   "metadata": {
    "ExecuteTime": {
     "end_time": "2025-02-21T14:26:48.533857Z",
     "start_time": "2025-02-21T14:26:48.368855Z"
    }
   },
   "cell_type": "code",
   "source": [
    "# Puede que un gráfico más apropiado en este caso sea un histograma?\n",
    "ventas_autos['Kilometraje'].hist()"
   ],
   "id": "d7da008e0bb814a7",
   "outputs": [
    {
     "data": {
      "text/plain": [
       "<Axes: >"
      ]
     },
     "execution_count": 8,
     "metadata": {},
     "output_type": "execute_result"
    },
    {
     "data": {
      "text/plain": [
       "<Figure size 640x480 with 1 Axes>"
      ],
      "image/png": "[encoded data removed]"
     },
     "metadata": {},
     "output_type": "display_data"
    }
   ],
   "execution_count": 8
  },
  {
   "metadata": {
    "ExecuteTime": {
     "end_time": "2025-02-21T14:31:59.214134Z",
     "start_time": "2025-02-21T14:31:59.126133Z"
    }
   },
   "cell_type": "code",
   "source": [
    "# Intentamos graficar la columna de precios\n",
    "ventas_autos['Precio (USD)'].plot()"
   ],
   "id": "6ccd47ae12754ac7",
   "outputs": [
    {
     "data": {
      "text/plain": [
       "<Axes: >"
      ]
     },
     "execution_count": 23,
     "metadata": {},
     "output_type": "execute_result"
    },
    {
     "data": {
      "text/plain": [
       "<Figure size 640x480 with 1 Axes>"
      ],
      "image/png": "[encoded data removed]"
     },
     "metadata": {},
     "output_type": "display_data"
    }
   ],
   "execution_count": 23
  }
 ],
 "metadata": {
  "kernelspec": {
   "display_name": "Python 3",
   "language": "python",
   "name": "python3"
  },
  "language_info": {
   "codemirror_mode": {
    "name": "ipython",
    "version": 2
   },
   "file_extension": ".py",
   "mimetype": "text/x-python",
   "name": "python",
   "nbconvert_exporter": "python",
   "pygments_lexer": "ipython2",
   "version": "2.7.6"
  }
 },
 "nbformat": 4,
 "nbformat_minor": 5
}
