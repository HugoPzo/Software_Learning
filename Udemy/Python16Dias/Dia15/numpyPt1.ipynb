{
 "cells": [
  {
   "metadata": {},
   "cell_type": "markdown",
   "source": [
    "# Numpy\n",
    "\n",
    "La librería [NumPy](https://numpy.org/) es una librería de Python especializada en el cálculo numérico y el análisis de datos, especialmente para un gran volumen de datos.\n",
    "\n",
    "Incorpora una nueva clase de objetos llamados arrays que permite representar colecciones de datos de un mismo tipo en varias dimensiones, y funciones muy eficientes para su manipulación.\n",
    "\n",
    "La ventaja de Numpy frente a las listas predefinidas en Python es que el procesamiento de los arrays se realiza mucho más rápido (hasta 50 veces más) que las listas, lo cual la hace ideal para el procesamiento de vectores y matrices de grandes dimensiones."
   ],
   "id": "1be06ff6ddbf2c23"
  },
  {
   "metadata": {
    "collapsed": true,
    "ExecuteTime": {
     "end_time": "2025-02-22T15:54:46.746378Z",
     "start_time": "2025-02-22T15:54:46.743506Z"
    }
   },
   "cell_type": "code",
   "source": [
    "# Importamos Numpy con la abreviacion 'np'\n",
    "import numpy as np"
   ],
   "id": "initial_id",
   "outputs": [],
   "execution_count": 2
  },
  {
   "metadata": {},
   "cell_type": "markdown",
   "source": "### Arrays\n",
   "id": "f6d6e011ed658cba"
  },
  {
   "metadata": {
    "ExecuteTime": {
     "end_time": "2025-02-22T15:55:15.541176Z",
     "start_time": "2025-02-22T15:55:15.536091Z"
    }
   },
   "cell_type": "code",
   "source": [
    "# np.array() - Pueden ser tanto un tipo de matrices como de vectores\n",
    "\n",
    "# Una dimension - 5 Columnas\n",
    "array_unidim = np.array([5, 2, 6, 3, 8])\n",
    "\n",
    "# Dos Dimensiones - 2 Filas x 5 Columnas\n",
    "array_bidim = np.array([ [5, 2, 6, 3, 8],\n",
    "                         [7, 3, 8, 1, 5] ])\n",
    "\n",
    "\n",
    "# Tres Dimensiones\n",
    "array_tridim = np.array([  [[4, 7, 2],\n",
    "                            [5, 1, 4]],\n",
    "                            [[2, 5, 6],\n",
    "                            [3, 6, 7]]  ])"
   ],
   "id": "60d8e438a8a3e1e6",
   "outputs": [],
   "execution_count": 3
  },
  {
   "metadata": {},
   "cell_type": "markdown",
   "source": "### Atributos de los Arrays\n",
   "id": "835c8ebe47a831b2"
  },
  {
   "metadata": {
    "ExecuteTime": {
     "end_time": "2025-02-22T15:56:28.588549Z",
     "start_time": "2025-02-22T15:56:28.584315Z"
    }
   },
   "cell_type": "code",
   "source": [
    "matriz_act = array_unidim\n",
    "\n",
    "# Forma\n",
    "print(matriz_act.shape) # (5,) 5 columnas\n",
    "\n",
    "# Numero de Dimensiones\n",
    "print(matriz_act.ndim) # 1 - dimension\n",
    "\n",
    "# Tipos de datos\n",
    "print(matriz_act.dtype) # int64 - datos dentro de los arrays\n",
    "\n",
    "# Numero de datos\n",
    "print(matriz_act.size) # 5 - numero de datos encontrados\n",
    "\n",
    "# Tipo de dato\n",
    "print(type(matriz_act)) # <class 'numpy.ndarray'>"
   ],
   "id": "43fb9868f6204418",
   "outputs": [
    {
     "name": "stdout",
     "output_type": "stream",
     "text": [
      "(5,)\n",
      "1\n",
      "int32\n",
      "5\n",
      "<class 'numpy.ndarray'>\n"
     ]
    }
   ],
   "execution_count": 4
  },
  {
   "metadata": {
    "ExecuteTime": {
     "end_time": "2025-02-22T03:01:05.562604Z",
     "start_time": "2025-02-22T03:01:05.553971Z"
    }
   },
   "cell_type": "code",
   "source": [
    "matriz_act = array_bidim\n",
    "\n",
    "# Forma\n",
    "print(matriz_act.shape) # (2, 5) 2 filas x 5 columnas\n",
    "\n",
    "# Numero de Dimensiones\n",
    "print(matriz_act.ndim) # 2 - dimensiones\n",
    "\n",
    "# Tipos de datos\n",
    "print(matriz_act.dtype) # int64 - datos dentro de los arrays\n",
    "\n",
    "# Numero de datos\n",
    "print(matriz_act.size) # 10 - numero de datos encontrados\n",
    "\n",
    "# Tipo de dato\n",
    "print(type(matriz_act)) # <class 'numpy.ndarray'>"
   ],
   "id": "3af8aadd2bdc4b00",
   "outputs": [
    {
     "name": "stdout",
     "output_type": "stream",
     "text": [
      "(2, 5)\n",
      "2\n",
      "int64\n",
      "10\n",
      "<class 'numpy.ndarray'>\n"
     ]
    }
   ],
   "execution_count": 7
  },
  {
   "metadata": {
    "ExecuteTime": {
     "end_time": "2025-02-22T15:57:26.567677Z",
     "start_time": "2025-02-22T15:57:26.562713Z"
    }
   },
   "cell_type": "code",
   "source": [
    "matriz_act = array_tridim\n",
    "\n",
    "# Forma\n",
    "print(matriz_act.shape) # (2, 2, 3) 2 matrices(profundidad) de 2 filas x 3 columnas\n",
    "\n",
    "# Numero de Dimensiones\n",
    "print(matriz_act.ndim) # 3 - dimensiones\n",
    "\n",
    "# Tipos de datos\n",
    "print(matriz_act.dtype) # int64 - datos dentro de los arrays\n",
    "\n",
    "# Numero de datos\n",
    "print(matriz_act.size) # 12 - numero de datos encontrados\n",
    "\n",
    "# Tipo de dato\n",
    "print(type(matriz_act)) # <class 'numpy.ndarray'>"
   ],
   "id": "6dad713c4b48a80a",
   "outputs": [
    {
     "name": "stdout",
     "output_type": "stream",
     "text": [
      "(2, 2, 3)\n",
      "3\n",
      "int32\n",
      "12\n",
      "<class 'numpy.ndarray'>\n"
     ]
    }
   ],
   "execution_count": 5
  },
  {
   "metadata": {},
   "cell_type": "markdown",
   "source": [
    "# PANDAS\n",
    "\n",
    "¿Qué es Pandas?\n",
    "\n",
    "La biblioteca de software de código abierto **Pandas** está diseñada específicamente para la manipulación y el análisis de datos en el lenguaje Python. Es potente, flexible y fácil de usar.\n",
    "\n",
    "Gracias a Pandas, por fin se puede utilizar el lenguaje Python para cargar, alinear, manipular o incluso fusionar datos. El rendimiento es realmente impresionante cuando el código fuente del back-end está escrito en C o Python.\n",
    "\n",
    "¿Cómo funciona Pandas?\n",
    "\n",
    "Pandas trabaja sobre «DataFrames«: tablas de datos bidimensionales, donde cada columna contiene los valores de una variable y cada fila contiene un conjunto de valores de cada columna. Los datos almacenados en un DataFrame pueden ser números o caracteres.\n",
    "\n",
    "Los Data Scientists y los programadores familiarizados con el lenguaje de programación R para cálculo estadístico utilizan DataFrames para almacenar datos en una cuadrícula muy sencilla de revisar. Por eso Pandas se utiliza mucho para Machine Learning.\n",
    "\n",
    "\n"
   ],
   "id": "8f7909fde948edb9"
  },
  {
   "metadata": {
    "ExecuteTime": {
     "end_time": "2025-02-22T16:00:39.420951Z",
     "start_time": "2025-02-22T16:00:39.416620Z"
    }
   },
   "cell_type": "code",
   "source": "import pandas as pd",
   "id": "389e5a758e31fb08",
   "outputs": [],
   "execution_count": 6
  },
  {
   "metadata": {
    "ExecuteTime": {
     "end_time": "2025-02-22T16:00:41.889391Z",
     "start_time": "2025-02-22T16:00:41.882393Z"
    }
   },
   "cell_type": "code",
   "source": [
    "# Solo funciona con arrays bidimensionales\n",
    "\n",
    "datos_bidim = pd.DataFrame(array_bidim)\n",
    "datos_bidim\n"
   ],
   "id": "39617fc85a91d47a",
   "outputs": [
    {
     "data": {
      "text/plain": [
       "   0  1  2  3  4\n",
       "0  5  2  6  3  8\n",
       "1  7  3  8  1  5"
      ],
      "text/html": [
       "<div>\n",
       "<style scoped>\n",
       "    .dataframe tbody tr th:only-of-type {\n",
       "        vertical-align: middle;\n",
       "    }\n",
       "\n",
       "    .dataframe tbody tr th {\n",
       "        vertical-align: top;\n",
       "    }\n",
       "\n",
       "    .dataframe thead th {\n",
       "        text-align: right;\n",
       "    }\n",
       "</style>\n",
       "<table border=\"1\" class=\"dataframe\">\n",
       "  <thead>\n",
       "    <tr style=\"text-align: right;\">\n",
       "      <th></th>\n",
       "      <th>0</th>\n",
       "      <th>1</th>\n",
       "      <th>2</th>\n",
       "      <th>3</th>\n",
       "      <th>4</th>\n",
       "    </tr>\n",
       "  </thead>\n",
       "  <tbody>\n",
       "    <tr>\n",
       "      <th>0</th>\n",
       "      <td>5</td>\n",
       "      <td>2</td>\n",
       "      <td>6</td>\n",
       "      <td>3</td>\n",
       "      <td>8</td>\n",
       "    </tr>\n",
       "    <tr>\n",
       "      <th>1</th>\n",
       "      <td>7</td>\n",
       "      <td>3</td>\n",
       "      <td>8</td>\n",
       "      <td>1</td>\n",
       "      <td>5</td>\n",
       "    </tr>\n",
       "  </tbody>\n",
       "</table>\n",
       "</div>"
      ]
     },
     "execution_count": 8,
     "metadata": {},
     "output_type": "execute_result"
    }
   ],
   "execution_count": 8
  },
  {
   "metadata": {
    "ExecuteTime": {
     "end_time": "2025-02-22T16:00:55.485341Z",
     "start_time": "2025-02-22T16:00:55.479260Z"
    }
   },
   "cell_type": "code",
   "source": [
    "# Creamos un array de tamano 4x3, formado solamente por (1)\n",
    "unos = np.ones((4, 3))\n",
    "unos"
   ],
   "id": "81fcb4e8aeb0fc5a",
   "outputs": [
    {
     "data": {
      "text/plain": [
       "array([[1., 1., 1.],\n",
       "       [1., 1., 1.],\n",
       "       [1., 1., 1.],\n",
       "       [1., 1., 1.]])"
      ]
     },
     "execution_count": 9,
     "metadata": {},
     "output_type": "execute_result"
    }
   ],
   "execution_count": 9
  },
  {
   "metadata": {
    "ExecuteTime": {
     "end_time": "2025-02-22T16:01:03.816753Z",
     "start_time": "2025-02-22T16:01:03.811455Z"
    }
   },
   "cell_type": "code",
   "source": [
    "# Creamos un array de tamano 2x4x3, formado solamente por (0)\n",
    "ceros = np.zeros((2, 4, 3))\n",
    "ceros"
   ],
   "id": "5db2d0cf8e0c07c1",
   "outputs": [
    {
     "data": {
      "text/plain": [
       "array([[[0., 0., 0.],\n",
       "        [0., 0., 0.],\n",
       "        [0., 0., 0.],\n",
       "        [0., 0., 0.]],\n",
       "\n",
       "       [[0., 0., 0.],\n",
       "        [0., 0., 0.],\n",
       "        [0., 0., 0.],\n",
       "        [0., 0., 0.]]])"
      ]
     },
     "execution_count": 10,
     "metadata": {},
     "output_type": "execute_result"
    }
   ],
   "execution_count": 10
  },
  {
   "metadata": {
    "ExecuteTime": {
     "end_time": "2025-02-22T16:01:16.519959Z",
     "start_time": "2025-02-22T16:01:16.515063Z"
    }
   },
   "cell_type": "code",
   "source": [
    "# Creamos un array de numeros en el rango de 0 a 100, con un paso de 5\n",
    "array_1 = np.arange(0, 101, 5)\n",
    "array_1"
   ],
   "id": "fc4c698c4b14e5c0",
   "outputs": [
    {
     "data": {
      "text/plain": [
       "array([  0,   5,  10,  15,  20,  25,  30,  35,  40,  45,  50,  55,  60,\n",
       "        65,  70,  75,  80,  85,  90,  95, 100])"
      ]
     },
     "execution_count": 11,
     "metadata": {},
     "output_type": "execute_result"
    }
   ],
   "execution_count": 11
  },
  {
   "metadata": {
    "ExecuteTime": {
     "end_time": "2025-02-22T16:01:37.728333Z",
     "start_time": "2025-02-22T16:01:37.723333Z"
    }
   },
   "cell_type": "code",
   "source": [
    "# Creamos un array de dos dimesiones con numeros aleatorios\n",
    "array_2 = np.random.randint(0, 101, (3, 4))\n",
    "array_2"
   ],
   "id": "326317e0b4b99bac",
   "outputs": [
    {
     "data": {
      "text/plain": [
       "array([[ 3, 18,  2,  6],\n",
       "       [ 9, 71, 15, 80],\n",
       "       [80, 14, 13, 39]])"
      ]
     },
     "execution_count": 24,
     "metadata": {},
     "output_type": "execute_result"
    }
   ],
   "execution_count": 24
  },
  {
   "metadata": {
    "ExecuteTime": {
     "end_time": "2025-02-22T16:01:45.871248Z",
     "start_time": "2025-02-22T16:01:45.867031Z"
    }
   },
   "cell_type": "code",
   "source": [
    "# Creamos un array de numeros aleatorios decimales comprendidos de 0 a 1. (3, 5)\n",
    "array_3 = np.random.rand(3, 3)\n",
    "array_3"
   ],
   "id": "b21507854942303e",
   "outputs": [
    {
     "data": {
      "text/plain": [
       "array([[0.60203576, 0.91071525, 0.17928497],\n",
       "       [0.11367919, 0.33174685, 0.12033542],\n",
       "       [0.47900203, 0.75515643, 0.41422671]])"
      ]
     },
     "execution_count": 25,
     "metadata": {},
     "output_type": "execute_result"
    }
   ],
   "execution_count": 25
  },
  {
   "metadata": {
    "ExecuteTime": {
     "end_time": "2025-02-22T16:08:15.175308Z",
     "start_time": "2025-02-22T16:08:15.171888Z"
    }
   },
   "cell_type": "code",
   "source": [
    "# Siempre se generan los mismos numeros si establecemos una semilla\n",
    "\n",
    "import random\n",
    "random.seed(21)\n",
    "\n",
    "for i in range (1, 10):\n",
    "    a = random.randint(1,10)\n",
    "    print(a)"
   ],
   "id": "636e5f5105f15bbf",
   "outputs": [
    {
     "name": "stdout",
     "output_type": "stream",
     "text": [
      "3\n",
      "7\n",
      "7\n",
      "5\n",
      "8\n",
      "4\n",
      "8\n",
      "9\n",
      "3\n"
     ]
    }
   ],
   "execution_count": 66
  },
  {
   "metadata": {
    "ExecuteTime": {
     "end_time": "2025-02-22T16:08:17.410992Z",
     "start_time": "2025-02-22T16:08:17.405040Z"
    }
   },
   "cell_type": "code",
   "source": [
    "# Establecemos la 'semilla' de numeros aleatorios\n",
    "np.random.seed(21)\n",
    "\n",
    "# Creamos un array de numeros aleatorios enteros comprendidos entre 0 y 10, de\n",
    "# tamano (3, 5)\n",
    "\n",
    "array_4 = np.random.randint(0, 10, (3, 5))\n",
    "array_4 # Siempre se generaran los mismos numeros ya que establecimos\n",
    "                    # una semilla"
   ],
   "id": "64685cb18b19a3cb",
   "outputs": [
    {
     "data": {
      "text/plain": [
       "array([[9, 8, 4, 0, 0],\n",
       "       [8, 3, 2, 1, 8],\n",
       "       [9, 6, 0, 4, 6]])"
      ]
     },
     "execution_count": 67,
     "metadata": {},
     "output_type": "execute_result"
    }
   ],
   "execution_count": 67
  },
  {
   "metadata": {},
   "cell_type": "markdown",
   "source": "---\n",
   "id": "bf066760501c50a1"
  },
  {
   "metadata": {},
   "cell_type": "markdown",
   "source": "### Crear una grafica a traves de un data frame de pandas\n",
   "id": "f4916c0416da2415"
  },
  {
   "metadata": {
    "ExecuteTime": {
     "end_time": "2025-02-22T16:09:43.435099Z",
     "start_time": "2025-02-22T16:09:43.431098Z"
    }
   },
   "cell_type": "code",
   "source": [
    "import matplotlib.pyplot as plt\n",
    "import seaborn as sns"
   ],
   "id": "dbab2d959ec41b39",
   "outputs": [],
   "execution_count": 72
  },
  {
   "metadata": {
    "ExecuteTime": {
     "end_time": "2025-02-22T16:10:36.926694Z",
     "start_time": "2025-02-22T16:10:36.919306Z"
    }
   },
   "cell_type": "code",
   "source": [
    "data = {'Year': [2010, 2011, 2012, 2013, 2014],\n",
    "        'Sales': [400, 120, 350, 90, 200]}\n",
    "\n",
    "df = pd.DataFrame(data)\n",
    "df\n"
   ],
   "id": "7e7d55b5b3d01fad",
   "outputs": [
    {
     "data": {
      "text/plain": [
       "   Year  Sales\n",
       "0  2010    400\n",
       "1  2011    120\n",
       "2  2012    350\n",
       "3  2013     90\n",
       "4  2014    200"
      ],
      "text/html": [
       "<div>\n",
       "<style scoped>\n",
       "    .dataframe tbody tr th:only-of-type {\n",
       "        vertical-align: middle;\n",
       "    }\n",
       "\n",
       "    .dataframe tbody tr th {\n",
       "        vertical-align: top;\n",
       "    }\n",
       "\n",
       "    .dataframe thead th {\n",
       "        text-align: right;\n",
       "    }\n",
       "</style>\n",
       "<table border=\"1\" class=\"dataframe\">\n",
       "  <thead>\n",
       "    <tr style=\"text-align: right;\">\n",
       "      <th></th>\n",
       "      <th>Year</th>\n",
       "      <th>Sales</th>\n",
       "    </tr>\n",
       "  </thead>\n",
       "  <tbody>\n",
       "    <tr>\n",
       "      <th>0</th>\n",
       "      <td>2010</td>\n",
       "      <td>400</td>\n",
       "    </tr>\n",
       "    <tr>\n",
       "      <th>1</th>\n",
       "      <td>2011</td>\n",
       "      <td>120</td>\n",
       "    </tr>\n",
       "    <tr>\n",
       "      <th>2</th>\n",
       "      <td>2012</td>\n",
       "      <td>350</td>\n",
       "    </tr>\n",
       "    <tr>\n",
       "      <th>3</th>\n",
       "      <td>2013</td>\n",
       "      <td>90</td>\n",
       "    </tr>\n",
       "    <tr>\n",
       "      <th>4</th>\n",
       "      <td>2014</td>\n",
       "      <td>200</td>\n",
       "    </tr>\n",
       "  </tbody>\n",
       "</table>\n",
       "</div>"
      ]
     },
     "execution_count": 74,
     "metadata": {},
     "output_type": "execute_result"
    }
   ],
   "execution_count": 74
  },
  {
   "metadata": {
    "ExecuteTime": {
     "end_time": "2025-02-22T03:05:19.386519Z",
     "start_time": "2025-02-22T03:05:19.140256Z"
    }
   },
   "cell_type": "code",
   "source": [
    "plt.plot(df['Year'], df['Sales'])\n",
    "plt.title('Sales over the Years')\n",
    "plt.xlabel('Year')\n",
    "plt.ylabel('Sales')\n",
    "plt.show()"
   ],
   "id": "ae5de50d0105d95b",
   "outputs": [
    {
     "data": {
      "text/plain": [
       "<Figure size 640x480 with 1 Axes>"
      ],
      "image/png": "[encoded data removed]"
     },
     "metadata": {},
     "output_type": "display_data"
    }
   ],
   "execution_count": 21
  },
  {
   "metadata": {
    "ExecuteTime": {
     "end_time": "2025-02-22T16:11:55.281167Z",
     "start_time": "2025-02-22T16:11:55.001230Z"
    }
   },
   "cell_type": "code",
   "source": [
    "sns.lineplot(data=df, x='Year', y='Sales')\n",
    "plt.title('Sales over the Years')\n",
    "plt.show()\n"
   ],
   "id": "d3e07fc457ea62a8",
   "outputs": [
    {
     "data": {
      "text/plain": [
       "<Figure size 640x480 with 1 Axes>"
      ],
      "image/png": "[encoded data removed]"
     },
     "metadata": {},
     "output_type": "display_data"
    }
   ],
   "execution_count": 75
  },
  {
   "metadata": {
    "ExecuteTime": {
     "end_time": "2025-02-22T16:12:33.397811Z",
     "start_time": "2025-02-22T16:12:33.251809Z"
    }
   },
   "cell_type": "code",
   "source": [
    "plt.plot(df['Year'], df['Sales'], linestyle='--', color='m', marker='o')\n",
    "plt.title('Sales over the Years')\n",
    "plt.xlabel('Year')\n",
    "plt.ylabel('Sales')\n",
    "plt.grid(True)\n",
    "plt.show()"
   ],
   "id": "ecf3fb81e295d786",
   "outputs": [
    {
     "data": {
      "text/plain": [
       "<Figure size 640x480 with 1 Axes>"
      ],
      "image/png": "[encoded data removed]"
     },
     "metadata": {},
     "output_type": "display_data"
    }
   ],
   "execution_count": 77
  },
  {
   "metadata": {},
   "cell_type": "markdown",
   "source": "---",
   "id": "4d68a81d027bb42"
  },
  {
   "metadata": {},
   "cell_type": "markdown",
   "source": "## Segunda Parte de Numpy\n",
   "id": "e348c6fcd9b71f34"
  },
  {
   "metadata": {
    "ExecuteTime": {
     "end_time": "2025-02-22T17:14:03.296717Z",
     "start_time": "2025-02-22T17:14:03.277721Z"
    }
   },
   "cell_type": "code",
   "source": [
    "# Encontramos los valores únicos del array_4\n",
    "np.unique(array_4)"
   ],
   "id": "bd4c6d896db47e52",
   "outputs": [
    {
     "data": {
      "text/plain": [
       "array([0, 1, 2, 3, 4, 6, 8, 9])"
      ]
     },
     "execution_count": 78,
     "metadata": {},
     "output_type": "execute_result"
    }
   ],
   "execution_count": 78
  },
  {
   "metadata": {
    "ExecuteTime": {
     "end_time": "2025-02-22T17:14:26.290226Z",
     "start_time": "2025-02-22T17:14:26.286235Z"
    }
   },
   "cell_type": "code",
   "source": [
    "# Extraemos el elemento de índice 1 del array_4\n",
    "array_4[0]"
   ],
   "id": "8440158a1ce4b1a",
   "outputs": [
    {
     "data": {
      "text/plain": [
       "array([9, 8, 4, 0, 0])"
      ]
     },
     "execution_count": 79,
     "metadata": {},
     "output_type": "execute_result"
    }
   ],
   "execution_count": 79
  },
  {
   "metadata": {
    "ExecuteTime": {
     "end_time": "2025-02-22T17:14:30.354453Z",
     "start_time": "2025-02-22T17:14:30.349105Z"
    }
   },
   "cell_type": "code",
   "source": [
    "# Extraemos las primeras dos filas del array_4\n",
    "array_4[:2]\n"
   ],
   "id": "ae8d9d14ab3f5396",
   "outputs": [
    {
     "data": {
      "text/plain": [
       "array([[9, 8, 4, 0, 0],\n",
       "       [8, 3, 2, 1, 8]])"
      ]
     },
     "execution_count": 80,
     "metadata": {},
     "output_type": "execute_result"
    }
   ],
   "execution_count": 80
  },
  {
   "metadata": {
    "ExecuteTime": {
     "end_time": "2025-02-22T17:15:22.106537Z",
     "start_time": "2025-02-22T17:15:22.101285Z"
    }
   },
   "cell_type": "code",
   "source": [
    "# Extraemos los dos primeros datos de las primeras dos filas del array_4\n",
    "array_4[:2, :2]"
   ],
   "id": "ca6a47398434fd38",
   "outputs": [
    {
     "data": {
      "text/plain": [
       "array([[9, 8],\n",
       "       [8, 3]])"
      ]
     },
     "execution_count": 82,
     "metadata": {},
     "output_type": "execute_result"
    }
   ],
   "execution_count": 82
  },
  {
   "metadata": {
    "ExecuteTime": {
     "end_time": "2025-02-22T17:15:24.785147Z",
     "start_time": "2025-02-22T17:15:24.780895Z"
    }
   },
   "cell_type": "code",
   "source": [
    "# Creamos dos arrays de tamaño 3x4: uno relleno de números aleatorios entre 0 y 10, y otro relleno de unos\n",
    "\n",
    "array_5 = np.random.randint(0, 10, (3, 4))\n",
    "array_6 = np.ones((3, 4))"
   ],
   "id": "a0060b0bef710fb7",
   "outputs": [],
   "execution_count": 83
  },
  {
   "metadata": {
    "ExecuteTime": {
     "end_time": "2025-02-22T17:15:32.808025Z",
     "start_time": "2025-02-22T17:15:32.802023Z"
    }
   },
   "cell_type": "code",
   "source": [
    "# invocamos el array_5\n",
    "array_5"
   ],
   "id": "452c0e0bf230f013",
   "outputs": [
    {
     "data": {
      "text/plain": [
       "array([[4, 4, 7, 8],\n",
       "       [9, 5, 6, 5],\n",
       "       [2, 6, 2, 8]])"
      ]
     },
     "execution_count": 84,
     "metadata": {},
     "output_type": "execute_result"
    }
   ],
   "execution_count": 84
  },
  {
   "metadata": {
    "ExecuteTime": {
     "end_time": "2025-02-22T17:15:35.658121Z",
     "start_time": "2025-02-22T17:15:35.653600Z"
    }
   },
   "cell_type": "code",
   "source": [
    "# invocamos el array_6\n",
    "array_6"
   ],
   "id": "6f4158fc075065ff",
   "outputs": [
    {
     "data": {
      "text/plain": [
       "array([[1., 1., 1., 1.],\n",
       "       [1., 1., 1., 1.],\n",
       "       [1., 1., 1., 1.]])"
      ]
     },
     "execution_count": 85,
     "metadata": {},
     "output_type": "execute_result"
    }
   ],
   "execution_count": 85
  },
  {
   "metadata": {
    "ExecuteTime": {
     "end_time": "2025-02-22T17:15:42.897980Z",
     "start_time": "2025-02-22T17:15:42.892012Z"
    }
   },
   "cell_type": "code",
   "source": [
    "# Sumamos los dos arrays\n",
    "array_5 + array_6"
   ],
   "id": "7a56ac5bd1089c2a",
   "outputs": [
    {
     "data": {
      "text/plain": [
       "array([[ 5.,  5.,  8.,  9.],\n",
       "       [10.,  6.,  7.,  6.],\n",
       "       [ 3.,  7.,  3.,  9.]])"
      ]
     },
     "execution_count": 86,
     "metadata": {},
     "output_type": "execute_result"
    }
   ],
   "execution_count": 86
  },
  {
   "metadata": {
    "ExecuteTime": {
     "end_time": "2025-02-22T17:15:45.759997Z",
     "start_time": "2025-02-22T17:15:45.754655Z"
    }
   },
   "cell_type": "code",
   "source": [
    "# Creamos ahora un array de tamaño (4,3) lleno de unos\n",
    "array_7 = np.ones((4, 3))\n",
    "array_7"
   ],
   "id": "2baa812f1383021f",
   "outputs": [
    {
     "data": {
      "text/plain": [
       "array([[1., 1., 1.],\n",
       "       [1., 1., 1.],\n",
       "       [1., 1., 1.],\n",
       "       [1., 1., 1.]])"
      ]
     },
     "execution_count": 87,
     "metadata": {},
     "output_type": "execute_result"
    }
   ],
   "execution_count": 87
  },
  {
   "metadata": {},
   "cell_type": "code",
   "outputs": [],
   "execution_count": null,
   "source": [
    "# Intentaremos sumar los arrays 6 y 7\n",
    "array_6 + array_7\n",
    "\n",
    "# No se pueden sumar ya que no tienen el mismo tamaño"
   ],
   "id": "18b90ebd52ad777e"
  },
  {
   "metadata": {
    "ExecuteTime": {
     "end_time": "2025-02-22T17:15:56.293411Z",
     "start_time": "2025-02-22T17:15:56.289299Z"
    }
   },
   "cell_type": "code",
   "source": [
    "# Entonces crearemos otro array de tamaño (4,3) lleno de unos\n",
    "array_8 = np.ones((4, 3))\n",
    "array_8"
   ],
   "id": "f36244d2c85056ce",
   "outputs": [
    {
     "data": {
      "text/plain": [
       "array([[1., 1., 1.],\n",
       "       [1., 1., 1.],\n",
       "       [1., 1., 1.],\n",
       "       [1., 1., 1.]])"
      ]
     },
     "execution_count": 88,
     "metadata": {},
     "output_type": "execute_result"
    }
   ],
   "execution_count": 88
  },
  {
   "metadata": {
    "ExecuteTime": {
     "end_time": "2025-02-22T03:08:28.202231Z",
     "start_time": "2025-02-22T03:08:28.198391Z"
    }
   },
   "cell_type": "code",
   "source": [
    "# Restamos el array_8 al array_7\n",
    "array_8 - array_7"
   ],
   "id": "105a49ea34b57da1",
   "outputs": [
    {
     "data": {
      "text/plain": [
       "array([[0., 0., 0.],\n",
       "       [0., 0., 0.],\n",
       "       [0., 0., 0.],\n",
       "       [0., 0., 0.]])"
      ]
     },
     "execution_count": 36,
     "metadata": {},
     "output_type": "execute_result"
    }
   ],
   "execution_count": 36
  },
  {
   "metadata": {
    "ExecuteTime": {
     "end_time": "2025-02-22T17:16:20.542200Z",
     "start_time": "2025-02-22T17:16:20.537728Z"
    }
   },
   "cell_type": "code",
   "source": [
    "# Creamos otros dos arrays de tamaño 3x3 con números aleatorios del 1 al 5\n",
    "array_9 = np.random.randint(1, 5, (3, 3))\n",
    "array_10 = np.random.randint(1, 5, (3, 3))"
   ],
   "id": "b9a62a28452639e",
   "outputs": [],
   "execution_count": 90
  },
  {
   "metadata": {
    "ExecuteTime": {
     "end_time": "2025-02-22T03:08:41.109573Z",
     "start_time": "2025-02-22T03:08:41.105497Z"
    }
   },
   "cell_type": "code",
   "source": [
    "# invocamos el array_9\n",
    "array_9"
   ],
   "id": "49549f50c4c2273c",
   "outputs": [
    {
     "data": {
      "text/plain": [
       "array([[1, 3, 1],\n",
       "       [2, 2, 1],\n",
       "       [3, 4, 1]])"
      ]
     },
     "execution_count": 38,
     "metadata": {},
     "output_type": "execute_result"
    }
   ],
   "execution_count": 38
  },
  {
   "metadata": {
    "ExecuteTime": {
     "end_time": "2025-02-22T03:08:48.054363Z",
     "start_time": "2025-02-22T03:08:48.050696Z"
    }
   },
   "cell_type": "code",
   "source": [
    "# invocamos el array_10\n",
    "array_10"
   ],
   "id": "29cf9ca2046d4bc3",
   "outputs": [
    {
     "data": {
      "text/plain": [
       "array([[1, 4, 2],\n",
       "       [1, 1, 3],\n",
       "       [4, 3, 1]])"
      ]
     },
     "execution_count": 39,
     "metadata": {},
     "output_type": "execute_result"
    }
   ],
   "execution_count": 39
  },
  {
   "metadata": {
    "ExecuteTime": {
     "end_time": "2025-02-22T17:16:22.439920Z",
     "start_time": "2025-02-22T17:16:22.434509Z"
    }
   },
   "cell_type": "code",
   "source": [
    "# Multiplicamos los últimos dos arrays entre sí\n",
    "array_9 * array_10"
   ],
   "id": "83874847d814cb1e",
   "outputs": [
    {
     "data": {
      "text/plain": [
       "array([[ 1, 12,  2],\n",
       "       [ 2,  2,  3],\n",
       "       [12, 12,  1]])"
      ]
     },
     "execution_count": 91,
     "metadata": {},
     "output_type": "execute_result"
    }
   ],
   "execution_count": 91
  },
  {
   "metadata": {
    "ExecuteTime": {
     "end_time": "2025-02-22T03:09:00.980323Z",
     "start_time": "2025-02-22T03:09:00.977027Z"
    }
   },
   "cell_type": "code",
   "source": [
    "# Elevamos el array_9 al cuadrado\n",
    "array_9 ** 2"
   ],
   "id": "2a0c9040e7e714bd",
   "outputs": [
    {
     "data": {
      "text/plain": [
       "array([[ 1,  9,  1],\n",
       "       [ 4,  4,  1],\n",
       "       [ 9, 16,  1]])"
      ]
     },
     "execution_count": 41,
     "metadata": {},
     "output_type": "execute_result"
    }
   ],
   "execution_count": 41
  },
  {
   "metadata": {
    "ExecuteTime": {
     "end_time": "2025-02-22T17:17:19.363428Z",
     "start_time": "2025-02-22T17:17:19.354211Z"
    }
   },
   "cell_type": "code",
   "source": [
    "# Buscamos la raíz cuadrada del array_10\n",
    "np.sqrt(array_10)"
   ],
   "id": "1ebe43355ecdb03",
   "outputs": [
    {
     "data": {
      "text/plain": [
       "array([[1.        , 2.        , 1.41421356],\n",
       "       [1.        , 1.        , 1.73205081],\n",
       "       [2.        , 1.73205081, 1.        ]])"
      ]
     },
     "execution_count": 94,
     "metadata": {},
     "output_type": "execute_result"
    }
   ],
   "execution_count": 94
  },
  {
   "metadata": {
    "ExecuteTime": {
     "end_time": "2025-02-22T17:17:21.654262Z",
     "start_time": "2025-02-22T17:17:21.649262Z"
    }
   },
   "cell_type": "code",
   "source": [
    "# Hallamos el promedio de los valores del array_9\n",
    "array_9.mean()"
   ],
   "id": "2c4b39b7a3b50abf",
   "outputs": [
    {
     "data": {
      "text/plain": [
       "2.0"
      ]
     },
     "execution_count": 95,
     "metadata": {},
     "output_type": "execute_result"
    }
   ],
   "execution_count": 95
  },
  {
   "metadata": {
    "ExecuteTime": {
     "end_time": "2025-02-22T17:17:24.712365Z",
     "start_time": "2025-02-22T17:17:24.707795Z"
    }
   },
   "cell_type": "code",
   "source": [
    "# Hallamos el valor máximo de los valores del array_9\n",
    "array_9.max()"
   ],
   "id": "b3cbd66b11ba2636",
   "outputs": [
    {
     "data": {
      "text/plain": [
       "4"
      ]
     },
     "execution_count": 96,
     "metadata": {},
     "output_type": "execute_result"
    }
   ],
   "execution_count": 96
  },
  {
   "metadata": {
    "ExecuteTime": {
     "end_time": "2025-02-22T17:17:27.896135Z",
     "start_time": "2025-02-22T17:17:27.891684Z"
    }
   },
   "cell_type": "code",
   "source": [
    "# Hallamos el valor mínimo de los valores del array_9\n",
    "array_9.min()"
   ],
   "id": "ed9a50281ef3e012",
   "outputs": [
    {
     "data": {
      "text/plain": [
       "1"
      ]
     },
     "execution_count": 97,
     "metadata": {},
     "output_type": "execute_result"
    }
   ],
   "execution_count": 97
  },
  {
   "metadata": {
    "ExecuteTime": {
     "end_time": "2025-02-22T17:17:29.980060Z",
     "start_time": "2025-02-22T17:17:29.975873Z"
    }
   },
   "cell_type": "code",
   "source": [
    "# Cambiamos la forma del array_9 por una de 9x1, y lo almacenamos como array_11\n",
    "array_11 = array_9.reshape((9, 1))\n"
   ],
   "id": "fe3526da02b37b43",
   "outputs": [],
   "execution_count": 98
  },
  {
   "metadata": {
    "ExecuteTime": {
     "end_time": "2025-02-22T17:17:32.864710Z",
     "start_time": "2025-02-22T17:17:32.860710Z"
    }
   },
   "cell_type": "code",
   "source": [
    "# invocamos el array_11\n",
    "array_11"
   ],
   "id": "4eac0f0d8036fc4c",
   "outputs": [
    {
     "data": {
      "text/plain": [
       "array([[1],\n",
       "       [3],\n",
       "       [1],\n",
       "       [2],\n",
       "       [2],\n",
       "       [1],\n",
       "       [3],\n",
       "       [4],\n",
       "       [1]])"
      ]
     },
     "execution_count": 99,
     "metadata": {},
     "output_type": "execute_result"
    }
   ],
   "execution_count": 99
  },
  {
   "metadata": {
    "ExecuteTime": {
     "end_time": "2025-02-22T03:09:44.429605Z",
     "start_time": "2025-02-22T03:09:44.425638Z"
    }
   },
   "cell_type": "code",
   "source": [
    "# Transponemos el array_11\n",
    "array_11.flatten()"
   ],
   "id": "a007dfbbad28ced9",
   "outputs": [
    {
     "data": {
      "text/plain": [
       "array([1, 3, 1, 2, 2, 1, 3, 4, 1])"
      ]
     },
     "execution_count": 48,
     "metadata": {},
     "output_type": "execute_result"
    }
   ],
   "execution_count": 48
  },
  {
   "metadata": {
    "ExecuteTime": {
     "end_time": "2025-02-22T17:17:37.467010Z",
     "start_time": "2025-02-22T17:17:37.462998Z"
    }
   },
   "cell_type": "code",
   "source": [
    "# Comparamos el array_9 y el array_10, para saber cuáles elementos del array_9 son mayores a los del array_10\n",
    "resultados = array_9 > array_10"
   ],
   "id": "338d88c29e756b9d",
   "outputs": [],
   "execution_count": 100
  },
  {
   "metadata": {
    "ExecuteTime": {
     "end_time": "2025-02-22T17:17:40.303629Z",
     "start_time": "2025-02-22T17:17:40.298630Z"
    }
   },
   "cell_type": "code",
   "source": "resultados.dtype",
   "id": "ee0e38a746183663",
   "outputs": [
    {
     "data": {
      "text/plain": [
       "dtype('bool')"
      ]
     },
     "execution_count": 101,
     "metadata": {},
     "output_type": "execute_result"
    }
   ],
   "execution_count": 101
  },
  {
   "metadata": {
    "ExecuteTime": {
     "end_time": "2025-02-22T17:17:43.441419Z",
     "start_time": "2025-02-22T17:17:43.436250Z"
    }
   },
   "cell_type": "code",
   "source": [
    "# Alguno de los elementos del array_9 es igual su equivalente del array_10?\n",
    "array_9 == array_10"
   ],
   "id": "65d2afdbab00aad0",
   "outputs": [
    {
     "data": {
      "text/plain": [
       "array([[ True, False, False],\n",
       "       [False, False, False],\n",
       "       [False, False,  True]])"
      ]
     },
     "execution_count": 102,
     "metadata": {},
     "output_type": "execute_result"
    }
   ],
   "execution_count": 102
  },
  {
   "metadata": {
    "ExecuteTime": {
     "end_time": "2025-02-22T17:17:45.534183Z",
     "start_time": "2025-02-22T17:17:45.530151Z"
    }
   },
   "cell_type": "code",
   "source": [
    "# Comparamos nuevamente ambos arrays, en esta ocasión con >=\n",
    "array_9 >= array_10"
   ],
   "id": "b232d8fc65a18760",
   "outputs": [
    {
     "data": {
      "text/plain": [
       "array([[ True, False, False],\n",
       "       [ True,  True, False],\n",
       "       [False,  True,  True]])"
      ]
     },
     "execution_count": 103,
     "metadata": {},
     "output_type": "execute_result"
    }
   ],
   "execution_count": 103
  },
  {
   "metadata": {
    "ExecuteTime": {
     "end_time": "2025-02-22T17:17:47.724631Z",
     "start_time": "2025-02-22T17:17:47.717447Z"
    }
   },
   "cell_type": "code",
   "source": [
    "# Buscamos los elementos del array_9 que son mayores a 2\n",
    "array_9 > 2"
   ],
   "id": "d827f7f9e5344aeb",
   "outputs": [
    {
     "data": {
      "text/plain": [
       "array([[False,  True, False],\n",
       "       [False, False, False],\n",
       "       [ True,  True, False]])"
      ]
     },
     "execution_count": 104,
     "metadata": {},
     "output_type": "execute_result"
    }
   ],
   "execution_count": 104
  },
  {
   "metadata": {
    "ExecuteTime": {
     "end_time": "2025-02-22T17:17:50.402131Z",
     "start_time": "2025-02-22T17:17:50.395964Z"
    }
   },
   "cell_type": "code",
   "source": [
    "# Ordenamos de menor a mayor los elementos dentro del array_9\n",
    "np.sort(array_9)"
   ],
   "id": "7331efd0d7cea470",
   "outputs": [
    {
     "data": {
      "text/plain": [
       "array([[1, 1, 3],\n",
       "       [1, 2, 2],\n",
       "       [1, 3, 4]])"
      ]
     },
     "execution_count": 105,
     "metadata": {},
     "output_type": "execute_result"
    }
   ],
   "execution_count": 105
  },
  {
   "metadata": {
    "ExecuteTime": {
     "end_time": "2025-02-22T17:17:52.138333Z",
     "start_time": "2025-02-22T17:17:52.134334Z"
    }
   },
   "cell_type": "code",
   "source": [
    "# Hacemos dos arrays de diferenters tamaños y los multiplicamos\n",
    "arr_1 = np.random.randint(1, 20, (4, 5))\n",
    "arr_2 = np.random.randint(1, 20, (5, 3))\n"
   ],
   "id": "b14fcd71dd954613",
   "outputs": [],
   "execution_count": 106
  },
  {
   "metadata": {
    "ExecuteTime": {
     "end_time": "2025-02-22T17:17:54.190397Z",
     "start_time": "2025-02-22T17:17:54.181303Z"
    }
   },
   "cell_type": "code",
   "source": "arr_1",
   "id": "d6173adfeffa9a08",
   "outputs": [
    {
     "data": {
      "text/plain": [
       "array([[10, 17, 14,  1,  6],\n",
       "       [ 6, 12,  4,  5, 13],\n",
       "       [13,  7,  1,  1, 17],\n",
       "       [16,  3,  8,  2,  9]])"
      ]
     },
     "execution_count": 107,
     "metadata": {},
     "output_type": "execute_result"
    }
   ],
   "execution_count": 107
  },
  {
   "metadata": {
    "ExecuteTime": {
     "end_time": "2025-02-22T03:11:07.680984Z",
     "start_time": "2025-02-22T03:11:07.666509Z"
    }
   },
   "cell_type": "code",
   "source": [
    "# No se pueden multiplicar\n",
    "\n",
    "arr_1 * arr_2"
   ],
   "id": "548bca450b5f9f55",
   "outputs": [
    {
     "ename": "ValueError",
     "evalue": "operands could not be broadcast together with shapes (4,5) (5,3) ",
     "output_type": "error",
     "traceback": [
      "\u001B[0;31m---------------------------------------------------------------------------\u001B[0m",
      "\u001B[0;31mValueError\u001B[0m                                Traceback (most recent call last)",
      "Cell \u001B[0;32mIn[59], line 3\u001B[0m\n\u001B[1;32m      1\u001B[0m \u001B[38;5;66;03m# No se pueden multiplicar\u001B[39;00m\n\u001B[0;32m----> 3\u001B[0m \u001B[43marr_1\u001B[49m\u001B[43m \u001B[49m\u001B[38;5;241;43m*\u001B[39;49m\u001B[43m \u001B[49m\u001B[43marr_2\u001B[49m\n",
      "\u001B[0;31mValueError\u001B[0m: operands could not be broadcast together with shapes (4,5) (5,3) "
     ]
    }
   ],
   "execution_count": 59
  },
  {
   "metadata": {
    "ExecuteTime": {
     "end_time": "2025-02-22T17:17:56.383197Z",
     "start_time": "2025-02-22T17:17:56.376094Z"
    }
   },
   "cell_type": "code",
   "outputs": [
    {
     "data": {
      "text/plain": [
       "array([[19,  8, 12],\n",
       "       [ 1, 15, 16],\n",
       "       [ 8,  6, 12],\n",
       "       [19,  8,  1],\n",
       "       [ 5,  3, 19]])"
      ]
     },
     "execution_count": 108,
     "metadata": {},
     "output_type": "execute_result"
    }
   ],
   "execution_count": 108,
   "source": "arr_2",
   "id": "1a194e19a8e7c87f"
  }
 ],
 "metadata": {
  "kernelspec": {
   "display_name": "Python 3",
   "language": "python",
   "name": "python3"
  },
  "language_info": {
   "codemirror_mode": {
    "name": "ipython",
    "version": 2
   },
   "file_extension": ".py",
   "mimetype": "text/x-python",
   "name": "python",
   "nbconvert_exporter": "python",
   "pygments_lexer": "ipython2",
   "version": "2.7.6"
  }
 },
 "nbformat": 4,
 "nbformat_minor": 5
}
