{
 "cells": [
  {
   "metadata": {},
   "cell_type": "markdown",
   "source": [
    "# Numpy\n",
    "\n",
    "La librería [NumPy](https://numpy.org/) es una librería de Python especializada en el cálculo numérico y el análisis de datos, especialmente para un gran volumen de datos.\n",
    "\n",
    "Incorpora una nueva clase de objetos llamados arrays que permite representar colecciones de datos de un mismo tipo en varias dimensiones, y funciones muy eficientes para su manipulación.\n",
    "\n",
    "La ventaja de Numpy frente a las listas predefinidas en Python es que el procesamiento de los arrays se realiza mucho más rápido (hasta 50 veces más) que las listas, lo cual la hace ideal para el procesamiento de vectores y matrices de grandes dimensiones."
   ],
   "id": "d77ea9c5856b6ef7"
  },
  {
   "metadata": {
    "collapsed": true,
    "ExecuteTime": {
     "end_time": "2025-02-21T01:38:29.934763Z",
     "start_time": "2025-02-21T01:38:29.931455Z"
    }
   },
   "cell_type": "code",
   "source": [
    "# Importamos Numpy con la abreviacion 'np'\n",
    "import numpy as np\n",
    "from pygame.surfarray import array_alpha"
   ],
   "id": "initial_id",
   "outputs": [],
   "execution_count": 22
  },
  {
   "metadata": {},
   "cell_type": "markdown",
   "source": "### Arrays",
   "id": "9387ca67bd7890d7"
  },
  {
   "metadata": {
    "ExecuteTime": {
     "end_time": "2025-02-21T01:38:29.950304Z",
     "start_time": "2025-02-21T01:38:29.947297Z"
    }
   },
   "cell_type": "code",
   "source": [
    "# np.array() - Pueden ser tanto un tipo de matrices como de vectores\n",
    "\n",
    "# Una dimension - 5 Columnas\n",
    "array_unidim = np.array([5, 2, 6, 3, 8])\n",
    "\n",
    "# Dos Dimensiones - 2 Filas x 5 Columnas\n",
    "array_bidim = np.array([ [5, 2, 6, 3, 8],\n",
    "                         [7, 3, 8, 1, 5] ])\n",
    "\n",
    "\n",
    "# Tres Dimensiones\n",
    "array_tridim = np.array([  [[4, 7, 2],\n",
    "                            [5, 1, 4]],\n",
    "                            [[2, 5, 6],\n",
    "                            [3, 6, 7]]  ])\n",
    "\n"
   ],
   "id": "6a1296a1313ad197",
   "outputs": [],
   "execution_count": 23
  },
  {
   "metadata": {},
   "cell_type": "markdown",
   "source": "### Atributos de los Arrays",
   "id": "8d41204700ceb3ad"
  },
  {
   "metadata": {
    "ExecuteTime": {
     "end_time": "2025-02-21T01:38:29.959466Z",
     "start_time": "2025-02-21T01:38:29.956310Z"
    }
   },
   "cell_type": "code",
   "source": [
    "matriz_act = array_unidim\n",
    "\n",
    "# Forma\n",
    "print(matriz_act.shape) # (5,) 5 columnas\n",
    "\n",
    "# Numero de Dimensiones\n",
    "print(matriz_act.ndim) # 1 - dimension\n",
    "\n",
    "# Tipos de datos\n",
    "print(matriz_act.dtype) # int64 - datos dentro de los arrays\n",
    "\n",
    "# Numero de datos\n",
    "print(matriz_act.size) # 5 - numero de datos encontrados\n",
    "\n",
    "# Tipo de dato\n",
    "print(type(matriz_act)) # <class 'numpy.ndarray'>"
   ],
   "id": "31b57cb37126b580",
   "outputs": [
    {
     "name": "stdout",
     "output_type": "stream",
     "text": [
      "(5,)\n",
      "1\n",
      "int64\n",
      "5\n",
      "<class 'numpy.ndarray'>\n"
     ]
    }
   ],
   "execution_count": 24
  },
  {
   "metadata": {
    "ExecuteTime": {
     "end_time": "2025-02-21T01:38:29.988250Z",
     "start_time": "2025-02-21T01:38:29.984250Z"
    }
   },
   "cell_type": "code",
   "source": [
    "matriz_act = array_bidim\n",
    "\n",
    "# Forma\n",
    "print(matriz_act.shape) # (2, 5) 2 filas x 5 columnas\n",
    "\n",
    "# Numero de Dimensiones\n",
    "print(matriz_act.ndim) # 2 - dimension\n",
    "\n",
    "# Tipos de datos\n",
    "print(matriz_act.dtype) # int64 - datos dentro de los arrays\n",
    "\n",
    "# Numero de datos\n",
    "print(matriz_act.size) # 10 - numero de datos encontrados\n",
    "\n",
    "# Tipo de dato\n",
    "print(type(matriz_act)) # <class 'numpy.ndarray'>"
   ],
   "id": "506ffed78fadc781",
   "outputs": [
    {
     "name": "stdout",
     "output_type": "stream",
     "text": [
      "(2, 5)\n",
      "2\n",
      "int64\n",
      "10\n",
      "<class 'numpy.ndarray'>\n"
     ]
    }
   ],
   "execution_count": 25
  },
  {
   "metadata": {
    "ExecuteTime": {
     "end_time": "2025-02-21T01:38:30.012811Z",
     "start_time": "2025-02-21T01:38:30.007812Z"
    }
   },
   "cell_type": "code",
   "source": [
    "matriz_act = array_tridim\n",
    "\n",
    "# Forma\n",
    "print(matriz_act.shape) # (2, 2, 3) 2 matrices(profundidad) de 2 filas x 3 columnas\n",
    "\n",
    "# Numero de Dimensiones\n",
    "print(matriz_act.ndim) # 3 - dimension\n",
    "\n",
    "# Tipos de datos\n",
    "print(matriz_act.dtype) # int64 - datos dentro de los arrays\n",
    "\n",
    "# Numero de datos\n",
    "print(matriz_act.size) # 12 - numero de datos encontrados\n",
    "\n",
    "# Tipo de dato\n",
    "print(type(matriz_act)) # <class 'numpy.ndarray'>"
   ],
   "id": "f590ab3e677a02d0",
   "outputs": [
    {
     "name": "stdout",
     "output_type": "stream",
     "text": [
      "(2, 2, 3)\n",
      "3\n",
      "int64\n",
      "12\n",
      "<class 'numpy.ndarray'>\n"
     ]
    }
   ],
   "execution_count": 26
  },
  {
   "metadata": {},
   "cell_type": "markdown",
   "source": [
    "# PANDAS\n",
    "\n",
    "¿Qué es Pandas?\n",
    "\n",
    "La biblioteca de software de código abierto Pandas está diseñada específicamente para la manipulación y el análisis de datos en el lenguaje Python. Es potente, flexible y fácil de usar.\n",
    "\n",
    "Gracias a Pandas, por fin se puede utilizar el lenguaje Python para cargar, alinear, manipular o incluso fusionar datos. El rendimiento es realmente impresionante cuando el código fuente del back-end está escrito en C o Python.\n",
    "\n",
    "¿Cómo funciona Pandas?\n",
    "\n",
    "Pandas trabaja sobre «DataFrames«: tablas de datos bidimensionales, donde cada columna contiene los valores de una variable y cada fila contiene un conjunto de valores de cada columna. Los datos almacenados en un DataFrame pueden ser números o caracteres.\n",
    "\n",
    "Los Data Scientists y los programadores familiarizados con el lenguaje de programación R para cálculo estadístico utilizan DataFrames para almacenar datos en una cuadrícula muy sencilla de revisar. Por eso Pandas se utiliza mucho para Machine Learning.\n",
    "\n",
    "\n"
   ],
   "id": "a75a68ed399602e9"
  },
  {
   "metadata": {
    "ExecuteTime": {
     "end_time": "2025-02-21T01:38:30.032832Z",
     "start_time": "2025-02-21T01:38:30.029647Z"
    }
   },
   "cell_type": "code",
   "source": "import pandas as pd",
   "id": "170be58249495f65",
   "outputs": [],
   "execution_count": 27
  },
  {
   "metadata": {
    "ExecuteTime": {
     "end_time": "2025-02-21T01:38:30.054710Z",
     "start_time": "2025-02-21T01:38:30.048733Z"
    }
   },
   "cell_type": "code",
   "source": [
    "# Solo funciona con arrays bidimensionales\n",
    "\n",
    "datos_bidim = pd.DataFrame(array_bidim)\n",
    "datos_bidim\n"
   ],
   "id": "7f07bfe1d164e497",
   "outputs": [
    {
     "data": {
      "text/plain": [
       "   0  1  2  3  4\n",
       "0  5  2  6  3  8\n",
       "1  7  3  8  1  5"
      ],
      "text/html": [
       "<div>\n",
       "<style scoped>\n",
       "    .dataframe tbody tr th:only-of-type {\n",
       "        vertical-align: middle;\n",
       "    }\n",
       "\n",
       "    .dataframe tbody tr th {\n",
       "        vertical-align: top;\n",
       "    }\n",
       "\n",
       "    .dataframe thead th {\n",
       "        text-align: right;\n",
       "    }\n",
       "</style>\n",
       "<table border=\"1\" class=\"dataframe\">\n",
       "  <thead>\n",
       "    <tr style=\"text-align: right;\">\n",
       "      <th></th>\n",
       "      <th>0</th>\n",
       "      <th>1</th>\n",
       "      <th>2</th>\n",
       "      <th>3</th>\n",
       "      <th>4</th>\n",
       "    </tr>\n",
       "  </thead>\n",
       "  <tbody>\n",
       "    <tr>\n",
       "      <th>0</th>\n",
       "      <td>5</td>\n",
       "      <td>2</td>\n",
       "      <td>6</td>\n",
       "      <td>3</td>\n",
       "      <td>8</td>\n",
       "    </tr>\n",
       "    <tr>\n",
       "      <th>1</th>\n",
       "      <td>7</td>\n",
       "      <td>3</td>\n",
       "      <td>8</td>\n",
       "      <td>1</td>\n",
       "      <td>5</td>\n",
       "    </tr>\n",
       "  </tbody>\n",
       "</table>\n",
       "</div>"
      ]
     },
     "execution_count": 28,
     "metadata": {},
     "output_type": "execute_result"
    }
   ],
   "execution_count": 28
  },
  {
   "metadata": {
    "ExecuteTime": {
     "end_time": "2025-02-21T01:38:30.151178Z",
     "start_time": "2025-02-21T01:38:30.147180Z"
    }
   },
   "cell_type": "code",
   "source": [
    "# Creamos un array de tamano 4x3, formado solamente por (1)\n",
    "unos = np.ones((4, 3))\n",
    "unos"
   ],
   "id": "3e00d5f80313a2a3",
   "outputs": [
    {
     "data": {
      "text/plain": [
       "array([[1., 1., 1.],\n",
       "       [1., 1., 1.],\n",
       "       [1., 1., 1.],\n",
       "       [1., 1., 1.]])"
      ]
     },
     "execution_count": 29,
     "metadata": {},
     "output_type": "execute_result"
    }
   ],
   "execution_count": 29
  },
  {
   "metadata": {
    "ExecuteTime": {
     "end_time": "2025-02-21T01:38:30.192202Z",
     "start_time": "2025-02-21T01:38:30.187195Z"
    }
   },
   "cell_type": "code",
   "source": [
    "# Creamos un array de tamano 2x4x3, formado solamente por (0)\n",
    "ceros = np.zeros((2, 4, 3))\n",
    "ceros"
   ],
   "id": "3cd687646b2f2b97",
   "outputs": [
    {
     "data": {
      "text/plain": [
       "array([[[0., 0., 0.],\n",
       "        [0., 0., 0.],\n",
       "        [0., 0., 0.],\n",
       "        [0., 0., 0.]],\n",
       "\n",
       "       [[0., 0., 0.],\n",
       "        [0., 0., 0.],\n",
       "        [0., 0., 0.],\n",
       "        [0., 0., 0.]]])"
      ]
     },
     "execution_count": 30,
     "metadata": {},
     "output_type": "execute_result"
    }
   ],
   "execution_count": 30
  },
  {
   "metadata": {
    "ExecuteTime": {
     "end_time": "2025-02-21T01:38:30.261148Z",
     "start_time": "2025-02-21T01:38:30.255716Z"
    }
   },
   "cell_type": "code",
   "source": [
    "# Creamos un array de numeros en el rango de 0 a 100, con un paso de 5\n",
    "array_1 = np.arange(0, 101, 5)\n",
    "array_1"
   ],
   "id": "d37b7699c859676f",
   "outputs": [
    {
     "data": {
      "text/plain": [
       "array([  0,   5,  10,  15,  20,  25,  30,  35,  40,  45,  50,  55,  60,\n",
       "        65,  70,  75,  80,  85,  90,  95, 100])"
      ]
     },
     "execution_count": 31,
     "metadata": {},
     "output_type": "execute_result"
    }
   ],
   "execution_count": 31
  },
  {
   "metadata": {
    "ExecuteTime": {
     "end_time": "2025-02-21T01:38:30.308126Z",
     "start_time": "2025-02-21T01:38:30.304126Z"
    }
   },
   "cell_type": "code",
   "source": [
    "# Creamos un array de dos dimesiones con numeros aleatorios\n",
    "array_2 = np.random.randint(0, 101, (3, 4))\n",
    "array_2"
   ],
   "id": "6c7426427a525cca",
   "outputs": [
    {
     "data": {
      "text/plain": [
       "array([[69, 12, 42, 84],\n",
       "       [25, 87, 91, 34],\n",
       "       [83, 37, 87, 55]], dtype=int32)"
      ]
     },
     "execution_count": 32,
     "metadata": {},
     "output_type": "execute_result"
    }
   ],
   "execution_count": 32
  },
  {
   "metadata": {
    "ExecuteTime": {
     "end_time": "2025-02-21T01:38:30.381602Z",
     "start_time": "2025-02-21T01:38:30.377128Z"
    }
   },
   "cell_type": "code",
   "source": [
    "# Creamos un array de numeros aleatorios decimales comprendidos de 0 a 1. (3, 5)\n",
    "array_3 = np.random.rand(3, 3)\n",
    "array_3"
   ],
   "id": "a499d8878b034e46",
   "outputs": [
    {
     "data": {
      "text/plain": [
       "array([[0.11697984, 0.8557882 , 0.17098294],\n",
       "       [0.03735904, 0.19758472, 0.97049217],\n",
       "       [0.83637226, 0.32430053, 0.63314261]])"
      ]
     },
     "execution_count": 33,
     "metadata": {},
     "output_type": "execute_result"
    }
   ],
   "execution_count": 33
  },
  {
   "metadata": {
    "ExecuteTime": {
     "end_time": "2025-02-21T01:38:30.429367Z",
     "start_time": "2025-02-21T01:38:30.424023Z"
    }
   },
   "cell_type": "code",
   "source": [
    "# Siempre se generan los mismos numeros si establecemos una semilla\n",
    "\n",
    "import random\n",
    "random.seed(21)\n",
    "for i in range (1, 10):\n",
    "    a = random.randint(1,10)\n",
    "    print(a)\n"
   ],
   "id": "713be337397d757f",
   "outputs": [
    {
     "name": "stdout",
     "output_type": "stream",
     "text": [
      "3\n",
      "7\n",
      "7\n",
      "5\n",
      "8\n",
      "4\n",
      "8\n",
      "9\n",
      "3\n"
     ]
    }
   ],
   "execution_count": 34
  },
  {
   "metadata": {
    "ExecuteTime": {
     "end_time": "2025-02-21T01:38:30.522660Z",
     "start_time": "2025-02-21T01:38:30.517680Z"
    }
   },
   "cell_type": "code",
   "source": [
    "# Establecemos la 'semilla' de numeros aleatorios\n",
    "\n",
    "np.random.seed(21)\n",
    "\n",
    "# Creamos un array de numeros aleatorios enteros comprendidos entre 0 y 10, de\n",
    "# tamano (3, 5)\n",
    "\n",
    "array_4 = np.random.randint(0, 10, (3, 5))\n",
    "array_4 # Siempre se generaran los mismos numeros ya que establecimos\n",
    "                    # una semilla"
   ],
   "id": "e3ab4684e0a461c4",
   "outputs": [
    {
     "data": {
      "text/plain": [
       "array([[9, 8, 4, 0, 0],\n",
       "       [8, 3, 2, 1, 8],\n",
       "       [9, 6, 0, 4, 6]], dtype=int32)"
      ]
     },
     "execution_count": 35,
     "metadata": {},
     "output_type": "execute_result"
    }
   ],
   "execution_count": 35
  },
  {
   "metadata": {},
   "cell_type": "markdown",
   "source": "---",
   "id": "4c42d904440badda"
  },
  {
   "metadata": {},
   "cell_type": "markdown",
   "source": "### Crear una grafica a traves de un data frame de pandas",
   "id": "463a9c86047aa393"
  },
  {
   "metadata": {
    "ExecuteTime": {
     "end_time": "2025-02-21T01:38:30.573923Z",
     "start_time": "2025-02-21T01:38:30.570670Z"
    }
   },
   "cell_type": "code",
   "source": [
    "import matplotlib.pyplot as plt\n",
    "import seaborn as sns"
   ],
   "id": "ae49da7b38fecafa",
   "outputs": [],
   "execution_count": 36
  },
  {
   "metadata": {
    "ExecuteTime": {
     "end_time": "2025-02-21T01:38:30.646004Z",
     "start_time": "2025-02-21T01:38:30.639922Z"
    }
   },
   "cell_type": "code",
   "source": [
    "data = {'Year': [2010, 2011, 2012, 2013, 2014],\n",
    "        'Sales': [400, 120, 350, 90, 200]}\n",
    "\n",
    "df = pd.DataFrame(data)\n",
    "df\n"
   ],
   "id": "37cb08d359d35063",
   "outputs": [
    {
     "data": {
      "text/plain": [
       "   Year  Sales\n",
       "0  2010    400\n",
       "1  2011    120\n",
       "2  2012    350\n",
       "3  2013     90\n",
       "4  2014    200"
      ],
      "text/html": [
       "<div>\n",
       "<style scoped>\n",
       "    .dataframe tbody tr th:only-of-type {\n",
       "        vertical-align: middle;\n",
       "    }\n",
       "\n",
       "    .dataframe tbody tr th {\n",
       "        vertical-align: top;\n",
       "    }\n",
       "\n",
       "    .dataframe thead th {\n",
       "        text-align: right;\n",
       "    }\n",
       "</style>\n",
       "<table border=\"1\" class=\"dataframe\">\n",
       "  <thead>\n",
       "    <tr style=\"text-align: right;\">\n",
       "      <th></th>\n",
       "      <th>Year</th>\n",
       "      <th>Sales</th>\n",
       "    </tr>\n",
       "  </thead>\n",
       "  <tbody>\n",
       "    <tr>\n",
       "      <th>0</th>\n",
       "      <td>2010</td>\n",
       "      <td>400</td>\n",
       "    </tr>\n",
       "    <tr>\n",
       "      <th>1</th>\n",
       "      <td>2011</td>\n",
       "      <td>120</td>\n",
       "    </tr>\n",
       "    <tr>\n",
       "      <th>2</th>\n",
       "      <td>2012</td>\n",
       "      <td>350</td>\n",
       "    </tr>\n",
       "    <tr>\n",
       "      <th>3</th>\n",
       "      <td>2013</td>\n",
       "      <td>90</td>\n",
       "    </tr>\n",
       "    <tr>\n",
       "      <th>4</th>\n",
       "      <td>2014</td>\n",
       "      <td>200</td>\n",
       "    </tr>\n",
       "  </tbody>\n",
       "</table>\n",
       "</div>"
      ]
     },
     "execution_count": 37,
     "metadata": {},
     "output_type": "execute_result"
    }
   ],
   "execution_count": 37
  },
  {
   "metadata": {
    "ExecuteTime": {
     "end_time": "2025-02-21T01:38:30.843947Z",
     "start_time": "2025-02-21T01:38:30.727538Z"
    }
   },
   "cell_type": "code",
   "source": [
    "plt.plot(df['Year'], df['Sales'])\n",
    "plt.title('Sales over the Years')\n",
    "plt.xlabel('Year')\n",
    "plt.ylabel('Sales')\n",
    "plt.show()"
   ],
   "id": "6d39a203fa3b89da",
   "outputs": [
    {
     "data": {
      "text/plain": [
       "<Figure size 640x480 with 1 Axes>"
      ],
      "image/png": "[encoded data removed]"
     },
     "metadata": {},
     "output_type": "display_data"
    }
   ],
   "execution_count": 38
  },
  {
   "metadata": {
    "ExecuteTime": {
     "end_time": "2025-02-21T01:38:30.989840Z",
     "start_time": "2025-02-21T01:38:30.871460Z"
    }
   },
   "cell_type": "code",
   "source": [
    "sns.lineplot(data=df, x='Year', y='Sales')\n",
    "plt.title('Sales over the Years')\n",
    "plt.show()\n"
   ],
   "id": "c366a79ec4530e7d",
   "outputs": [
    {
     "data": {
      "text/plain": [
       "<Figure size 640x480 with 1 Axes>"
      ],
      "image/png": "[encoded data removed]"
     },
     "metadata": {},
     "output_type": "display_data"
    }
   ],
   "execution_count": 39
  },
  {
   "metadata": {
    "ExecuteTime": {
     "end_time": "2025-02-21T01:38:31.087421Z",
     "start_time": "2025-02-21T01:38:30.994929Z"
    }
   },
   "cell_type": "code",
   "source": [
    "plt.plot(df['Year'], df['Sales'], linestyle='--', color='m', marker='o')\n",
    "plt.title('Sales over the Years')\n",
    "plt.xlabel('Year')\n",
    "plt.ylabel('Sales')\n",
    "plt.grid(True)\n",
    "plt.show()"
   ],
   "id": "ecbc617c3fd1f884",
   "outputs": [
    {
     "data": {
      "text/plain": [
       "<Figure size 640x480 with 1 Axes>"
      ],
      "image/png": "[encoded data removed]"
     },
     "metadata": {},
     "output_type": "display_data"
    }
   ],
   "execution_count": 40
  },
  {
   "metadata": {},
   "cell_type": "markdown",
   "source": "---",
   "id": "6d3c52658a01d864"
  },
  {
   "metadata": {},
   "cell_type": "markdown",
   "source": "## Segunda Parte de Numpy",
   "id": "a592dc05ffe65442"
  },
  {
   "metadata": {
    "ExecuteTime": {
     "end_time": "2025-02-21T01:38:31.105499Z",
     "start_time": "2025-02-21T01:38:31.100013Z"
    }
   },
   "cell_type": "code",
   "source": [
    "# Encontramos los valores únicos del array_4\n",
    "np.unique(array_4)"
   ],
   "id": "f4da9b036af196fb",
   "outputs": [
    {
     "data": {
      "text/plain": [
       "array([0, 1, 2, 3, 4, 6, 8, 9], dtype=int32)"
      ]
     },
     "execution_count": 41,
     "metadata": {},
     "output_type": "execute_result"
    }
   ],
   "execution_count": 41
  },
  {
   "metadata": {
    "ExecuteTime": {
     "end_time": "2025-02-21T02:28:17.903027Z",
     "start_time": "2025-02-21T02:28:17.896004Z"
    }
   },
   "cell_type": "code",
   "source": [
    "# Extraemos el elemento de índice 1 del array_4\n",
    "array_4[0]"
   ],
   "id": "33980e1d2cc259d",
   "outputs": [
    {
     "data": {
      "text/plain": [
       "array([9, 8, 4, 0, 0], dtype=int32)"
      ]
     },
     "execution_count": 42,
     "metadata": {},
     "output_type": "execute_result"
    }
   ],
   "execution_count": 42
  },
  {
   "metadata": {
    "ExecuteTime": {
     "end_time": "2025-02-21T02:29:20.284813Z",
     "start_time": "2025-02-21T02:29:20.271713Z"
    }
   },
   "cell_type": "code",
   "source": [
    "# Extraemos las primeras dos filas del array_4\n",
    "array_4[:2]\n"
   ],
   "id": "a9f633832ac7be8b",
   "outputs": [
    {
     "data": {
      "text/plain": [
       "array([[9, 8, 4, 0, 0],\n",
       "       [8, 3, 2, 1, 8]], dtype=int32)"
      ]
     },
     "execution_count": 45,
     "metadata": {},
     "output_type": "execute_result"
    }
   ],
   "execution_count": 45
  },
  {
   "metadata": {
    "ExecuteTime": {
     "end_time": "2025-02-21T02:30:29.115587Z",
     "start_time": "2025-02-21T02:30:29.111218Z"
    }
   },
   "cell_type": "code",
   "source": [
    "# Extraemos los dos primeros datos de las primeras dos filas del array_4\n",
    "array_4[:2, :2]\n"
   ],
   "id": "ae8b5ca518a87d62",
   "outputs": [
    {
     "data": {
      "text/plain": [
       "array([[9, 8],\n",
       "       [8, 3]], dtype=int32)"
      ]
     },
     "execution_count": 46,
     "metadata": {},
     "output_type": "execute_result"
    }
   ],
   "execution_count": 46
  },
  {
   "metadata": {
    "ExecuteTime": {
     "end_time": "2025-02-21T02:40:53.122988Z",
     "start_time": "2025-02-21T02:40:53.117767Z"
    }
   },
   "cell_type": "code",
   "source": [
    "# Creamos dos arrays de tamaño 3x4: uno relleno de números aleatorios entre 0 y 10, y otro relleno de unos\n",
    "\n",
    "array_5 = np.random.randint(0, 10, (3, 4))\n",
    "array_6 = np.ones((3, 4))"
   ],
   "id": "6d5c3ad723a104d6",
   "outputs": [],
   "execution_count": 57
  },
  {
   "metadata": {
    "ExecuteTime": {
     "end_time": "2025-02-21T02:41:21.508641Z",
     "start_time": "2025-02-21T02:41:21.503370Z"
    }
   },
   "cell_type": "code",
   "source": [
    "# invocamos el array_5\n",
    "array_5"
   ],
   "id": "87c8c25feba173aa",
   "outputs": [
    {
     "data": {
      "text/plain": [
       "array([[4, 9, 0, 0],\n",
       "       [5, 5, 9, 6],\n",
       "       [3, 4, 6, 9]], dtype=int32)"
      ]
     },
     "execution_count": 62,
     "metadata": {},
     "output_type": "execute_result"
    }
   ],
   "execution_count": 62
  },
  {
   "metadata": {
    "ExecuteTime": {
     "end_time": "2025-02-21T02:41:23.764392Z",
     "start_time": "2025-02-21T02:41:23.759238Z"
    }
   },
   "cell_type": "code",
   "source": [
    "# invocamos el array_6\n",
    "array_6"
   ],
   "id": "c57b2c2e1b1c2103",
   "outputs": [
    {
     "data": {
      "text/plain": [
       "array([[1., 1., 1., 1.],\n",
       "       [1., 1., 1., 1.],\n",
       "       [1., 1., 1., 1.]])"
      ]
     },
     "execution_count": 63,
     "metadata": {},
     "output_type": "execute_result"
    }
   ],
   "execution_count": 63
  },
  {
   "metadata": {
    "ExecuteTime": {
     "end_time": "2025-02-21T02:41:25.656736Z",
     "start_time": "2025-02-21T02:41:25.651566Z"
    }
   },
   "cell_type": "code",
   "source": [
    "# Sumamos los dos arrays\n",
    "array_5 + array_6"
   ],
   "id": "868dcea6ff6ce37f",
   "outputs": [
    {
     "data": {
      "text/plain": [
       "array([[ 5., 10.,  1.,  1.],\n",
       "       [ 6.,  6., 10.,  7.],\n",
       "       [ 4.,  5.,  7., 10.]])"
      ]
     },
     "execution_count": 64,
     "metadata": {},
     "output_type": "execute_result"
    }
   ],
   "execution_count": 64
  },
  {
   "metadata": {
    "ExecuteTime": {
     "end_time": "2025-02-21T02:47:59.431532Z",
     "start_time": "2025-02-21T02:47:59.426530Z"
    }
   },
   "cell_type": "code",
   "source": [
    "# Creamos ahora un array de tamaño (4,3) lleno de unos\n",
    "array_7 = np.ones((4, 3))\n",
    "array_7"
   ],
   "id": "390312e525352e66",
   "outputs": [
    {
     "data": {
      "text/plain": [
       "array([[1., 1., 1.],\n",
       "       [1., 1., 1.],\n",
       "       [1., 1., 1.],\n",
       "       [1., 1., 1.]])"
      ]
     },
     "execution_count": 72,
     "metadata": {},
     "output_type": "execute_result"
    }
   ],
   "execution_count": 72
  },
  {
   "metadata": {
    "ExecuteTime": {
     "end_time": "2025-02-21T02:48:00.830197Z",
     "start_time": "2025-02-21T02:48:00.819198Z"
    }
   },
   "cell_type": "code",
   "source": [
    "# Intentaremos sumar los arrays 6 y 7\n",
    "array_6 + array_7\n",
    "\n",
    "# No se pueden sumar ya que no tienen el mismo tamaño"
   ],
   "id": "1c84ab5d92370545",
   "outputs": [
    {
     "ename": "ValueError",
     "evalue": "operands could not be broadcast together with shapes (3,4) (4,3) ",
     "output_type": "error",
     "traceback": [
      "\u001B[1;31m---------------------------------------------------------------------------\u001B[0m",
      "\u001B[1;31mValueError\u001B[0m                                Traceback (most recent call last)",
      "Cell \u001B[1;32mIn[73], line 2\u001B[0m\n\u001B[0;32m      1\u001B[0m \u001B[38;5;66;03m# Intentaremos sumar los arrays 6 y 7\u001B[39;00m\n\u001B[1;32m----> 2\u001B[0m \u001B[43marray_6\u001B[49m\u001B[43m \u001B[49m\u001B[38;5;241;43m+\u001B[39;49m\u001B[43m \u001B[49m\u001B[43marray_7\u001B[49m\n\u001B[0;32m      4\u001B[0m \u001B[38;5;66;03m# No se pueden sumar ya que no tienen el mismo tamaño\u001B[39;00m\n",
      "\u001B[1;31mValueError\u001B[0m: operands could not be broadcast together with shapes (3,4) (4,3) "
     ]
    }
   ],
   "execution_count": 73
  },
  {
   "metadata": {
    "ExecuteTime": {
     "end_time": "2025-02-21T02:48:31.095035Z",
     "start_time": "2025-02-21T02:48:31.090027Z"
    }
   },
   "cell_type": "code",
   "source": [
    "# Entonces crearemos otro array de tamaño (4,3) lleno de unos\n",
    "array_8 = np.ones((4, 3))\n",
    "array_8"
   ],
   "id": "c0ec9278073837f7",
   "outputs": [
    {
     "data": {
      "text/plain": [
       "array([[1., 1., 1.],\n",
       "       [1., 1., 1.],\n",
       "       [1., 1., 1.],\n",
       "       [1., 1., 1.]])"
      ]
     },
     "execution_count": 75,
     "metadata": {},
     "output_type": "execute_result"
    }
   ],
   "execution_count": 75
  },
  {
   "metadata": {
    "ExecuteTime": {
     "end_time": "2025-02-21T02:48:52.720077Z",
     "start_time": "2025-02-21T02:48:52.715567Z"
    }
   },
   "cell_type": "code",
   "source": [
    "# Restamos el array_8 al array_7\n",
    "array_8 - array_7"
   ],
   "id": "e045198e7dc427c7",
   "outputs": [
    {
     "data": {
      "text/plain": [
       "array([[0., 0., 0.],\n",
       "       [0., 0., 0.],\n",
       "       [0., 0., 0.],\n",
       "       [0., 0., 0.]])"
      ]
     },
     "execution_count": 76,
     "metadata": {},
     "output_type": "execute_result"
    }
   ],
   "execution_count": 76
  },
  {
   "metadata": {
    "ExecuteTime": {
     "end_time": "2025-02-21T02:49:50.031781Z",
     "start_time": "2025-02-21T02:49:50.028781Z"
    }
   },
   "cell_type": "code",
   "source": [
    "# Creamos otros dos arrays de tamaño 3x3 con números aleatorios del 1 al 5\n",
    "array_9 = np.random.randint(1, 5, (3, 3))\n",
    "array_10 = np.random.randint(1, 5, (3, 3))"
   ],
   "id": "5f7913b9b53f95b9",
   "outputs": [],
   "execution_count": 77
  },
  {
   "metadata": {
    "ExecuteTime": {
     "end_time": "2025-02-21T02:50:03.742040Z",
     "start_time": "2025-02-21T02:50:03.737955Z"
    }
   },
   "cell_type": "code",
   "source": [
    "# invocamos el array_9\n",
    "array_9"
   ],
   "id": "8285e82fedb13130",
   "outputs": [
    {
     "data": {
      "text/plain": [
       "array([[1, 3, 3],\n",
       "       [3, 1, 1],\n",
       "       [4, 2, 4]], dtype=int32)"
      ]
     },
     "execution_count": 78,
     "metadata": {},
     "output_type": "execute_result"
    }
   ],
   "execution_count": 78
  },
  {
   "metadata": {
    "ExecuteTime": {
     "end_time": "2025-02-21T02:53:43.166070Z",
     "start_time": "2025-02-21T02:53:43.161072Z"
    }
   },
   "cell_type": "code",
   "source": [
    "# invocamos el array_10\n",
    "array_10"
   ],
   "id": "f6fd5bab1e6abd11",
   "outputs": [
    {
     "data": {
      "text/plain": [
       "array([[2, 3, 3],\n",
       "       [2, 4, 2],\n",
       "       [1, 3, 3]], dtype=int32)"
      ]
     },
     "execution_count": 79,
     "metadata": {},
     "output_type": "execute_result"
    }
   ],
   "execution_count": 79
  },
  {
   "metadata": {
    "ExecuteTime": {
     "end_time": "2025-02-21T02:54:11.556053Z",
     "start_time": "2025-02-21T02:54:11.552057Z"
    }
   },
   "cell_type": "code",
   "source": [
    "# Multiplicamos los últimos dos arrays entre sí\n",
    "array_9 * array_10"
   ],
   "id": "ac8f651b809d6ded",
   "outputs": [
    {
     "data": {
      "text/plain": [
       "array([[ 2,  9,  9],\n",
       "       [ 6,  4,  2],\n",
       "       [ 4,  6, 12]], dtype=int32)"
      ]
     },
     "execution_count": 80,
     "metadata": {},
     "output_type": "execute_result"
    }
   ],
   "execution_count": 80
  },
  {
   "metadata": {
    "ExecuteTime": {
     "end_time": "2025-02-21T02:54:34.162658Z",
     "start_time": "2025-02-21T02:54:34.158666Z"
    }
   },
   "cell_type": "code",
   "source": [
    "# Elevamos el array_9 al cuadrado\n",
    "array_9 ** 2"
   ],
   "id": "54d10d62aa525469",
   "outputs": [
    {
     "data": {
      "text/plain": [
       "array([[ 1,  9,  9],\n",
       "       [ 9,  1,  1],\n",
       "       [16,  4, 16]], dtype=int32)"
      ]
     },
     "execution_count": 81,
     "metadata": {},
     "output_type": "execute_result"
    }
   ],
   "execution_count": 81
  },
  {
   "metadata": {
    "ExecuteTime": {
     "end_time": "2025-02-21T02:55:06.665328Z",
     "start_time": "2025-02-21T02:55:06.660326Z"
    }
   },
   "cell_type": "code",
   "source": [
    "# Buscamos la raíz cuadrada del array_10\n",
    "np.sqrt(array_10)"
   ],
   "id": "82dd185a9a5d5fb0",
   "outputs": [
    {
     "data": {
      "text/plain": [
       "array([[1.41421356, 1.73205081, 1.73205081],\n",
       "       [1.41421356, 2.        , 1.41421356],\n",
       "       [1.        , 1.73205081, 1.73205081]])"
      ]
     },
     "execution_count": 82,
     "metadata": {},
     "output_type": "execute_result"
    }
   ],
   "execution_count": 82
  },
  {
   "metadata": {
    "ExecuteTime": {
     "end_time": "2025-02-21T02:55:27.786711Z",
     "start_time": "2025-02-21T02:55:27.782290Z"
    }
   },
   "cell_type": "code",
   "source": [
    "# Hallamos el promedio de los valores del array_9\n",
    "array_9.mean()"
   ],
   "id": "fbb66ee8e2cbcb59",
   "outputs": [
    {
     "data": {
      "text/plain": [
       "np.float64(2.4444444444444446)"
      ]
     },
     "execution_count": 83,
     "metadata": {},
     "output_type": "execute_result"
    }
   ],
   "execution_count": 83
  },
  {
   "metadata": {
    "ExecuteTime": {
     "end_time": "2025-02-21T02:55:51.790027Z",
     "start_time": "2025-02-21T02:55:51.786085Z"
    }
   },
   "cell_type": "code",
   "source": [
    "# Hallamos el valor máximo de los valores del array_9\n",
    "array_9.max()"
   ],
   "id": "df00583887904fdb",
   "outputs": [
    {
     "data": {
      "text/plain": [
       "np.int32(4)"
      ]
     },
     "execution_count": 84,
     "metadata": {},
     "output_type": "execute_result"
    }
   ],
   "execution_count": 84
  },
  {
   "metadata": {
    "ExecuteTime": {
     "end_time": "2025-02-21T02:56:17.017402Z",
     "start_time": "2025-02-21T02:56:17.011975Z"
    }
   },
   "cell_type": "code",
   "source": [
    "# Hallamos el valor mínimo de los valores del array_9\n",
    "array_9.min()"
   ],
   "id": "84fb366e629cb00a",
   "outputs": [
    {
     "data": {
      "text/plain": [
       "np.int32(1)"
      ]
     },
     "execution_count": 85,
     "metadata": {},
     "output_type": "execute_result"
    }
   ],
   "execution_count": 85
  },
  {
   "metadata": {
    "ExecuteTime": {
     "end_time": "2025-02-21T02:56:49.254369Z",
     "start_time": "2025-02-21T02:56:49.250375Z"
    }
   },
   "cell_type": "code",
   "source": [
    "# Cambiamos la forma del array_9 por una de 9x1, y lo almacenamos como array_11\n",
    "array_11 = array_9.reshape((9, 1))\n"
   ],
   "id": "9acc1ea3b9969864",
   "outputs": [],
   "execution_count": 86
  },
  {
   "metadata": {
    "ExecuteTime": {
     "end_time": "2025-02-21T02:57:00.268944Z",
     "start_time": "2025-02-21T02:57:00.263130Z"
    }
   },
   "cell_type": "code",
   "source": [
    "# invocamos el array_11\n",
    "array_11"
   ],
   "id": "1015dab80b964beb",
   "outputs": [
    {
     "data": {
      "text/plain": [
       "array([[1],\n",
       "       [3],\n",
       "       [3],\n",
       "       [3],\n",
       "       [1],\n",
       "       [1],\n",
       "       [4],\n",
       "       [2],\n",
       "       [4]], dtype=int32)"
      ]
     },
     "execution_count": 87,
     "metadata": {},
     "output_type": "execute_result"
    }
   ],
   "execution_count": 87
  },
  {
   "metadata": {
    "ExecuteTime": {
     "end_time": "2025-02-21T02:57:46.373138Z",
     "start_time": "2025-02-21T02:57:46.365231Z"
    }
   },
   "cell_type": "code",
   "source": [
    "# Transponemos el array_11\n",
    "array_11.flatten()"
   ],
   "id": "d6cea3f6072d1f82",
   "outputs": [
    {
     "data": {
      "text/plain": [
       "array([1, 3, 3, 3, 1, 1, 4, 2, 4], dtype=int32)"
      ]
     },
     "execution_count": 88,
     "metadata": {},
     "output_type": "execute_result"
    }
   ],
   "execution_count": 88
  },
  {
   "metadata": {
    "ExecuteTime": {
     "end_time": "2025-02-21T02:59:37.142826Z",
     "start_time": "2025-02-21T02:59:37.139373Z"
    }
   },
   "cell_type": "code",
   "source": [
    "# Comparamos el array_9 y el array_10, para saber cuáles elementos del array_9 son mayores a los del array_10\n",
    "resultados = array_9 > array_10"
   ],
   "id": "8ff2720a3d34ff31",
   "outputs": [],
   "execution_count": 91
  },
  {
   "metadata": {
    "ExecuteTime": {
     "end_time": "2025-02-21T02:59:55.415632Z",
     "start_time": "2025-02-21T02:59:55.410568Z"
    }
   },
   "cell_type": "code",
   "source": "resultados.dtype",
   "id": "909f99067c592212",
   "outputs": [
    {
     "data": {
      "text/plain": [
       "dtype('bool')"
      ]
     },
     "execution_count": 93,
     "metadata": {},
     "output_type": "execute_result"
    }
   ],
   "execution_count": 93
  },
  {
   "metadata": {
    "ExecuteTime": {
     "end_time": "2025-02-21T03:00:22.213534Z",
     "start_time": "2025-02-21T03:00:22.205539Z"
    }
   },
   "cell_type": "code",
   "source": [
    "# Alguno de los elementos del array_9 es igual su equivalente del array_10?\n",
    "array_9 == array_10"
   ],
   "id": "ecf31d9f868ebec4",
   "outputs": [
    {
     "data": {
      "text/plain": [
       "array([[False,  True,  True],\n",
       "       [False, False, False],\n",
       "       [False, False, False]])"
      ]
     },
     "execution_count": 94,
     "metadata": {},
     "output_type": "execute_result"
    }
   ],
   "execution_count": 94
  },
  {
   "metadata": {
    "ExecuteTime": {
     "end_time": "2025-02-21T03:00:54.996066Z",
     "start_time": "2025-02-21T03:00:54.991586Z"
    }
   },
   "cell_type": "code",
   "source": [
    "# Comparamos nuevamente ambos arrays, en esta ocasión con >=\n",
    "array_9 >= array_10"
   ],
   "id": "4a13b77db843e08e",
   "outputs": [
    {
     "data": {
      "text/plain": [
       "array([[False,  True,  True],\n",
       "       [ True, False, False],\n",
       "       [ True, False,  True]])"
      ]
     },
     "execution_count": 95,
     "metadata": {},
     "output_type": "execute_result"
    }
   ],
   "execution_count": 95
  },
  {
   "metadata": {
    "ExecuteTime": {
     "end_time": "2025-02-21T03:01:18.582288Z",
     "start_time": "2025-02-21T03:01:18.577984Z"
    }
   },
   "cell_type": "code",
   "source": [
    "# Buscamos los elementos del array_9 que son mayores a 2\n",
    "array_9 > 2"
   ],
   "id": "40c1bfdde9a2c3ed",
   "outputs": [
    {
     "data": {
      "text/plain": [
       "array([[False,  True,  True],\n",
       "       [ True, False, False],\n",
       "       [ True, False,  True]])"
      ]
     },
     "execution_count": 96,
     "metadata": {},
     "output_type": "execute_result"
    }
   ],
   "execution_count": 96
  },
  {
   "metadata": {
    "ExecuteTime": {
     "end_time": "2025-02-21T03:02:34.121763Z",
     "start_time": "2025-02-21T03:02:34.117606Z"
    }
   },
   "cell_type": "code",
   "source": [
    "# Ordenamos de menor a mayor los elementos dentro del array_9\n",
    "np.sort(array_9)"
   ],
   "id": "a0fcbc460cbf9318",
   "outputs": [
    {
     "data": {
      "text/plain": [
       "array([[1, 3, 3],\n",
       "       [1, 1, 3],\n",
       "       [2, 4, 4]], dtype=int32)"
      ]
     },
     "execution_count": 104,
     "metadata": {},
     "output_type": "execute_result"
    }
   ],
   "execution_count": 104
  },
  {
   "metadata": {
    "ExecuteTime": {
     "end_time": "2025-02-21T03:07:20.451181Z",
     "start_time": "2025-02-21T03:07:20.446043Z"
    }
   },
   "cell_type": "code",
   "source": [
    "# Hacemos dos arrays de diferenters tamaños y los multiplicamos\n",
    "arr_1 = np.random.randint(1, 20, (4, 5))\n",
    "arr_2 = np.random.randint(1, 20, (5, 3))\n",
    "\n"
   ],
   "id": "cca4b72fb009a7c6",
   "outputs": [
    {
     "data": {
      "text/plain": [
       "array([[ 2, 14,  8,  3,  8],\n",
       "       [14, 14,  4, 11,  9],\n",
       "       [ 1, 16, 18,  6,  4],\n",
       "       [10, 16, 18, 13,  7]], dtype=int32)"
      ]
     },
     "execution_count": 110,
     "metadata": {},
     "output_type": "execute_result"
    }
   ],
   "execution_count": 110
  },
  {
   "metadata": {
    "ExecuteTime": {
     "end_time": "2025-02-21T03:07:34.398777Z",
     "start_time": "2025-02-21T03:07:34.392751Z"
    }
   },
   "cell_type": "code",
   "source": "arr_1",
   "id": "628a236e3b5873d7",
   "outputs": [
    {
     "data": {
      "text/plain": [
       "array([[ 2, 14,  8,  3,  8],\n",
       "       [14, 14,  4, 11,  9],\n",
       "       [ 1, 16, 18,  6,  4],\n",
       "       [10, 16, 18, 13,  7]], dtype=int32)"
      ]
     },
     "execution_count": 112,
     "metadata": {},
     "output_type": "execute_result"
    }
   ],
   "execution_count": 112
  },
  {
   "metadata": {
    "ExecuteTime": {
     "end_time": "2025-02-21T03:07:32.740870Z",
     "start_time": "2025-02-21T03:07:32.733005Z"
    }
   },
   "cell_type": "code",
   "source": "arr_2",
   "id": "aa3b319a3456d6bc",
   "outputs": [
    {
     "data": {
      "text/plain": [
       "array([[ 2,  8, 18],\n",
       "       [ 7, 15,  2],\n",
       "       [18, 13,  7],\n",
       "       [ 8, 13, 19],\n",
       "       [10, 18, 13]], dtype=int32)"
      ]
     },
     "execution_count": 111,
     "metadata": {},
     "output_type": "execute_result"
    }
   ],
   "execution_count": 111
  },
  {
   "metadata": {
    "ExecuteTime": {
     "end_time": "2025-02-21T03:07:57.353935Z",
     "start_time": "2025-02-21T03:07:57.341812Z"
    }
   },
   "cell_type": "code",
   "source": [
    "# No se pueden multiplicar\n",
    "\n",
    "arr_1 * arr_2"
   ],
   "id": "398aeb70df17cb90",
   "outputs": [
    {
     "ename": "ValueError",
     "evalue": "operands could not be broadcast together with shapes (4,5) (5,3) ",
     "output_type": "error",
     "traceback": [
      "\u001B[1;31m---------------------------------------------------------------------------\u001B[0m",
      "\u001B[1;31mValueError\u001B[0m                                Traceback (most recent call last)",
      "Cell \u001B[1;32mIn[113], line 1\u001B[0m\n\u001B[1;32m----> 1\u001B[0m \u001B[43marr_1\u001B[49m\u001B[43m \u001B[49m\u001B[38;5;241;43m*\u001B[39;49m\u001B[43m \u001B[49m\u001B[43marr_2\u001B[49m\n",
      "\u001B[1;31mValueError\u001B[0m: operands could not be broadcast together with shapes (4,5) (5,3) "
     ]
    }
   ],
   "execution_count": 113
  }
 ],
 "metadata": {
  "kernelspec": {
   "display_name": "Python 3",
   "language": "python",
   "name": "python3"
  },
  "language_info": {
   "codemirror_mode": {
    "name": "ipython",
    "version": 2
   },
   "file_extension": ".py",
   "mimetype": "text/x-python",
   "name": "python",
   "nbconvert_exporter": "python",
   "pygments_lexer": "ipython2",
   "version": "2.7.6"
  }
 },
 "nbformat": 4,
 "nbformat_minor": 5
}
