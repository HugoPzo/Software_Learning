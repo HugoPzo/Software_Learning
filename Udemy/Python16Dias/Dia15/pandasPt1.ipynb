{
 "cells": [
  {
   "metadata": {},
   "cell_type": "markdown",
   "source": "# PANDAS",
   "id": "b7204bf522fc1c7b"
  },
  {
   "metadata": {},
   "cell_type": "markdown",
   "source": [
    "# Práctica de la librería Pandas\n",
    "\n",
    "En este notebook, se desarrollarán una serie de tareas utilizando la librería Pandas (el \"Excel\" de Python).\n",
    "\n",
    "Se proponen y documentan posibles formas de resolver los ejercicios, pero pueden existir varias formas de lograr los mismos resultados.\n",
    "\n",
    "Siempre es una buena idea verificar la [Documentación Oficial de Pandas](https://pandas.pydata.org/pandas-docs/stable/), donde es posible encontrar todo tipo de información referida a esta librería. Y si te quedas trabado, busca en Google \"como hacer [algo] con Pandas\". Hay enormes probabilidades de que esa pregunta ya haya sido respondida!"
   ],
   "id": "a8e468b74a91a4d5"
  },
  {
   "metadata": {
    "ExecuteTime": {
     "end_time": "2025-02-21T03:37:01.344562Z",
     "start_time": "2025-02-21T03:37:00.585329Z"
    }
   },
   "cell_type": "code",
   "source": [
    "# Importamos Pandas\n",
    "\n",
    "import pandas as pd\n",
    "from openpyxl.workbook import Workbook\n",
    "from openpyxl.utils.dataframe import dataframe_to_rows\n"
   ],
   "id": "8371c749635417cf",
   "outputs": [],
   "execution_count": 15
  },
  {
   "metadata": {
    "ExecuteTime": {
     "end_time": "2025-02-21T03:24:53.863074Z",
     "start_time": "2025-02-21T03:24:53.857090Z"
    }
   },
   "cell_type": "code",
   "source": [
    "# Creamos una serie de números y hallamos su media\n",
    "numeros = pd.Series([5, 2, 53, 21, 521, 6, 343, 12])\n",
    "numeros"
   ],
   "id": "1a83cf8261cdada1",
   "outputs": [
    {
     "data": {
      "text/plain": [
       "0      5\n",
       "1      2\n",
       "2     53\n",
       "3     21\n",
       "4    521\n",
       "5      6\n",
       "6    343\n",
       "7     12\n",
       "dtype: int64"
      ]
     },
     "execution_count": 3,
     "metadata": {},
     "output_type": "execute_result"
    }
   ],
   "execution_count": 3
  },
  {
   "metadata": {
    "ExecuteTime": {
     "end_time": "2025-02-21T03:26:35.390195Z",
     "start_time": "2025-02-21T03:26:35.384973Z"
    }
   },
   "cell_type": "code",
   "source": [
    "# Hallamos la suma de dichos números\n",
    "numeros.sum(), numeros.mean()"
   ],
   "id": "66ee8bf636f3e378",
   "outputs": [
    {
     "data": {
      "text/plain": [
       "(np.int64(963), np.float64(120.375))"
      ]
     },
     "execution_count": 8,
     "metadata": {},
     "output_type": "execute_result"
    }
   ],
   "execution_count": 8
  },
  {
   "metadata": {
    "ExecuteTime": {
     "end_time": "2025-02-21T03:27:41.482044Z",
     "start_time": "2025-02-21T03:27:41.467038Z"
    }
   },
   "cell_type": "code",
   "source": [
    "# Creamos una SERIE de tres colores diferentes\n",
    "colores = pd.Series(['Rojo', 'Amarillo', 'Negro'])\n",
    "colores"
   ],
   "id": "30f59a31a56cbe45",
   "outputs": [
    {
     "data": {
      "text/plain": [
       "0        Rojo\n",
       "1    Amarillo\n",
       "2       Negro\n",
       "dtype: object"
      ]
     },
     "execution_count": 9,
     "metadata": {},
     "output_type": "execute_result"
    }
   ],
   "execution_count": 9
  },
  {
   "metadata": {
    "ExecuteTime": {
     "end_time": "2025-02-21T03:28:54.115022Z",
     "start_time": "2025-02-21T03:28:54.107637Z"
    }
   },
   "cell_type": "code",
   "source": [
    "# Creamos una serie con marcas de autos, y la visualizamos\n",
    "tipos_autos = pd.Series(['Mercedes', 'Volkswagen', 'Audi'])\n",
    "tipos_autos"
   ],
   "id": "1176e41c4f18867",
   "outputs": [
    {
     "data": {
      "text/plain": [
       "0      Mercedes\n",
       "1    Volkswagen\n",
       "2          Audi\n",
       "dtype: object"
      ]
     },
     "execution_count": 11,
     "metadata": {},
     "output_type": "execute_result"
    }
   ],
   "execution_count": 11
  },
  {
   "metadata": {
    "ExecuteTime": {
     "end_time": "2025-02-21T03:30:20.105361Z",
     "start_time": "2025-02-21T03:30:20.097100Z"
    }
   },
   "cell_type": "code",
   "source": [
    "# Combinamos las series de tipos de autos y colores en un DATAFRAME\n",
    "autos = pd.DataFrame({'Marcas de Auto' : tipos_autos, 'Colores' : colores})\n",
    "autos\n"
   ],
   "id": "502b6555a80c50e3",
   "outputs": [
    {
     "data": {
      "text/plain": [
       "  Marcas de Auto   Colores\n",
       "0       Mercedes      Rojo\n",
       "1     Volkswagen  Amarillo\n",
       "2           Audi     Negro"
      ],
      "text/html": [
       "<div>\n",
       "<style scoped>\n",
       "    .dataframe tbody tr th:only-of-type {\n",
       "        vertical-align: middle;\n",
       "    }\n",
       "\n",
       "    .dataframe tbody tr th {\n",
       "        vertical-align: top;\n",
       "    }\n",
       "\n",
       "    .dataframe thead th {\n",
       "        text-align: right;\n",
       "    }\n",
       "</style>\n",
       "<table border=\"1\" class=\"dataframe\">\n",
       "  <thead>\n",
       "    <tr style=\"text-align: right;\">\n",
       "      <th></th>\n",
       "      <th>Marcas de Auto</th>\n",
       "      <th>Colores</th>\n",
       "    </tr>\n",
       "  </thead>\n",
       "  <tbody>\n",
       "    <tr>\n",
       "      <th>0</th>\n",
       "      <td>Mercedes</td>\n",
       "      <td>Rojo</td>\n",
       "    </tr>\n",
       "    <tr>\n",
       "      <th>1</th>\n",
       "      <td>Volkswagen</td>\n",
       "      <td>Amarillo</td>\n",
       "    </tr>\n",
       "    <tr>\n",
       "      <th>2</th>\n",
       "      <td>Audi</td>\n",
       "      <td>Negro</td>\n",
       "    </tr>\n",
       "  </tbody>\n",
       "</table>\n",
       "</div>"
      ]
     },
     "execution_count": 13,
     "metadata": {},
     "output_type": "execute_result"
    }
   ],
   "execution_count": 13
  },
  {
   "metadata": {
    "ExecuteTime": {
     "end_time": "2025-02-21T03:42:23.619862Z",
     "start_time": "2025-02-21T03:42:23.613801Z"
    }
   },
   "cell_type": "code",
   "source": [
    "# Working with Pandas Dataframes\n",
    "\n",
    "wb = Workbook()\n",
    "ws = wb.active\n",
    "\n",
    "for row in dataframe_to_rows(autos, index=True, header=True):\n",
    "    ws.append(row)\n",
    "\n",
    "# print(ws[1]) (<Cell 'Sheet'.A1>, <Cell 'Sheet'.B1>, <Cell 'Sheet'.C1>)\n",
    "\n",
    "for cell in ws['A'] + ws[1]:\n",
    "    cell.style = 'Pandas'\n",
    "\n",
    "wb.save(\"pandas_openpyxl.xlsx\")"
   ],
   "id": "89073d3b205ee430",
   "outputs": [
    {
     "name": "stdout",
     "output_type": "stream",
     "text": [
      "(<Cell 'Sheet'.A1>, <Cell 'Sheet'.B1>, <Cell 'Sheet'.C1>)\n"
     ]
    }
   ],
   "execution_count": 23
  },
  {
   "metadata": {
    "ExecuteTime": {
     "end_time": "2025-02-21T03:49:06.366759Z",
     "start_time": "2025-02-21T03:49:06.340278Z"
    }
   },
   "cell_type": "code",
   "source": [
    "# Converting a worksheet to a Dataframe\n",
    "\n",
    "file_name = 'pandas_openpyxl.xlsx'\n",
    "df = pd.read_excel(file_name)\n",
    "df\n",
    "\n"
   ],
   "id": "bd2cb3db1e7b9f09",
   "outputs": [
    {
     "data": {
      "text/plain": [
       "   Unnamed: 0 Marcas de Auto   Colores\n",
       "0         NaN            NaN       NaN\n",
       "1         0.0       Mercedes      Rojo\n",
       "2         1.0     Volkswagen  Amarillo\n",
       "3         2.0           Audi     Negro"
      ],
      "text/html": [
       "<div>\n",
       "<style scoped>\n",
       "    .dataframe tbody tr th:only-of-type {\n",
       "        vertical-align: middle;\n",
       "    }\n",
       "\n",
       "    .dataframe tbody tr th {\n",
       "        vertical-align: top;\n",
       "    }\n",
       "\n",
       "    .dataframe thead th {\n",
       "        text-align: right;\n",
       "    }\n",
       "</style>\n",
       "<table border=\"1\" class=\"dataframe\">\n",
       "  <thead>\n",
       "    <tr style=\"text-align: right;\">\n",
       "      <th></th>\n",
       "      <th>Unnamed: 0</th>\n",
       "      <th>Marcas de Auto</th>\n",
       "      <th>Colores</th>\n",
       "    </tr>\n",
       "  </thead>\n",
       "  <tbody>\n",
       "    <tr>\n",
       "      <th>0</th>\n",
       "      <td>NaN</td>\n",
       "      <td>NaN</td>\n",
       "      <td>NaN</td>\n",
       "    </tr>\n",
       "    <tr>\n",
       "      <th>1</th>\n",
       "      <td>0.0</td>\n",
       "      <td>Mercedes</td>\n",
       "      <td>Rojo</td>\n",
       "    </tr>\n",
       "    <tr>\n",
       "      <th>2</th>\n",
       "      <td>1.0</td>\n",
       "      <td>Volkswagen</td>\n",
       "      <td>Amarillo</td>\n",
       "    </tr>\n",
       "    <tr>\n",
       "      <th>3</th>\n",
       "      <td>2.0</td>\n",
       "      <td>Audi</td>\n",
       "      <td>Negro</td>\n",
       "    </tr>\n",
       "  </tbody>\n",
       "</table>\n",
       "</div>"
      ]
     },
     "execution_count": 26,
     "metadata": {},
     "output_type": "execute_result"
    }
   ],
   "execution_count": 26
  },
  {
   "metadata": {
    "ExecuteTime": {
     "end_time": "2025-02-21T03:53:39.415070Z",
     "start_time": "2025-02-21T03:53:39.395026Z"
    }
   },
   "cell_type": "code",
   "source": [
    "new_file_name = \"pandas_to_excel.xlsx\"\n",
    "\n",
    "autos.to_excel(new_file_name)"
   ],
   "id": "8eb289f1dd29b787",
   "outputs": [],
   "execution_count": 30
  },
  {
   "metadata": {},
   "cell_type": "code",
   "outputs": [],
   "execution_count": null,
   "source": "# Desde Google Colab para abrir desde drive",
   "id": "dfc7b8f80e985b48"
  }
 ],
 "metadata": {
  "kernelspec": {
   "display_name": "Python 3",
   "language": "python",
   "name": "python3"
  },
  "language_info": {
   "codemirror_mode": {
    "name": "ipython",
    "version": 2
   },
   "file_extension": ".py",
   "mimetype": "text/x-python",
   "name": "python",
   "nbconvert_exporter": "python",
   "pygments_lexer": "ipython2",
   "version": "2.7.6"
  }
 },
 "nbformat": 4,
 "nbformat_minor": 5
}
