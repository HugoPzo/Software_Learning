{
 "cells": [
  {
   "metadata": {},
   "cell_type": "markdown",
   "source": [
    "# PANDAS\n",
    "## Práctica de la librería Pandas\n",
    "\n",
    "En este notebook, se desarrollarán una serie de tareas utilizando la librería Pandas (el \"Excel\" de Python).\n",
    "\n",
    "Se proponen y documentan posibles formas de resolver los ejercicios, pero pueden existir varias formas de lograr los mismos resultados.\n",
    "\n",
    "Siempre es una buena idea verificar la [Documentación Oficial de Pandas](https://pandas.pydata.org/pandas-docs/stable/), donde es posible encontrar todo tipo de información referida a esta librería. Y si te quedas trabado, busca en Google \"como hacer [algo] con Pandas\". Hay enormes probabilidades de que esa pregunta ya haya sido respondida!"
   ],
   "id": "b39145dcb6240efa"
  },
  {
   "metadata": {
    "collapsed": true,
    "ExecuteTime": {
     "end_time": "2025-02-22T17:19:29.540119Z",
     "start_time": "2025-02-22T17:19:28.839263Z"
    }
   },
   "cell_type": "code",
   "source": [
    "# Importamos Pandas\n",
    "\n",
    "import pandas as pd\n",
    "from openpyxl.workbook import Workbook\n",
    "from openpyxl.utils.dataframe import dataframe_to_rows\n"
   ],
   "id": "initial_id",
   "outputs": [],
   "execution_count": 1
  },
  {
   "metadata": {
    "ExecuteTime": {
     "end_time": "2025-02-22T17:20:41.302386Z",
     "start_time": "2025-02-22T17:20:41.296869Z"
    }
   },
   "cell_type": "code",
   "source": [
    "# Creamos una serie de números y hallamos su media\n",
    "numeros = pd.Series([435, 2, 53, 21, 521, 6, 343, 12], name=\"Numeros\")\n",
    "numeros"
   ],
   "id": "e3546b70e827c858",
   "outputs": [
    {
     "data": {
      "text/plain": [
       "0    435\n",
       "1      2\n",
       "2     53\n",
       "3     21\n",
       "4    521\n",
       "5      6\n",
       "6    343\n",
       "7     12\n",
       "Name: Numeros, dtype: int64"
      ]
     },
     "execution_count": 6,
     "metadata": {},
     "output_type": "execute_result"
    }
   ],
   "execution_count": 6
  },
  {
   "metadata": {
    "ExecuteTime": {
     "end_time": "2025-02-22T17:20:43.801932Z",
     "start_time": "2025-02-22T17:20:43.794891Z"
    }
   },
   "cell_type": "code",
   "source": [
    "# Hallamos la suma de dichos números\n",
    "numeros.sum(), numeros.mean()"
   ],
   "id": "e38fb4aa87bd6673",
   "outputs": [
    {
     "data": {
      "text/plain": [
       "(1393, 174.125)"
      ]
     },
     "execution_count": 7,
     "metadata": {},
     "output_type": "execute_result"
    }
   ],
   "execution_count": 7
  },
  {
   "metadata": {
    "ExecuteTime": {
     "end_time": "2025-02-22T17:21:00.404548Z",
     "start_time": "2025-02-22T17:21:00.398595Z"
    }
   },
   "cell_type": "code",
   "source": [
    "# Creamos una SERIE de tres colores diferentes\n",
    "colores = pd.Series(['Rojo', 'Amarillo', 'Negro'], name=\"Colores\")\n",
    "colores"
   ],
   "id": "3b5ff0ad1d11c34a",
   "outputs": [
    {
     "data": {
      "text/plain": [
       "0        Rojo\n",
       "1    Amarillo\n",
       "2       Negro\n",
       "Name: Colores, dtype: object"
      ]
     },
     "execution_count": 9,
     "metadata": {},
     "output_type": "execute_result"
    }
   ],
   "execution_count": 9
  },
  {
   "metadata": {
    "ExecuteTime": {
     "end_time": "2025-02-22T17:21:54.169282Z",
     "start_time": "2025-02-22T17:21:54.155942Z"
    }
   },
   "cell_type": "code",
   "source": [
    "# Creamos una serie con marcas de autos, y la visualizamos\n",
    "tipos_autos = pd.Series(['Mercedes', 'Volkswagen', 'Audi'], name=\"Autos\")\n",
    "tipos_autos"
   ],
   "id": "c522e256c41457ed",
   "outputs": [
    {
     "data": {
      "text/plain": [
       "0      Mercedes\n",
       "1    Volkswagen\n",
       "2          Audi\n",
       "Name: Autos, dtype: object"
      ]
     },
     "execution_count": 15,
     "metadata": {},
     "output_type": "execute_result"
    }
   ],
   "execution_count": 15
  },
  {
   "metadata": {
    "ExecuteTime": {
     "end_time": "2025-02-22T17:21:56.639650Z",
     "start_time": "2025-02-22T17:21:56.630717Z"
    }
   },
   "cell_type": "code",
   "source": [
    "# Combinamos las series de tipos de autos y colores en un {DATAFRAME}\n",
    "autos = pd.DataFrame({'Marcas de Auto' : tipos_autos, 'Colores' : colores})\n",
    "autos\n"
   ],
   "id": "bb485d124a7cbb17",
   "outputs": [
    {
     "data": {
      "text/plain": [
       "  Marcas de Auto   Colores\n",
       "0       Mercedes      Rojo\n",
       "1     Volkswagen  Amarillo\n",
       "2           Audi     Negro"
      ],
      "text/html": [
       "<div>\n",
       "<style scoped>\n",
       "    .dataframe tbody tr th:only-of-type {\n",
       "        vertical-align: middle;\n",
       "    }\n",
       "\n",
       "    .dataframe tbody tr th {\n",
       "        vertical-align: top;\n",
       "    }\n",
       "\n",
       "    .dataframe thead th {\n",
       "        text-align: right;\n",
       "    }\n",
       "</style>\n",
       "<table border=\"1\" class=\"dataframe\">\n",
       "  <thead>\n",
       "    <tr style=\"text-align: right;\">\n",
       "      <th></th>\n",
       "      <th>Marcas de Auto</th>\n",
       "      <th>Colores</th>\n",
       "    </tr>\n",
       "  </thead>\n",
       "  <tbody>\n",
       "    <tr>\n",
       "      <th>0</th>\n",
       "      <td>Mercedes</td>\n",
       "      <td>Rojo</td>\n",
       "    </tr>\n",
       "    <tr>\n",
       "      <th>1</th>\n",
       "      <td>Volkswagen</td>\n",
       "      <td>Amarillo</td>\n",
       "    </tr>\n",
       "    <tr>\n",
       "      <th>2</th>\n",
       "      <td>Audi</td>\n",
       "      <td>Negro</td>\n",
       "    </tr>\n",
       "  </tbody>\n",
       "</table>\n",
       "</div>"
      ]
     },
     "execution_count": 16,
     "metadata": {},
     "output_type": "execute_result"
    }
   ],
   "execution_count": 16
  },
  {
   "metadata": {
    "ExecuteTime": {
     "end_time": "2025-02-22T17:26:22.457990Z",
     "start_time": "2025-02-22T17:26:22.443391Z"
    }
   },
   "cell_type": "code",
   "source": [
    "# Working with Pandas Dataframes ' Save Dataframes in excel\n",
    "\n",
    "wb = Workbook()\n",
    "ws = wb.active\n",
    "\n",
    "for row in dataframe_to_rows(autos, index=True, header=True):\n",
    "    ws.append(row)\n",
    "\n",
    "# print(ws[1]) (<Cell 'Sheet'.A1>, <Cell 'Sheet'.B1>, <Cell 'Sheet'.C1>)\n",
    "\n",
    "for cell in ws['A'] + ws[1]:\n",
    "    print(cell)\n",
    "    cell.style = 'Pandas'\n",
    "\n",
    "wb.save(\"pandas_openpyxl.xlsx\")\n",
    "wb.close()"
   ],
   "id": "f1e4d868c5d7d192",
   "outputs": [
    {
     "name": "stdout",
     "output_type": "stream",
     "text": [
      "<Cell 'Sheet'.A1>\n",
      "<Cell 'Sheet'.A2>\n",
      "<Cell 'Sheet'.A3>\n",
      "<Cell 'Sheet'.A4>\n",
      "<Cell 'Sheet'.A5>\n",
      "<Cell 'Sheet'.A1>\n",
      "<Cell 'Sheet'.B1>\n",
      "<Cell 'Sheet'.C1>\n"
     ]
    }
   ],
   "execution_count": 22
  },
  {
   "metadata": {
    "ExecuteTime": {
     "end_time": "2025-02-22T17:29:32.086724Z",
     "start_time": "2025-02-22T17:29:32.038459Z"
    }
   },
   "cell_type": "code",
   "source": [
    "# Converting a worksheet to a Dataframe\n",
    "\n",
    "file_name = 'pandas_openpyxl.xlsx'\n",
    "df = pd.read_excel(file_name)\n",
    "df\n"
   ],
   "id": "33394a90f0989d45",
   "outputs": [
    {
     "data": {
      "text/plain": [
       "   Unnamed: 0 Marcas de Auto   Colores\n",
       "0         NaN            NaN       NaN\n",
       "1         0.0       Mercedes      Rojo\n",
       "2         1.0     Volkswagen  Amarillo\n",
       "3         2.0           Audi     Negro"
      ],
      "text/html": [
       "<div>\n",
       "<style scoped>\n",
       "    .dataframe tbody tr th:only-of-type {\n",
       "        vertical-align: middle;\n",
       "    }\n",
       "\n",
       "    .dataframe tbody tr th {\n",
       "        vertical-align: top;\n",
       "    }\n",
       "\n",
       "    .dataframe thead th {\n",
       "        text-align: right;\n",
       "    }\n",
       "</style>\n",
       "<table border=\"1\" class=\"dataframe\">\n",
       "  <thead>\n",
       "    <tr style=\"text-align: right;\">\n",
       "      <th></th>\n",
       "      <th>Unnamed: 0</th>\n",
       "      <th>Marcas de Auto</th>\n",
       "      <th>Colores</th>\n",
       "    </tr>\n",
       "  </thead>\n",
       "  <tbody>\n",
       "    <tr>\n",
       "      <th>0</th>\n",
       "      <td>NaN</td>\n",
       "      <td>NaN</td>\n",
       "      <td>NaN</td>\n",
       "    </tr>\n",
       "    <tr>\n",
       "      <th>1</th>\n",
       "      <td>0.0</td>\n",
       "      <td>Mercedes</td>\n",
       "      <td>Rojo</td>\n",
       "    </tr>\n",
       "    <tr>\n",
       "      <th>2</th>\n",
       "      <td>1.0</td>\n",
       "      <td>Volkswagen</td>\n",
       "      <td>Amarillo</td>\n",
       "    </tr>\n",
       "    <tr>\n",
       "      <th>3</th>\n",
       "      <td>2.0</td>\n",
       "      <td>Audi</td>\n",
       "      <td>Negro</td>\n",
       "    </tr>\n",
       "  </tbody>\n",
       "</table>\n",
       "</div>"
      ]
     },
     "execution_count": 23,
     "metadata": {},
     "output_type": "execute_result"
    }
   ],
   "execution_count": 23
  },
  {
   "metadata": {
    "ExecuteTime": {
     "end_time": "2025-02-22T03:25:42.735553Z",
     "start_time": "2025-02-22T03:25:42.719560Z"
    }
   },
   "cell_type": "code",
   "source": [
    "new_file_name = \"pandas_to_excel.xlsx\"\n",
    "\n",
    "autos.to_excel(new_file_name)"
   ],
   "id": "e10785d31e04a4f",
   "outputs": [],
   "execution_count": 10
  }
 ],
 "metadata": {
  "kernelspec": {
   "display_name": "Python 3",
   "language": "python",
   "name": "python3"
  },
  "language_info": {
   "codemirror_mode": {
    "name": "ipython",
    "version": 2
   },
   "file_extension": ".py",
   "mimetype": "text/x-python",
   "name": "python",
   "nbconvert_exporter": "python",
   "pygments_lexer": "ipython2",
   "version": "2.7.6"
  }
 },
 "nbformat": 4,
 "nbformat_minor": 5
}
